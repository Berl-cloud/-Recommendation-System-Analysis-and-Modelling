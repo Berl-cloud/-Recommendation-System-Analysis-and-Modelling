{
 "cells": [
  {
   "cell_type": "markdown",
   "id": "1caceb8e",
   "metadata": {
    "id": "1caceb8e"
   },
   "source": [
    "> **Project Title:**  Recommendation System Analysis and Modelling<br>\n",
    "> **Project Owner:** Berlinda Anaman<br>\n",
    "> **Email:** Berlana.d@gmail.com<br>\n",
    "> **Github Profile:** [Berlinda Anaman](https://github.com/Berl-cloud)<br>\n",
    "> **LinkedIn Profile:** [Berlinda Anaman](https://www.linkedin.com/in/berlinda-anaman/)"
   ]
  },
  {
   "cell_type": "markdown",
   "id": "1aa8b984",
   "metadata": {
    "id": "1aa8b984"
   },
   "source": [
    " "
   ]
  },
  {
   "cell_type": "markdown",
   "id": "dbb7bc47",
   "metadata": {
    "id": "dbb7bc47"
   },
   "source": [
    " "
   ]
  },
  {
   "cell_type": "markdown",
   "id": "098783eb",
   "metadata": {
    "id": "098783eb"
   },
   "source": [
    "## Table of Contents<a id='mu'></a>\n",
    "\n",
    "* [Business Problem Understanding](#bpu)\n",
    "    * [Problem Statement](#ps)\n",
    "    * [Hypothesis](#hs)\n",
    "    * [Project Goal](#pg)\n",
    "    * [Information Needed](#in)\n",
    "    * [Methodology](#my)\n",
    "* [Data Preparation](#dp)\n",
    "    * [Data Quality Assessment](#dqa)\n",
    "    * [Data Cleaning and Preprocessing](#dcp)\n",
    "* [Exploratory Data Analysis](#eda)\n",
    "* [Statistical Analysis](#sa)\n",
    "    * [Removing Outliers](#ro)\n",
    "    * [Hypothesis Test](#ht)\n",
    "* [Modeling and Evaluation](#dm)\n",
    "    * [Data Understanding](#du)\n",
    "        * [Descriptive Statistics](#ds)\n",
    "        * [Data Visualization](#dv)\n",
    "    * [Feature Engineering and Selection](#fes)\n",
    "    * [Splitting Dataset](#sd)\n",
    "    * [Hyperparameter Tuning](#pt)\n",
    "    * [Finalizing Model](#fm)\n",
    "    * [Model Understanding](#mu)\n",
    "    * [Save Model](#sm)\n",
    "* [Conclusion and Recommendation](#cr)\n",
    "* [References](#r)"
   ]
  },
  {
   "cell_type": "markdown",
   "id": "6def28cc",
   "metadata": {
    "id": "6def28cc"
   },
   "source": [
    " "
   ]
  },
  {
   "cell_type": "markdown",
   "id": "8015d14f",
   "metadata": {
    "id": "8015d14f"
   },
   "source": [
    " "
   ]
  },
  {
   "cell_type": "markdown",
   "id": "38baa176",
   "metadata": {
    "id": "38baa176"
   },
   "source": [
    "## 1. Business Problem Understanding<a id='bpu'></a>\n",
    "\n",
    "[Move Up](#mu)"
   ]
  },
  {
   "cell_type": "markdown",
   "id": "a095fc83",
   "metadata": {
    "id": "a095fc83"
   },
   "source": [
    "<p style=\"text-align:justify;\">The first step in approaching a data analytics problem is problem understanding. This step is very important since it allows us to know the kind of decisions we want to make, the information or data that will be needed to inform those decisions and finally, the kind of analysis that will be used to arrive at those decisions. In a nutshell, developing a mental model of the problem allows us to properly structure potentially relevant information needed to solve the problem.</p>"
   ]
  },
  {
   "cell_type": "markdown",
   "id": "c52af2d2",
   "metadata": {
    "id": "c52af2d2"
   },
   "source": [
    " "
   ]
  },
  {
   "cell_type": "markdown",
   "id": "5797ff75",
   "metadata": {
    "id": "5797ff75"
   },
   "source": [
    " "
   ]
  },
  {
   "cell_type": "markdown",
   "id": "06a216c7",
   "metadata": {
    "id": "06a216c7"
   },
   "source": [
    "## 1. Problem Statement <a id='ps'></a>\n",
    "\n",
    "The rapid growth of digital platforms has led to an overwhelming amount of available content. Users often struggle to discover relevant items that align with their preferences, resulting in lower engagement and satisfaction. Businesses, in turn, face challenges in delivering personalized recommendations that keep users active and loyal.\n",
    "The problem is to design and model a recommendation system that predicts user preferences and provides accurate, personalized suggestions, thereby improving user experience and business outcomes."
   ]
  },
  {
   "cell_type": "markdown",
   "id": "b9942bd0",
   "metadata": {
    "id": "b9942bd0"
   },
   "source": [
    " "
   ]
  },
  {
   "cell_type": "markdown",
   "id": "787eed74",
   "metadata": {},
   "source": [
    "### 1.1 Hypothesis <a id='hs'></a>\n",
    "\n",
    "- Users with similar historical behavior will likely interact with similar items.\n",
    "\n",
    "- Item similarity (e.g., genre, category, features) can be leveraged to make meaningful recommendations.\n",
    "\n",
    "- Hybrid approaches that combine collaborative and content-based filtering will outperform simple popularity-based methods.\n",
    "\n",
    "- Increasing personalization will lead to measurable improvements in user engagement metrics such as click-through rates and repeat interactions."
   ]
  },
  {
   "cell_type": "markdown",
   "id": "ab7f0eae",
   "metadata": {
    "id": "ab7f0eae"
   },
   "source": [
    " "
   ]
  },
  {
   "cell_type": "markdown",
   "id": "e4e2b2c6",
   "metadata": {
    "id": "e4e2b2c6"
   },
   "source": [
    "### 1.2 Project Goal <a id='pg'></a>\n",
    "\n",
    "The goal of this project is to analyze an e-commerce data to:\n",
    "\n",
    "- Develop a recommendation system that provides personalized suggestions based on user behavior and interactions.\n",
    "\n",
    "- Utilize historical user data to make accurate predictions.\n",
    "\n",
    "- Enhance user engagement and satisfaction with relevant recommendations.\n",
    "\n",
    "- Increase business metrics like sales and conversion rates through personalization.\n",
    "\n",
    "- Ensure the system is scalable and performs in real-time with large datasets.\n",
    "\n",
    "- Balance the accuracy and diversity of recommendations to avoid monotony.\n",
    "\n",
    "- Create an algorithm to predict item properties in \"addtocart\" events using \"view\" event data"
   ]
  },
  {
   "cell_type": "markdown",
   "id": "1d5c794d",
   "metadata": {
    "id": "1d5c794d"
   },
   "source": [
    " "
   ]
  },
  {
   "cell_type": "markdown",
   "id": "1639d9e7",
   "metadata": {
    "id": "1639d9e7"
   },
   "source": [
    " "
   ]
  },
  {
   "cell_type": "markdown",
   "id": "1e820a92",
   "metadata": {
    "id": "1e820a92"
   },
   "source": [
    "### 1.3 Information Needed <a id='in'></a>\n",
    "\n",
    "To successfully carry out this project, we need:\n",
    "\n",
    "- Behavior Data: This data should contain the user's interaction details. The user's time of visit, clicks, items viewed, added to cart or bought.\n",
    "- Item Properties Data: This data should include information about the items available, their various categories and availability.\n"
   ]
  },
  {
   "cell_type": "markdown",
   "id": "90c8cb1e",
   "metadata": {
    "id": "90c8cb1e"
   },
   "source": [
    " "
   ]
  },
  {
   "cell_type": "markdown",
   "id": "b2b45c1c",
   "metadata": {
    "id": "b2b45c1c"
   },
   "source": [
    "### 1.4 Methodology <a id='my'></a> "
   ]
  },
  {
   "cell_type": "markdown",
   "id": "1190b168",
   "metadata": {},
   "source": [
    "This project will follow the **CRISP-DM (Cross-Industry Standard Process for Data Mining) framework**. This involves several detailed stages:\n",
    "\n",
    "1.  **Business Understanding:**\n",
    "    * Develop a business problem and at least seven analytical questions for the project. \n",
    "    \n",
    "    <br>\n",
    "    \n",
    "2.  **Data Understanding and Preprocessing:**\n",
    "    * Read and understand the dataset documentation to properly comprehend the data.\n",
    "    * Handle large datasets, clean the data, and perform extensive feature engineering.\n",
    "    * Identify and remove abnormal users to improve the recommendation system's efficiency.\n",
    "\n",
    "    <br>\n",
    "\n",
    "3.  **Modeling and Evaluation:**\n",
    "    * Develop the recommendation system using appropriate machine learning techniques.\n",
    "    * Create an algorithm to predict item properties in \"addtocart\" events using \"view\" event data.\n",
    "    * Build a model to identify abnormal users in the e-commerce data.\n",
    "    * Develop a metric to evaluate the quality of the model.\n",
    "    * Evaluate the performance of the recommendation system models.\n",
    "\n",
    "    <br>\n",
    "\n",
    "4.  **Deployment (Communication of Results):**\n",
    "    * Develop appropriate visualizations to communicate insights and answer business questions.\n",
    "    * Provide comprehensive conclusions with actionable solutions based on the analysis.\n",
    "    * Create a presentation that highlights the business questions, methodology, results, and key insights.\n",
    "    * Write comprehensive documentation in a `README` file that makes the project reproducible and easy to understand."
   ]
  },
  {
   "cell_type": "markdown",
   "id": "1319097a",
   "metadata": {
    "id": "1319097a"
   },
   "source": [
    "<p style=\"text-align:justify;\">The methodology that will be used for our project will largely depend on the goals we set out to achieve. The methodlogy framework below gives us a comprehensive guide on the methodology apparoach that will help us achieve our goals.</p>\n",
    "<br>\n",
    "<p style=\"text-align:center;font-weight:bold;font-size:20px\"> Methodology Framework</p>\n",
    "<br>\n",
    "<img src='https://artofdatablog.files.wordpress.com/2017/10/methodology-map.jpg' style=\"float:center;width:700px;\">\n"
   ]
  },
  {
   "cell_type": "markdown",
   "id": "1f35fb7e",
   "metadata": {},
   "source": [
    "Based on the methodology framework above, the methodology for this project would be guided by the type of business problem being addressed.\n",
    "\n",
    "### Business Problem\n",
    "The project has two main business problems to solve:\n",
    "1.  **Developing a recommendation system:** This involves predicting which items a user will like or interact with.\n",
    "2.  **Identifying abnormal users:** This is a classification problem, where users are categorized as either \"normal\" or \"abnormal.\"\n",
    "\n",
    "### Predicting Outcome\n",
    "For the recommendation system, we are looking at **predicting an outcome** based on **data-rich** information, specifically user behavior and item properties. For the modeling phase, we will address two distinct problems that fall under the \"Predict Outcome\" category:\n",
    "\n",
    "**1. Predicting Item Properties for \"Add to Cart\" Events**\n",
    "This is a non-binary classification problem. The goal is to predict the specific properties of an item that a user adds to their cart, based on their \"view\" events. The outcome isn't a simple yes/no, but rather a prediction from a set of possible property values. Appropriate models from the image for this task include:\n",
    "- Forest Model\n",
    "- Boosted Model\n",
    "\n",
    "**2. Identifying Abnormal Users**\n",
    "This is a binary classification problem. The goal is to classify a user as either \"normal\" or \"abnormal\". The outcome is a binary choice: the user is either one or the other. This type of analysis is crucial for data cleaning and improving the effectiveness of the recommendation system. Models suitable for this task include:\n",
    "- Logistic Regression\n",
    "- Decision Tree\n",
    "\n",
    "### Data Analysis\n",
    "The project also involves **Data Analysis**, which includes understanding the data, finding insights, and preparing it for the models.\n",
    "* **Segmentation:** You can segment users based on their behavior (e.g., frequent shoppers vs. occasional browsers) or items based on their properties or categories.\n",
    "* **Descriptive Analysis:** This will be used to understand the dataset, such as the total number of unique visitors, event types, and items. This includes summarizing key statistics and creating initial visualizations."
   ]
  },
  {
   "cell_type": "markdown",
   "id": "baec901e",
   "metadata": {
    "id": "baec901e"
   },
   "source": [
    " "
   ]
  },
  {
   "cell_type": "markdown",
   "id": "abe0e125",
   "metadata": {
    "id": "abe0e125"
   },
   "source": [
    " "
   ]
  },
  {
   "cell_type": "markdown",
   "id": "e8e72e37",
   "metadata": {
    "id": "e8e72e37"
   },
   "source": [
    "## 2. Data Preparation <a id='dp'></a>\n",
    "\n",
    "[Move Up](#mu)\n",
    "\n",
    "An understanding of the data coupled with problem understanding will help us in cleaning and preparing our data for analysis. It is usually rare to acquire a ready-to-use data for any analysis without some level of preparation. To prepare our data, we normally assess the quality of the data, cleanse, format, blend and sample the data since we may encounter various issues with columns in our data. These issues may include:\n",
    "\n",
    "* **`Missing values:`** meaning column values are incomplete\n",
    "* **`Incorrect data:`** meaning you see values not expected for the column name\n",
    "* **`Inconsistent values:`** meaning some values may fall outside the expected range\n",
    "* **`Duplicate values:`** meaning whether or not there are duplicate values\n",
    "* **`Inconsistent data type:`** meaning values entered in the columns may not be consistent with the column names\n",
    "\n",
    "To properly prepare our data for analysis, we will perform two important tasks which are;\n",
    "\n",
    "* Part I: Data Quality Assessment\n",
    "* Part II: Data Cleaning and Preprocessing"
   ]
  },
  {
   "cell_type": "markdown",
   "id": "10e94a5b",
   "metadata": {
    "id": "10e94a5b"
   },
   "source": [
    " "
   ]
  },
  {
   "cell_type": "markdown",
   "id": "aedc4e47",
   "metadata": {
    "id": "aedc4e47"
   },
   "source": [
    " "
   ]
  },
  {
   "cell_type": "markdown",
   "id": "6b927584",
   "metadata": {
    "id": "6b927584"
   },
   "source": [
    "### 2.1 Data Quality Assessment <a id='dqa'></a>\n",
    "\n",
    "<p style=\"text-align:justify;\">The first task that we will perform under the data preparation step is initial assessment of the quality of data which will easily allow us to properly clean our data. We will use this section to write any code necesary for inspecting the dataset. Once completed, we will leave our report in the Data Quality Report Document.\n",
    "\n",
    "At the end of our inspection, we will provide a summary of all of our findings.</p>"
   ]
  },
  {
   "cell_type": "code",
   "execution_count": 1,
   "id": "0Yi8YswoaEN1",
   "metadata": {
    "id": "0Yi8YswoaEN1"
   },
   "outputs": [],
   "source": [
    "# import all libraries here\n",
    "\n",
    "import pandas as pd\n",
    "import numpy as np\n",
    "import matplotlib.pyplot as plt\n",
    "import seaborn as sns\n",
    "import plotly.express as px\n",
    "import plotly.figure_factory as ff"
   ]
  },
  {
   "cell_type": "markdown",
   "id": "17ef6766",
   "metadata": {
    "id": "17ef6766"
   },
   "source": [
    " "
   ]
  },
  {
   "cell_type": "markdown",
   "id": "64af8f37",
   "metadata": {},
   "source": [
    "<center><H4>Data Sample</H4></center>"
   ]
  },
  {
   "cell_type": "code",
   "execution_count": 2,
   "id": "69d8f980",
   "metadata": {},
   "outputs": [
    {
     "data": {
      "text/html": [
       "<div>\n",
       "<style scoped>\n",
       "    .dataframe tbody tr th:only-of-type {\n",
       "        vertical-align: middle;\n",
       "    }\n",
       "\n",
       "    .dataframe tbody tr th {\n",
       "        vertical-align: top;\n",
       "    }\n",
       "\n",
       "    .dataframe thead th {\n",
       "        text-align: right;\n",
       "    }\n",
       "</style>\n",
       "<table border=\"1\" class=\"dataframe\">\n",
       "  <thead>\n",
       "    <tr style=\"text-align: right;\">\n",
       "      <th></th>\n",
       "      <th>timestamp</th>\n",
       "      <th>visitorid</th>\n",
       "      <th>event</th>\n",
       "      <th>itemid</th>\n",
       "      <th>transactionid</th>\n",
       "    </tr>\n",
       "  </thead>\n",
       "  <tbody>\n",
       "    <tr>\n",
       "      <th>0</th>\n",
       "      <td>1433221332117</td>\n",
       "      <td>257597</td>\n",
       "      <td>view</td>\n",
       "      <td>355908</td>\n",
       "      <td>NaN</td>\n",
       "    </tr>\n",
       "    <tr>\n",
       "      <th>1</th>\n",
       "      <td>1433224214164</td>\n",
       "      <td>992329</td>\n",
       "      <td>view</td>\n",
       "      <td>248676</td>\n",
       "      <td>NaN</td>\n",
       "    </tr>\n",
       "    <tr>\n",
       "      <th>2</th>\n",
       "      <td>1433221999827</td>\n",
       "      <td>111016</td>\n",
       "      <td>view</td>\n",
       "      <td>318965</td>\n",
       "      <td>NaN</td>\n",
       "    </tr>\n",
       "    <tr>\n",
       "      <th>3</th>\n",
       "      <td>1433221955914</td>\n",
       "      <td>483717</td>\n",
       "      <td>view</td>\n",
       "      <td>253185</td>\n",
       "      <td>NaN</td>\n",
       "    </tr>\n",
       "    <tr>\n",
       "      <th>4</th>\n",
       "      <td>1433221337106</td>\n",
       "      <td>951259</td>\n",
       "      <td>view</td>\n",
       "      <td>367447</td>\n",
       "      <td>NaN</td>\n",
       "    </tr>\n",
       "  </tbody>\n",
       "</table>\n",
       "</div>"
      ],
      "text/plain": [
       "       timestamp  visitorid event  itemid  transactionid\n",
       "0  1433221332117     257597  view  355908            NaN\n",
       "1  1433224214164     992329  view  248676            NaN\n",
       "2  1433221999827     111016  view  318965            NaN\n",
       "3  1433221955914     483717  view  253185            NaN\n",
       "4  1433221337106     951259  view  367447            NaN"
      ]
     },
     "execution_count": 2,
     "metadata": {},
     "output_type": "execute_result"
    }
   ],
   "source": [
    "event = pd.read_csv(\"../Data/events.csv\")\n",
    "event.head()"
   ]
  },
  {
   "cell_type": "code",
   "execution_count": 3,
   "id": "022e7dcf",
   "metadata": {},
   "outputs": [
    {
     "data": {
      "text/html": [
       "<div>\n",
       "<style scoped>\n",
       "    .dataframe tbody tr th:only-of-type {\n",
       "        vertical-align: middle;\n",
       "    }\n",
       "\n",
       "    .dataframe tbody tr th {\n",
       "        vertical-align: top;\n",
       "    }\n",
       "\n",
       "    .dataframe thead th {\n",
       "        text-align: right;\n",
       "    }\n",
       "</style>\n",
       "<table border=\"1\" class=\"dataframe\">\n",
       "  <thead>\n",
       "    <tr style=\"text-align: right;\">\n",
       "      <th></th>\n",
       "      <th>categoryid</th>\n",
       "      <th>parentid</th>\n",
       "    </tr>\n",
       "  </thead>\n",
       "  <tbody>\n",
       "    <tr>\n",
       "      <th>0</th>\n",
       "      <td>1016</td>\n",
       "      <td>213.0</td>\n",
       "    </tr>\n",
       "    <tr>\n",
       "      <th>1</th>\n",
       "      <td>809</td>\n",
       "      <td>169.0</td>\n",
       "    </tr>\n",
       "    <tr>\n",
       "      <th>2</th>\n",
       "      <td>570</td>\n",
       "      <td>9.0</td>\n",
       "    </tr>\n",
       "    <tr>\n",
       "      <th>3</th>\n",
       "      <td>1691</td>\n",
       "      <td>885.0</td>\n",
       "    </tr>\n",
       "    <tr>\n",
       "      <th>4</th>\n",
       "      <td>536</td>\n",
       "      <td>1691.0</td>\n",
       "    </tr>\n",
       "  </tbody>\n",
       "</table>\n",
       "</div>"
      ],
      "text/plain": [
       "   categoryid  parentid\n",
       "0        1016     213.0\n",
       "1         809     169.0\n",
       "2         570       9.0\n",
       "3        1691     885.0\n",
       "4         536    1691.0"
      ]
     },
     "execution_count": 3,
     "metadata": {},
     "output_type": "execute_result"
    }
   ],
   "source": [
    "cat = pd.read_csv(\"../Data/category_tree.csv\")\n",
    "cat.head()"
   ]
  },
  {
   "cell_type": "code",
   "execution_count": 4,
   "id": "6f79d334",
   "metadata": {},
   "outputs": [
    {
     "data": {
      "text/html": [
       "<div>\n",
       "<style scoped>\n",
       "    .dataframe tbody tr th:only-of-type {\n",
       "        vertical-align: middle;\n",
       "    }\n",
       "\n",
       "    .dataframe tbody tr th {\n",
       "        vertical-align: top;\n",
       "    }\n",
       "\n",
       "    .dataframe thead th {\n",
       "        text-align: right;\n",
       "    }\n",
       "</style>\n",
       "<table border=\"1\" class=\"dataframe\">\n",
       "  <thead>\n",
       "    <tr style=\"text-align: right;\">\n",
       "      <th></th>\n",
       "      <th>timestamp</th>\n",
       "      <th>itemid</th>\n",
       "      <th>property</th>\n",
       "      <th>value</th>\n",
       "    </tr>\n",
       "  </thead>\n",
       "  <tbody>\n",
       "    <tr>\n",
       "      <th>0</th>\n",
       "      <td>1435460400000</td>\n",
       "      <td>460429</td>\n",
       "      <td>categoryid</td>\n",
       "      <td>1338</td>\n",
       "    </tr>\n",
       "    <tr>\n",
       "      <th>1</th>\n",
       "      <td>1441508400000</td>\n",
       "      <td>206783</td>\n",
       "      <td>888</td>\n",
       "      <td>1116713 960601 n277.200</td>\n",
       "    </tr>\n",
       "    <tr>\n",
       "      <th>2</th>\n",
       "      <td>1439089200000</td>\n",
       "      <td>395014</td>\n",
       "      <td>400</td>\n",
       "      <td>n552.000 639502 n720.000 424566</td>\n",
       "    </tr>\n",
       "    <tr>\n",
       "      <th>3</th>\n",
       "      <td>1431226800000</td>\n",
       "      <td>59481</td>\n",
       "      <td>790</td>\n",
       "      <td>n15360.000</td>\n",
       "    </tr>\n",
       "    <tr>\n",
       "      <th>4</th>\n",
       "      <td>1431831600000</td>\n",
       "      <td>156781</td>\n",
       "      <td>917</td>\n",
       "      <td>828513</td>\n",
       "    </tr>\n",
       "  </tbody>\n",
       "</table>\n",
       "</div>"
      ],
      "text/plain": [
       "       timestamp  itemid    property                            value\n",
       "0  1435460400000  460429  categoryid                             1338\n",
       "1  1441508400000  206783         888          1116713 960601 n277.200\n",
       "2  1439089200000  395014         400  n552.000 639502 n720.000 424566\n",
       "3  1431226800000   59481         790                       n15360.000\n",
       "4  1431831600000  156781         917                           828513"
      ]
     },
     "execution_count": 4,
     "metadata": {},
     "output_type": "execute_result"
    }
   ],
   "source": [
    "item1 = pd.read_csv(\"../Data/item_properties_part1.1.csv\")\n",
    "item1.head()"
   ]
  },
  {
   "cell_type": "code",
   "execution_count": 5,
   "id": "9c364311",
   "metadata": {
    "scrolled": false
   },
   "outputs": [
    {
     "data": {
      "text/html": [
       "<div>\n",
       "<style scoped>\n",
       "    .dataframe tbody tr th:only-of-type {\n",
       "        vertical-align: middle;\n",
       "    }\n",
       "\n",
       "    .dataframe tbody tr th {\n",
       "        vertical-align: top;\n",
       "    }\n",
       "\n",
       "    .dataframe thead th {\n",
       "        text-align: right;\n",
       "    }\n",
       "</style>\n",
       "<table border=\"1\" class=\"dataframe\">\n",
       "  <thead>\n",
       "    <tr style=\"text-align: right;\">\n",
       "      <th></th>\n",
       "      <th>timestamp</th>\n",
       "      <th>itemid</th>\n",
       "      <th>property</th>\n",
       "      <th>value</th>\n",
       "    </tr>\n",
       "  </thead>\n",
       "  <tbody>\n",
       "    <tr>\n",
       "      <th>0</th>\n",
       "      <td>1433041200000</td>\n",
       "      <td>183478</td>\n",
       "      <td>561</td>\n",
       "      <td>769062</td>\n",
       "    </tr>\n",
       "    <tr>\n",
       "      <th>1</th>\n",
       "      <td>1439694000000</td>\n",
       "      <td>132256</td>\n",
       "      <td>976</td>\n",
       "      <td>n26.400 1135780</td>\n",
       "    </tr>\n",
       "    <tr>\n",
       "      <th>2</th>\n",
       "      <td>1435460400000</td>\n",
       "      <td>420307</td>\n",
       "      <td>921</td>\n",
       "      <td>1149317 1257525</td>\n",
       "    </tr>\n",
       "    <tr>\n",
       "      <th>3</th>\n",
       "      <td>1431831600000</td>\n",
       "      <td>403324</td>\n",
       "      <td>917</td>\n",
       "      <td>1204143</td>\n",
       "    </tr>\n",
       "    <tr>\n",
       "      <th>4</th>\n",
       "      <td>1435460400000</td>\n",
       "      <td>230701</td>\n",
       "      <td>521</td>\n",
       "      <td>769062</td>\n",
       "    </tr>\n",
       "  </tbody>\n",
       "</table>\n",
       "</div>"
      ],
      "text/plain": [
       "       timestamp  itemid property            value\n",
       "0  1433041200000  183478      561           769062\n",
       "1  1439694000000  132256      976  n26.400 1135780\n",
       "2  1435460400000  420307      921  1149317 1257525\n",
       "3  1431831600000  403324      917          1204143\n",
       "4  1435460400000  230701      521           769062"
      ]
     },
     "execution_count": 5,
     "metadata": {},
     "output_type": "execute_result"
    }
   ],
   "source": [
    "item2 = pd.read_csv(\"../Data/item_properties_part2.csv\")\n",
    "item2.head()"
   ]
  },
  {
   "cell_type": "markdown",
   "id": "7105146e",
   "metadata": {},
   "source": [
    "<center><H4>Data Information</H4></center>"
   ]
  },
  {
   "cell_type": "code",
   "execution_count": 6,
   "id": "f75d1539",
   "metadata": {},
   "outputs": [
    {
     "name": "stdout",
     "output_type": "stream",
     "text": [
      "events info\n",
      "<class 'pandas.core.frame.DataFrame'>\n",
      "RangeIndex: 2756101 entries, 0 to 2756100\n",
      "Data columns (total 5 columns):\n",
      " #   Column         Dtype  \n",
      "---  ------         -----  \n",
      " 0   timestamp      int64  \n",
      " 1   visitorid      int64  \n",
      " 2   event          object \n",
      " 3   itemid         int64  \n",
      " 4   transactionid  float64\n",
      "dtypes: float64(1), int64(3), object(1)\n",
      "memory usage: 105.1+ MB\n",
      "\n",
      " category info\n",
      "<class 'pandas.core.frame.DataFrame'>\n",
      "RangeIndex: 1669 entries, 0 to 1668\n",
      "Data columns (total 2 columns):\n",
      " #   Column      Non-Null Count  Dtype  \n",
      "---  ------      --------------  -----  \n",
      " 0   categoryid  1669 non-null   int64  \n",
      " 1   parentid    1644 non-null   float64\n",
      "dtypes: float64(1), int64(1)\n",
      "memory usage: 26.2 KB\n",
      "\n",
      " item1 info\n",
      "<class 'pandas.core.frame.DataFrame'>\n",
      "RangeIndex: 10999999 entries, 0 to 10999998\n",
      "Data columns (total 4 columns):\n",
      " #   Column     Dtype \n",
      "---  ------     ----- \n",
      " 0   timestamp  int64 \n",
      " 1   itemid     int64 \n",
      " 2   property   object\n",
      " 3   value      object\n",
      "dtypes: int64(2), object(2)\n",
      "memory usage: 335.7+ MB\n",
      "\n",
      " item2 info\n",
      "<class 'pandas.core.frame.DataFrame'>\n",
      "RangeIndex: 9275903 entries, 0 to 9275902\n",
      "Data columns (total 4 columns):\n",
      " #   Column     Dtype \n",
      "---  ------     ----- \n",
      " 0   timestamp  int64 \n",
      " 1   itemid     int64 \n",
      " 2   property   object\n",
      " 3   value      object\n",
      "dtypes: int64(2), object(2)\n",
      "memory usage: 283.1+ MB\n"
     ]
    }
   ],
   "source": [
    "#data info\n",
    "\n",
    "print('events info')\n",
    "event.info()\n",
    "\n",
    "print('\\n category info')\n",
    "cat.info()\n",
    "\n",
    "print('\\n item1 info')\n",
    "item1.info()\n",
    "\n",
    "print('\\n item2 info')\n",
    "item2.info()"
   ]
  },
  {
   "cell_type": "markdown",
   "id": "78ace36f",
   "metadata": {},
   "source": [
    "> - `event` data has `2756101` rows and `5`columns.\n",
    "> - `category_tree` data has `1669` rows and `2`columns.\n",
    "> - `item_property1` data has `10999999` rows and `4`columns.\n",
    "> - `item_property2` data has `9275903` rows and `4`columns.\n",
    "> - `item_property1` and `item_property2` have similar features and the data documentation mentions the item properties data has been divided into two so we will merge them before we proceed with our quality assessment and cleaning"
   ]
  },
  {
   "cell_type": "code",
   "execution_count": 7,
   "id": "d9f53dc9",
   "metadata": {
    "scrolled": true
   },
   "outputs": [
    {
     "data": {
      "text/html": [
       "<div>\n",
       "<style scoped>\n",
       "    .dataframe tbody tr th:only-of-type {\n",
       "        vertical-align: middle;\n",
       "    }\n",
       "\n",
       "    .dataframe tbody tr th {\n",
       "        vertical-align: top;\n",
       "    }\n",
       "\n",
       "    .dataframe thead th {\n",
       "        text-align: right;\n",
       "    }\n",
       "</style>\n",
       "<table border=\"1\" class=\"dataframe\">\n",
       "  <thead>\n",
       "    <tr style=\"text-align: right;\">\n",
       "      <th></th>\n",
       "      <th>timestamp</th>\n",
       "      <th>itemid</th>\n",
       "      <th>property</th>\n",
       "      <th>value</th>\n",
       "    </tr>\n",
       "  </thead>\n",
       "  <tbody>\n",
       "    <tr>\n",
       "      <th>0</th>\n",
       "      <td>1435460400000</td>\n",
       "      <td>460429</td>\n",
       "      <td>categoryid</td>\n",
       "      <td>1338</td>\n",
       "    </tr>\n",
       "    <tr>\n",
       "      <th>1</th>\n",
       "      <td>1441508400000</td>\n",
       "      <td>206783</td>\n",
       "      <td>888</td>\n",
       "      <td>1116713 960601 n277.200</td>\n",
       "    </tr>\n",
       "    <tr>\n",
       "      <th>2</th>\n",
       "      <td>1439089200000</td>\n",
       "      <td>395014</td>\n",
       "      <td>400</td>\n",
       "      <td>n552.000 639502 n720.000 424566</td>\n",
       "    </tr>\n",
       "    <tr>\n",
       "      <th>3</th>\n",
       "      <td>1431226800000</td>\n",
       "      <td>59481</td>\n",
       "      <td>790</td>\n",
       "      <td>n15360.000</td>\n",
       "    </tr>\n",
       "    <tr>\n",
       "      <th>4</th>\n",
       "      <td>1431831600000</td>\n",
       "      <td>156781</td>\n",
       "      <td>917</td>\n",
       "      <td>828513</td>\n",
       "    </tr>\n",
       "  </tbody>\n",
       "</table>\n",
       "</div>"
      ],
      "text/plain": [
       "       timestamp  itemid    property                            value\n",
       "0  1435460400000  460429  categoryid                             1338\n",
       "1  1441508400000  206783         888          1116713 960601 n277.200\n",
       "2  1439089200000  395014         400  n552.000 639502 n720.000 424566\n",
       "3  1431226800000   59481         790                       n15360.000\n",
       "4  1431831600000  156781         917                           828513"
      ]
     },
     "execution_count": 7,
     "metadata": {},
     "output_type": "execute_result"
    }
   ],
   "source": [
    "# merging item1 and item2 data\n",
    "\n",
    "items = pd.concat([item1, item2], ignore_index=True)\n",
    "items.head()"
   ]
  },
  {
   "cell_type": "code",
   "execution_count": 8,
   "id": "c9abe0dd",
   "metadata": {
    "scrolled": true
   },
   "outputs": [
    {
     "name": "stdout",
     "output_type": "stream",
     "text": [
      "<class 'pandas.core.frame.DataFrame'>\n",
      "RangeIndex: 20275902 entries, 0 to 20275901\n",
      "Data columns (total 4 columns):\n",
      " #   Column     Dtype \n",
      "---  ------     ----- \n",
      " 0   timestamp  int64 \n",
      " 1   itemid     int64 \n",
      " 2   property   object\n",
      " 3   value      object\n",
      "dtypes: int64(2), object(2)\n",
      "memory usage: 618.8+ MB\n"
     ]
    }
   ],
   "source": [
    "items.info()"
   ]
  },
  {
   "cell_type": "markdown",
   "id": "c99fdb82",
   "metadata": {},
   "source": [
    "> The merged item data has `20275902` rows and `4` columns"
   ]
  },
  {
   "cell_type": "markdown",
   "id": "136d2cfa",
   "metadata": {},
   "source": [
    " "
   ]
  },
  {
   "cell_type": "markdown",
   "id": "d0713636",
   "metadata": {},
   "source": [
    "<center><H4>Basic Statistics</H4></center> "
   ]
  },
  {
   "cell_type": "code",
   "execution_count": 9,
   "id": "525253db",
   "metadata": {},
   "outputs": [
    {
     "name": "stdout",
     "output_type": "stream",
     "text": [
      "\n",
      " events statistics\n"
     ]
    },
    {
     "data": {
      "text/html": [
       "<div>\n",
       "<style scoped>\n",
       "    .dataframe tbody tr th:only-of-type {\n",
       "        vertical-align: middle;\n",
       "    }\n",
       "\n",
       "    .dataframe tbody tr th {\n",
       "        vertical-align: top;\n",
       "    }\n",
       "\n",
       "    .dataframe thead th {\n",
       "        text-align: right;\n",
       "    }\n",
       "</style>\n",
       "<table border=\"1\" class=\"dataframe\">\n",
       "  <thead>\n",
       "    <tr style=\"text-align: right;\">\n",
       "      <th></th>\n",
       "      <th>timestamp</th>\n",
       "      <th>visitorid</th>\n",
       "      <th>event</th>\n",
       "      <th>itemid</th>\n",
       "      <th>transactionid</th>\n",
       "    </tr>\n",
       "  </thead>\n",
       "  <tbody>\n",
       "    <tr>\n",
       "      <th>count</th>\n",
       "      <td>2.756101e+06</td>\n",
       "      <td>2.756101e+06</td>\n",
       "      <td>2756101</td>\n",
       "      <td>2.756101e+06</td>\n",
       "      <td>22457.000000</td>\n",
       "    </tr>\n",
       "    <tr>\n",
       "      <th>unique</th>\n",
       "      <td>NaN</td>\n",
       "      <td>NaN</td>\n",
       "      <td>3</td>\n",
       "      <td>NaN</td>\n",
       "      <td>NaN</td>\n",
       "    </tr>\n",
       "    <tr>\n",
       "      <th>top</th>\n",
       "      <td>NaN</td>\n",
       "      <td>NaN</td>\n",
       "      <td>view</td>\n",
       "      <td>NaN</td>\n",
       "      <td>NaN</td>\n",
       "    </tr>\n",
       "    <tr>\n",
       "      <th>freq</th>\n",
       "      <td>NaN</td>\n",
       "      <td>NaN</td>\n",
       "      <td>2664312</td>\n",
       "      <td>NaN</td>\n",
       "      <td>NaN</td>\n",
       "    </tr>\n",
       "    <tr>\n",
       "      <th>mean</th>\n",
       "      <td>1.436424e+12</td>\n",
       "      <td>7.019229e+05</td>\n",
       "      <td>NaN</td>\n",
       "      <td>2.349225e+05</td>\n",
       "      <td>8826.497796</td>\n",
       "    </tr>\n",
       "    <tr>\n",
       "      <th>std</th>\n",
       "      <td>3.366312e+09</td>\n",
       "      <td>4.056875e+05</td>\n",
       "      <td>NaN</td>\n",
       "      <td>1.341954e+05</td>\n",
       "      <td>5098.996290</td>\n",
       "    </tr>\n",
       "    <tr>\n",
       "      <th>min</th>\n",
       "      <td>1.430622e+12</td>\n",
       "      <td>0.000000e+00</td>\n",
       "      <td>NaN</td>\n",
       "      <td>3.000000e+00</td>\n",
       "      <td>0.000000</td>\n",
       "    </tr>\n",
       "    <tr>\n",
       "      <th>25%</th>\n",
       "      <td>1.433478e+12</td>\n",
       "      <td>3.505660e+05</td>\n",
       "      <td>NaN</td>\n",
       "      <td>1.181200e+05</td>\n",
       "      <td>4411.000000</td>\n",
       "    </tr>\n",
       "    <tr>\n",
       "      <th>50%</th>\n",
       "      <td>1.436453e+12</td>\n",
       "      <td>7.020600e+05</td>\n",
       "      <td>NaN</td>\n",
       "      <td>2.360670e+05</td>\n",
       "      <td>8813.000000</td>\n",
       "    </tr>\n",
       "    <tr>\n",
       "      <th>75%</th>\n",
       "      <td>1.439225e+12</td>\n",
       "      <td>1.053437e+06</td>\n",
       "      <td>NaN</td>\n",
       "      <td>3.507150e+05</td>\n",
       "      <td>13224.000000</td>\n",
       "    </tr>\n",
       "    <tr>\n",
       "      <th>max</th>\n",
       "      <td>1.442545e+12</td>\n",
       "      <td>1.407579e+06</td>\n",
       "      <td>NaN</td>\n",
       "      <td>4.668670e+05</td>\n",
       "      <td>17671.000000</td>\n",
       "    </tr>\n",
       "  </tbody>\n",
       "</table>\n",
       "</div>"
      ],
      "text/plain": [
       "           timestamp     visitorid    event        itemid  transactionid\n",
       "count   2.756101e+06  2.756101e+06  2756101  2.756101e+06   22457.000000\n",
       "unique           NaN           NaN        3           NaN            NaN\n",
       "top              NaN           NaN     view           NaN            NaN\n",
       "freq             NaN           NaN  2664312           NaN            NaN\n",
       "mean    1.436424e+12  7.019229e+05      NaN  2.349225e+05    8826.497796\n",
       "std     3.366312e+09  4.056875e+05      NaN  1.341954e+05    5098.996290\n",
       "min     1.430622e+12  0.000000e+00      NaN  3.000000e+00       0.000000\n",
       "25%     1.433478e+12  3.505660e+05      NaN  1.181200e+05    4411.000000\n",
       "50%     1.436453e+12  7.020600e+05      NaN  2.360670e+05    8813.000000\n",
       "75%     1.439225e+12  1.053437e+06      NaN  3.507150e+05   13224.000000\n",
       "max     1.442545e+12  1.407579e+06      NaN  4.668670e+05   17671.000000"
      ]
     },
     "metadata": {},
     "output_type": "display_data"
    },
    {
     "name": "stdout",
     "output_type": "stream",
     "text": [
      "\n",
      " category statistics\n"
     ]
    },
    {
     "data": {
      "text/html": [
       "<div>\n",
       "<style scoped>\n",
       "    .dataframe tbody tr th:only-of-type {\n",
       "        vertical-align: middle;\n",
       "    }\n",
       "\n",
       "    .dataframe tbody tr th {\n",
       "        vertical-align: top;\n",
       "    }\n",
       "\n",
       "    .dataframe thead th {\n",
       "        text-align: right;\n",
       "    }\n",
       "</style>\n",
       "<table border=\"1\" class=\"dataframe\">\n",
       "  <thead>\n",
       "    <tr style=\"text-align: right;\">\n",
       "      <th></th>\n",
       "      <th>categoryid</th>\n",
       "      <th>parentid</th>\n",
       "    </tr>\n",
       "  </thead>\n",
       "  <tbody>\n",
       "    <tr>\n",
       "      <th>count</th>\n",
       "      <td>1669.000000</td>\n",
       "      <td>1644.000000</td>\n",
       "    </tr>\n",
       "    <tr>\n",
       "      <th>mean</th>\n",
       "      <td>849.285201</td>\n",
       "      <td>847.571168</td>\n",
       "    </tr>\n",
       "    <tr>\n",
       "      <th>std</th>\n",
       "      <td>490.195116</td>\n",
       "      <td>505.058485</td>\n",
       "    </tr>\n",
       "    <tr>\n",
       "      <th>min</th>\n",
       "      <td>0.000000</td>\n",
       "      <td>8.000000</td>\n",
       "    </tr>\n",
       "    <tr>\n",
       "      <th>25%</th>\n",
       "      <td>427.000000</td>\n",
       "      <td>381.000000</td>\n",
       "    </tr>\n",
       "    <tr>\n",
       "      <th>50%</th>\n",
       "      <td>848.000000</td>\n",
       "      <td>866.000000</td>\n",
       "    </tr>\n",
       "    <tr>\n",
       "      <th>75%</th>\n",
       "      <td>1273.000000</td>\n",
       "      <td>1291.000000</td>\n",
       "    </tr>\n",
       "    <tr>\n",
       "      <th>max</th>\n",
       "      <td>1698.000000</td>\n",
       "      <td>1698.000000</td>\n",
       "    </tr>\n",
       "  </tbody>\n",
       "</table>\n",
       "</div>"
      ],
      "text/plain": [
       "        categoryid     parentid\n",
       "count  1669.000000  1644.000000\n",
       "mean    849.285201   847.571168\n",
       "std     490.195116   505.058485\n",
       "min       0.000000     8.000000\n",
       "25%     427.000000   381.000000\n",
       "50%     848.000000   866.000000\n",
       "75%    1273.000000  1291.000000\n",
       "max    1698.000000  1698.000000"
      ]
     },
     "metadata": {},
     "output_type": "display_data"
    },
    {
     "name": "stdout",
     "output_type": "stream",
     "text": [
      "\n",
      " items properties statistics\n"
     ]
    },
    {
     "data": {
      "text/html": [
       "<div>\n",
       "<style scoped>\n",
       "    .dataframe tbody tr th:only-of-type {\n",
       "        vertical-align: middle;\n",
       "    }\n",
       "\n",
       "    .dataframe tbody tr th {\n",
       "        vertical-align: top;\n",
       "    }\n",
       "\n",
       "    .dataframe thead th {\n",
       "        text-align: right;\n",
       "    }\n",
       "</style>\n",
       "<table border=\"1\" class=\"dataframe\">\n",
       "  <thead>\n",
       "    <tr style=\"text-align: right;\">\n",
       "      <th></th>\n",
       "      <th>timestamp</th>\n",
       "      <th>itemid</th>\n",
       "      <th>property</th>\n",
       "      <th>value</th>\n",
       "    </tr>\n",
       "  </thead>\n",
       "  <tbody>\n",
       "    <tr>\n",
       "      <th>count</th>\n",
       "      <td>2.027590e+07</td>\n",
       "      <td>2.027590e+07</td>\n",
       "      <td>20275902</td>\n",
       "      <td>20275902</td>\n",
       "    </tr>\n",
       "    <tr>\n",
       "      <th>unique</th>\n",
       "      <td>NaN</td>\n",
       "      <td>NaN</td>\n",
       "      <td>1104</td>\n",
       "      <td>1966868</td>\n",
       "    </tr>\n",
       "    <tr>\n",
       "      <th>top</th>\n",
       "      <td>NaN</td>\n",
       "      <td>NaN</td>\n",
       "      <td>888</td>\n",
       "      <td>769062</td>\n",
       "    </tr>\n",
       "    <tr>\n",
       "      <th>freq</th>\n",
       "      <td>NaN</td>\n",
       "      <td>NaN</td>\n",
       "      <td>3000398</td>\n",
       "      <td>1537247</td>\n",
       "    </tr>\n",
       "    <tr>\n",
       "      <th>mean</th>\n",
       "      <td>1.435157e+12</td>\n",
       "      <td>2.333904e+05</td>\n",
       "      <td>NaN</td>\n",
       "      <td>NaN</td>\n",
       "    </tr>\n",
       "    <tr>\n",
       "      <th>std</th>\n",
       "      <td>3.327798e+09</td>\n",
       "      <td>1.348452e+05</td>\n",
       "      <td>NaN</td>\n",
       "      <td>NaN</td>\n",
       "    </tr>\n",
       "    <tr>\n",
       "      <th>min</th>\n",
       "      <td>1.431227e+12</td>\n",
       "      <td>0.000000e+00</td>\n",
       "      <td>NaN</td>\n",
       "      <td>NaN</td>\n",
       "    </tr>\n",
       "    <tr>\n",
       "      <th>25%</th>\n",
       "      <td>1.432436e+12</td>\n",
       "      <td>1.165160e+05</td>\n",
       "      <td>NaN</td>\n",
       "      <td>NaN</td>\n",
       "    </tr>\n",
       "    <tr>\n",
       "      <th>50%</th>\n",
       "      <td>1.433646e+12</td>\n",
       "      <td>2.334830e+05</td>\n",
       "      <td>NaN</td>\n",
       "      <td>NaN</td>\n",
       "    </tr>\n",
       "    <tr>\n",
       "      <th>75%</th>\n",
       "      <td>1.437880e+12</td>\n",
       "      <td>3.503040e+05</td>\n",
       "      <td>NaN</td>\n",
       "      <td>NaN</td>\n",
       "    </tr>\n",
       "    <tr>\n",
       "      <th>max</th>\n",
       "      <td>1.442113e+12</td>\n",
       "      <td>4.668660e+05</td>\n",
       "      <td>NaN</td>\n",
       "      <td>NaN</td>\n",
       "    </tr>\n",
       "  </tbody>\n",
       "</table>\n",
       "</div>"
      ],
      "text/plain": [
       "           timestamp        itemid  property     value\n",
       "count   2.027590e+07  2.027590e+07  20275902  20275902\n",
       "unique           NaN           NaN      1104   1966868\n",
       "top              NaN           NaN       888    769062\n",
       "freq             NaN           NaN   3000398   1537247\n",
       "mean    1.435157e+12  2.333904e+05       NaN       NaN\n",
       "std     3.327798e+09  1.348452e+05       NaN       NaN\n",
       "min     1.431227e+12  0.000000e+00       NaN       NaN\n",
       "25%     1.432436e+12  1.165160e+05       NaN       NaN\n",
       "50%     1.433646e+12  2.334830e+05       NaN       NaN\n",
       "75%     1.437880e+12  3.503040e+05       NaN       NaN\n",
       "max     1.442113e+12  4.668660e+05       NaN       NaN"
      ]
     },
     "metadata": {},
     "output_type": "display_data"
    }
   ],
   "source": [
    "# Inspect summary statistics\n",
    "\n",
    "print('\\n events statistics')\n",
    "display(event.describe(include='all'))\n",
    "\n",
    "print('\\n category statistics')\n",
    "display(cat.describe(include='all'))\n",
    "\n",
    "print('\\n items properties statistics')\n",
    "display(items.describe(include='all'))"
   ]
  },
  {
   "cell_type": "code",
   "execution_count": 10,
   "id": "1efa8121",
   "metadata": {},
   "outputs": [
    {
     "name": "stdout",
     "output_type": "stream",
     "text": [
      "\n",
      " event duplicates:\n"
     ]
    },
    {
     "data": {
      "text/plain": [
       "460"
      ]
     },
     "metadata": {},
     "output_type": "display_data"
    },
    {
     "name": "stdout",
     "output_type": "stream",
     "text": [
      "\n",
      " category duplicates:\n"
     ]
    },
    {
     "data": {
      "text/plain": [
       "0"
      ]
     },
     "metadata": {},
     "output_type": "display_data"
    },
    {
     "name": "stdout",
     "output_type": "stream",
     "text": [
      "\n",
      " item properties duplicates:\n"
     ]
    },
    {
     "data": {
      "text/plain": [
       "0"
      ]
     },
     "metadata": {},
     "output_type": "display_data"
    }
   ],
   "source": [
    "# Check for duplicates\n",
    "\n",
    "print('\\n event duplicates:')\n",
    "display(event.duplicated().sum())\n",
    "\n",
    "print('\\n category duplicates:')\n",
    "display(cat.duplicated().sum())\n",
    "\n",
    "print('\\n item properties duplicates:')\n",
    "display(items.duplicated().sum())"
   ]
  },
  {
   "cell_type": "markdown",
   "id": "90257d69",
   "metadata": {},
   "source": [
    "> `event` has 460 duplicates but `category` and `items` have no duplicate values."
   ]
  },
  {
   "cell_type": "markdown",
   "id": "3e92bb13",
   "metadata": {},
   "source": [
    "##### Checking for missing values"
   ]
  },
  {
   "cell_type": "code",
   "execution_count": 11,
   "id": "53286eaa",
   "metadata": {},
   "outputs": [],
   "source": [
    "def missing_values(data):\n",
    "    \"\"\"\n",
    "    Calculates the total and percentage of missing values for each column in a pandas DataFrame.\n",
    "\n",
    "    Args:\n",
    "        df: The input pandas DataFrame.\n",
    "\n",
    "    Returns:\n",
    "        A pandas DataFrame with 'Total' and 'Percentage' columns showing the count and\n",
    "        percentage of missing values for each column in the input DataFrame.\n",
    "    \"\"\"\n",
    "    total_missing = data.isnull().sum().sort_values(ascending=False)\n",
    "    percentage_missing = (total_missing / len(data)) * 100\n",
    "    missing_data = pd.DataFrame({'Total': total_missing, 'Percentage': percentage_missing})\n",
    "    return missing_data"
   ]
  },
  {
   "cell_type": "code",
   "execution_count": 12,
   "id": "7644aad2",
   "metadata": {
    "scrolled": true
   },
   "outputs": [
    {
     "name": "stdout",
     "output_type": "stream",
     "text": [
      "\n",
      " event missing values:\n"
     ]
    },
    {
     "data": {
      "text/html": [
       "<div>\n",
       "<style scoped>\n",
       "    .dataframe tbody tr th:only-of-type {\n",
       "        vertical-align: middle;\n",
       "    }\n",
       "\n",
       "    .dataframe tbody tr th {\n",
       "        vertical-align: top;\n",
       "    }\n",
       "\n",
       "    .dataframe thead th {\n",
       "        text-align: right;\n",
       "    }\n",
       "</style>\n",
       "<table border=\"1\" class=\"dataframe\">\n",
       "  <thead>\n",
       "    <tr style=\"text-align: right;\">\n",
       "      <th></th>\n",
       "      <th>Total</th>\n",
       "      <th>Percentage</th>\n",
       "    </tr>\n",
       "  </thead>\n",
       "  <tbody>\n",
       "    <tr>\n",
       "      <th>transactionid</th>\n",
       "      <td>2733644</td>\n",
       "      <td>99.18519</td>\n",
       "    </tr>\n",
       "    <tr>\n",
       "      <th>timestamp</th>\n",
       "      <td>0</td>\n",
       "      <td>0.00000</td>\n",
       "    </tr>\n",
       "    <tr>\n",
       "      <th>visitorid</th>\n",
       "      <td>0</td>\n",
       "      <td>0.00000</td>\n",
       "    </tr>\n",
       "    <tr>\n",
       "      <th>event</th>\n",
       "      <td>0</td>\n",
       "      <td>0.00000</td>\n",
       "    </tr>\n",
       "    <tr>\n",
       "      <th>itemid</th>\n",
       "      <td>0</td>\n",
       "      <td>0.00000</td>\n",
       "    </tr>\n",
       "  </tbody>\n",
       "</table>\n",
       "</div>"
      ],
      "text/plain": [
       "                 Total  Percentage\n",
       "transactionid  2733644    99.18519\n",
       "timestamp            0     0.00000\n",
       "visitorid            0     0.00000\n",
       "event                0     0.00000\n",
       "itemid               0     0.00000"
      ]
     },
     "metadata": {},
     "output_type": "display_data"
    },
    {
     "name": "stdout",
     "output_type": "stream",
     "text": [
      "\n",
      " category missing values:\n"
     ]
    },
    {
     "data": {
      "text/html": [
       "<div>\n",
       "<style scoped>\n",
       "    .dataframe tbody tr th:only-of-type {\n",
       "        vertical-align: middle;\n",
       "    }\n",
       "\n",
       "    .dataframe tbody tr th {\n",
       "        vertical-align: top;\n",
       "    }\n",
       "\n",
       "    .dataframe thead th {\n",
       "        text-align: right;\n",
       "    }\n",
       "</style>\n",
       "<table border=\"1\" class=\"dataframe\">\n",
       "  <thead>\n",
       "    <tr style=\"text-align: right;\">\n",
       "      <th></th>\n",
       "      <th>Total</th>\n",
       "      <th>Percentage</th>\n",
       "    </tr>\n",
       "  </thead>\n",
       "  <tbody>\n",
       "    <tr>\n",
       "      <th>parentid</th>\n",
       "      <td>25</td>\n",
       "      <td>1.497903</td>\n",
       "    </tr>\n",
       "    <tr>\n",
       "      <th>categoryid</th>\n",
       "      <td>0</td>\n",
       "      <td>0.000000</td>\n",
       "    </tr>\n",
       "  </tbody>\n",
       "</table>\n",
       "</div>"
      ],
      "text/plain": [
       "            Total  Percentage\n",
       "parentid       25    1.497903\n",
       "categoryid      0    0.000000"
      ]
     },
     "metadata": {},
     "output_type": "display_data"
    },
    {
     "name": "stdout",
     "output_type": "stream",
     "text": [
      "\n",
      " items properties missing values:\n"
     ]
    },
    {
     "data": {
      "text/html": [
       "<div>\n",
       "<style scoped>\n",
       "    .dataframe tbody tr th:only-of-type {\n",
       "        vertical-align: middle;\n",
       "    }\n",
       "\n",
       "    .dataframe tbody tr th {\n",
       "        vertical-align: top;\n",
       "    }\n",
       "\n",
       "    .dataframe thead th {\n",
       "        text-align: right;\n",
       "    }\n",
       "</style>\n",
       "<table border=\"1\" class=\"dataframe\">\n",
       "  <thead>\n",
       "    <tr style=\"text-align: right;\">\n",
       "      <th></th>\n",
       "      <th>Total</th>\n",
       "      <th>Percentage</th>\n",
       "    </tr>\n",
       "  </thead>\n",
       "  <tbody>\n",
       "    <tr>\n",
       "      <th>timestamp</th>\n",
       "      <td>0</td>\n",
       "      <td>0.0</td>\n",
       "    </tr>\n",
       "    <tr>\n",
       "      <th>itemid</th>\n",
       "      <td>0</td>\n",
       "      <td>0.0</td>\n",
       "    </tr>\n",
       "    <tr>\n",
       "      <th>property</th>\n",
       "      <td>0</td>\n",
       "      <td>0.0</td>\n",
       "    </tr>\n",
       "    <tr>\n",
       "      <th>value</th>\n",
       "      <td>0</td>\n",
       "      <td>0.0</td>\n",
       "    </tr>\n",
       "  </tbody>\n",
       "</table>\n",
       "</div>"
      ],
      "text/plain": [
       "           Total  Percentage\n",
       "timestamp      0         0.0\n",
       "itemid         0         0.0\n",
       "property       0         0.0\n",
       "value          0         0.0"
      ]
     },
     "metadata": {},
     "output_type": "display_data"
    }
   ],
   "source": [
    "# Identify and quantify missing values\n",
    "\n",
    "print('\\n event missing values:')\n",
    "display(missing_values(event))\n",
    "\n",
    "print('\\n category missing values:')\n",
    "display(missing_values(cat))\n",
    "\n",
    "print('\\n items properties missing values:')\n",
    "display(missing_values(items))"
   ]
  },
  {
   "cell_type": "code",
   "execution_count": 13,
   "id": "f04e724b",
   "metadata": {},
   "outputs": [
    {
     "data": {
      "image/png": "[encoded data removed]",
      "text/plain": [
       "<Figure size 1000x600 with 1 Axes>"
      ]
     },
     "metadata": {},
     "output_type": "display_data"
    },
    {
     "data": {
      "image/png": "[encoded data removed]",
      "text/plain": [
       "<Figure size 1000x600 with 1 Axes>"
      ]
     },
     "metadata": {},
     "output_type": "display_data"
    },
    {
     "data": {
      "image/png": "[encoded data removed]",
      "text/plain": [
       "<Figure size 1000x600 with 1 Axes>"
      ]
     },
     "metadata": {},
     "output_type": "display_data"
    }
   ],
   "source": [
    "# Visualize missing values\n",
    "\n",
    "plt.figure(figsize=(10, 6))\n",
    "sns.heatmap(event.isnull(), cbar=False).set_title('Missing values in events')\n",
    "plt.show()\n",
    "\n",
    "plt.figure(figsize=(10, 6))\n",
    "sns.heatmap(cat.isnull(), cbar=False).set_title('Missing values in category_tree')\n",
    "plt.show()\n",
    "\n",
    "plt.figure(figsize=(10, 6))\n",
    "sns.heatmap(items.isnull(), cbar=False).set_title('Missing values in item_properties')\n",
    "plt.show()"
   ]
  },
  {
   "cell_type": "markdown",
   "id": "b6acfbfe",
   "metadata": {},
   "source": [
    "> The above ouput makes it clear that:\n",
    "> - `transactionid` column of `event` data has `2733644` missing values which forms `99.2%` of the data.\n",
    "> - `parentid\t` column of `category_tree` data has `25` missing values which forms only `1.5%` of the data.\n",
    "> - `item` has no missing values."
   ]
  },
  {
   "cell_type": "markdown",
   "id": "49b93f6a",
   "metadata": {},
   "source": [
    "**Checking if all items in events data exists in item properties data**"
   ]
  },
  {
   "cell_type": "code",
   "execution_count": 14,
   "id": "34666b4c",
   "metadata": {
    "scrolled": true
   },
   "outputs": [
    {
     "name": "stdout",
     "output_type": "stream",
     "text": [
      "Missing items from items table: 49815\n"
     ]
    }
   ],
   "source": [
    "missing_items = set(event['itemid'].unique()) - set(items['itemid'].unique())\n",
    "print(f\"Missing items from items table: {len(missing_items)}\")"
   ]
  },
  {
   "cell_type": "markdown",
   "id": "c299ac53",
   "metadata": {},
   "source": [
    "> This implies that there are `49815` unique items that do not exist in the item properties table."
   ]
  },
  {
   "cell_type": "markdown",
   "id": "5e02e55c",
   "metadata": {},
   "source": [
    "**Checking categoryid relationships**"
   ]
  },
  {
   "cell_type": "code",
   "execution_count": 17,
   "id": "0c25fdba",
   "metadata": {},
   "outputs": [
    {
     "data": {
      "text/plain": [
       "True     788047\n",
       "False       167\n",
       "Name: value, dtype: int64"
      ]
     },
     "execution_count": 17,
     "metadata": {},
     "output_type": "execute_result"
    }
   ],
   "source": [
    "item_categories = items[items['property'] == 'categoryid']['value'].astype(int)\n",
    "item_categories.isin(cat['categoryid']).value_counts()"
   ]
  },
  {
   "cell_type": "code",
   "execution_count": 21,
   "id": "d93a35da",
   "metadata": {},
   "outputs": [
    {
     "name": "stdout",
     "output_type": "stream",
     "text": [
      "Unique unmatched categories in category table: 30\n",
      "List of unique unmatched categories: [ 919 1062  306 1446  181 1319  974 1428  566 1597  462 1571 1046  347\n",
      "  554  171  721 1158  300  930  168  345  899 1538 1594  307  280 1602\n",
      "   80 1123]\n"
     ]
    }
   ],
   "source": [
    "unmatched_cats = item_categories[~item_categories.isin(cat['categoryid'])]\n",
    "\n",
    "unique_unmatched_cats = unmatched_cats.nunique()\n",
    "\n",
    "print(f\"Unique unmatched categories in category table: {unique_unmatched_cats}\")\n",
    "\n",
    "print(\"List of unique unmatched categories:\", unmatched_cats.unique())\n"
   ]
  },
  {
   "cell_type": "markdown",
   "id": "dfbe195d",
   "metadata": {},
   "source": [
    " "
   ]
  },
  {
   "cell_type": "markdown",
   "id": "ff02c707",
   "metadata": {
    "id": "ff02c707"
   },
   "source": [
    " "
   ]
  },
  {
   "cell_type": "markdown",
   "id": "7d09f571",
   "metadata": {
    "id": "7d09f571"
   },
   "source": [
    " "
   ]
  },
  {
   "cell_type": "markdown",
   "id": "74958867",
   "metadata": {
    "id": "74958867"
   },
   "source": [
    "### Data Quality Summary:"
   ]
  },
  {
   "cell_type": "markdown",
   "id": "03e50f19",
   "metadata": {
    "id": "03e50f19"
   },
   "source": [
    "<p style=\"text-align:justify;\">Based on the data quality assessment, here are the key issues we identified:</p>\n",
    "\n",
    "  1. **`event`** data has 460 duplicates and it's **`transactionid`** column has **`2733644`** missing values which forms **`99.2%`** of the data. The missing values indicates that there was no transaction for such cases.\n",
    "  \n",
    "  2. **`category_tree`** data has no duplicate values but it's **`parentid`** column has **`25`** missing values which forms only **`1.5%`** of the data. The missing values indicates these are root categories  without a parent in the tree. \n",
    "  \n",
    "  3. **`items`** data has no duplicates or missing values.\n",
    "  4. The **`timestamp`** column for both **`event`** and **`items`** data has interger data type and needs to be converted to a datetime object.\n",
    "  5. The **`value`** column of the **`items`** data has hashed records. We will look into that and group them accordingly.\n",
    "  6. All 3 datasets have some relationship. We will consider that during the analysis.\n",
    "  7. **`49 815`** items in the **`event`** table do not exist in the **`items`** table. Hence they may be invalid records or old deleted items.\n",
    "  8. **`30`** unique records of the category property in **`items`** table point to non-existence category in the `category_tree` table. This could be a data entry issue or data loss issue. Hence, we will not drop those records or replace them but leave them as they are."
   ]
  },
  {
   "cell_type": "markdown",
   "id": "93d78ce6",
   "metadata": {
    "id": "93d78ce6"
   },
   "source": [
    " "
   ]
  },
  {
   "cell_type": "markdown",
   "id": "2cc49d50",
   "metadata": {
    "id": "2cc49d50"
   },
   "source": [
    " "
   ]
  },
  {
   "cell_type": "markdown",
   "id": "cf3ecf1b",
   "metadata": {
    "id": "cf3ecf1b"
   },
   "source": [
    "### 2.2 Data Cleaning and Preprocessing<a id='dcp'></a>"
   ]
  },
  {
   "cell_type": "markdown",
   "id": "1bf61e83",
   "metadata": {
    "id": "1bf61e83"
   },
   "source": [
    "<p style=\"text-align:justify\">The preprocessing step (usually an iterative process) is carried out to clean the data based on data quality issues identified. During the data quality assessment, we identified various data quality issues including missing values, incorrect data, inconsistent values, etc.\n",
    "\n",
    "In this task we will perform all the initial data cleaning and preprocessing needed to produce data that will be suitable for our analysis.</p>"
   ]
  },
  {
   "cell_type": "markdown",
   "id": "699d22bf",
   "metadata": {},
   "source": [
    "Here, we will handle missing values, inconsistent data types, and other data quality issues in the combined item properties data and the `events.csv` and `category_tree.csv` dataframes.\n"
   ]
  },
  {
   "cell_type": "markdown",
   "id": "f8707337",
   "metadata": {
    "id": "f8707337"
   },
   "source": [
    "#### Handling Missing Values"
   ]
  },
  {
   "cell_type": "markdown",
   "id": "65e16757",
   "metadata": {},
   "source": [
    "1. **events data**\n",
    "\n",
    "    The missing values in the `transactionid` column indicates that there was no transaction for such cases. Hence we will replace those with `0`.\n"
   ]
  },
  {
   "cell_type": "code",
   "execution_count": 22,
   "id": "2b1a05c9",
   "metadata": {},
   "outputs": [],
   "source": [
    "event['transactionid'] = event['transactionid'].fillna(0)"
   ]
  },
  {
   "cell_type": "code",
   "execution_count": 25,
   "id": "76db1156",
   "metadata": {
    "scrolled": false
   },
   "outputs": [
    {
     "data": {
      "text/html": [
       "<div>\n",
       "<style scoped>\n",
       "    .dataframe tbody tr th:only-of-type {\n",
       "        vertical-align: middle;\n",
       "    }\n",
       "\n",
       "    .dataframe tbody tr th {\n",
       "        vertical-align: top;\n",
       "    }\n",
       "\n",
       "    .dataframe thead th {\n",
       "        text-align: right;\n",
       "    }\n",
       "</style>\n",
       "<table border=\"1\" class=\"dataframe\">\n",
       "  <thead>\n",
       "    <tr style=\"text-align: right;\">\n",
       "      <th></th>\n",
       "      <th>Total</th>\n",
       "      <th>Percentage</th>\n",
       "    </tr>\n",
       "  </thead>\n",
       "  <tbody>\n",
       "    <tr>\n",
       "      <th>timestamp</th>\n",
       "      <td>0</td>\n",
       "      <td>0.0</td>\n",
       "    </tr>\n",
       "    <tr>\n",
       "      <th>visitorid</th>\n",
       "      <td>0</td>\n",
       "      <td>0.0</td>\n",
       "    </tr>\n",
       "    <tr>\n",
       "      <th>event</th>\n",
       "      <td>0</td>\n",
       "      <td>0.0</td>\n",
       "    </tr>\n",
       "    <tr>\n",
       "      <th>itemid</th>\n",
       "      <td>0</td>\n",
       "      <td>0.0</td>\n",
       "    </tr>\n",
       "    <tr>\n",
       "      <th>transactionid</th>\n",
       "      <td>0</td>\n",
       "      <td>0.0</td>\n",
       "    </tr>\n",
       "  </tbody>\n",
       "</table>\n",
       "</div>"
      ],
      "text/plain": [
       "               Total  Percentage\n",
       "timestamp          0         0.0\n",
       "visitorid          0         0.0\n",
       "event              0         0.0\n",
       "itemid             0         0.0\n",
       "transactionid      0         0.0"
      ]
     },
     "execution_count": 25,
     "metadata": {},
     "output_type": "execute_result"
    }
   ],
   "source": [
    "missing_values(event)"
   ]
  },
  {
   "cell_type": "markdown",
   "id": "6197b299",
   "metadata": {},
   "source": [
    "2. **category_tree data**\n",
    "    The missing values in the `parentid` column indicates these are root categories  and do not have a parent in the tree. Replacing them will imply there is a parentid. Hence we will leave it as it is. \n"
   ]
  },
  {
   "cell_type": "markdown",
   "id": "701a0ab5",
   "metadata": {},
   "source": [
    " "
   ]
  },
  {
   "cell_type": "markdown",
   "id": "2315dcb2",
   "metadata": {
    "id": "f8707337"
   },
   "source": [
    "#### Handling Duplicates"
   ]
  },
  {
   "cell_type": "code",
   "execution_count": 24,
   "id": "ab9ac901",
   "metadata": {},
   "outputs": [
    {
     "data": {
      "text/plain": [
       "460"
      ]
     },
     "execution_count": 24,
     "metadata": {},
     "output_type": "execute_result"
    }
   ],
   "source": [
    "event.duplicated().sum()"
   ]
  },
  {
   "cell_type": "code",
   "execution_count": 26,
   "id": "18e0060f",
   "metadata": {},
   "outputs": [],
   "source": [
    "# deleting duplicates\n",
    "\n",
    "event = event.drop_duplicates()"
   ]
  },
  {
   "cell_type": "code",
   "execution_count": 27,
   "id": "907399af",
   "metadata": {
    "scrolled": true
   },
   "outputs": [
    {
     "data": {
      "text/plain": [
       "0"
      ]
     },
     "execution_count": 27,
     "metadata": {},
     "output_type": "execute_result"
    }
   ],
   "source": [
    "event.duplicated().sum()"
   ]
  },
  {
   "cell_type": "markdown",
   "id": "9a983485",
   "metadata": {},
   "source": [
    "> All duplcates are deleted"
   ]
  },
  {
   "cell_type": "markdown",
   "id": "a1e4fc1b",
   "metadata": {
    "id": "f8707337"
   },
   "source": [
    "#### Handling Data Types"
   ]
  },
  {
   "cell_type": "code",
   "execution_count": 28,
   "id": "a247fc0a",
   "metadata": {},
   "outputs": [],
   "source": [
    "# converting event timestamp to datetime object\n",
    "\n",
    "event['timestamp'] = pd.to_datetime(event['timestamp'], unit='ms').dt.floor('s')"
   ]
  },
  {
   "cell_type": "code",
   "execution_count": 34,
   "id": "3a824a33",
   "metadata": {},
   "outputs": [],
   "source": [
    "# converting event transactionid to int\n",
    "\n",
    "event['transactionid'] = event['transactionid'].astype('int')"
   ]
  },
  {
   "cell_type": "code",
   "execution_count": 35,
   "id": "25f0c17b",
   "metadata": {
    "scrolled": false
   },
   "outputs": [
    {
     "name": "stdout",
     "output_type": "stream",
     "text": [
      "<class 'pandas.core.frame.DataFrame'>\n",
      "Int64Index: 2755641 entries, 0 to 2756100\n",
      "Data columns (total 5 columns):\n",
      " #   Column         Dtype         \n",
      "---  ------         -----         \n",
      " 0   timestamp      datetime64[ns]\n",
      " 1   visitorid      int64         \n",
      " 2   event          object        \n",
      " 3   itemid         int64         \n",
      " 4   transactionid  int32         \n",
      "dtypes: datetime64[ns](1), int32(1), int64(2), object(1)\n",
      "memory usage: 115.6+ MB\n"
     ]
    }
   ],
   "source": [
    "event.info()"
   ]
  },
  {
   "cell_type": "code",
   "execution_count": 37,
   "id": "89cc5e10",
   "metadata": {},
   "outputs": [],
   "source": [
    "# converting items timestamp to datetime object\n",
    "\n",
    "items['timestamp'] = pd.to_datetime(items['timestamp'], unit='ms')"
   ]
  },
  {
   "cell_type": "code",
   "execution_count": 38,
   "id": "8a25f9a7",
   "metadata": {
    "scrolled": true
   },
   "outputs": [
    {
     "name": "stdout",
     "output_type": "stream",
     "text": [
      "<class 'pandas.core.frame.DataFrame'>\n",
      "RangeIndex: 20275902 entries, 0 to 20275901\n",
      "Data columns (total 4 columns):\n",
      " #   Column     Dtype         \n",
      "---  ------     -----         \n",
      " 0   timestamp  datetime64[ns]\n",
      " 1   itemid     int64         \n",
      " 2   property   object        \n",
      " 3   value      object        \n",
      "dtypes: datetime64[ns](1), int64(1), object(2)\n",
      "memory usage: 618.8+ MB\n"
     ]
    }
   ],
   "source": [
    "items.info()"
   ]
  },
  {
   "cell_type": "code",
   "execution_count": 39,
   "id": "c1aeafd8",
   "metadata": {
    "scrolled": true
   },
   "outputs": [
    {
     "data": {
      "text/html": [
       "<div>\n",
       "<style scoped>\n",
       "    .dataframe tbody tr th:only-of-type {\n",
       "        vertical-align: middle;\n",
       "    }\n",
       "\n",
       "    .dataframe tbody tr th {\n",
       "        vertical-align: top;\n",
       "    }\n",
       "\n",
       "    .dataframe thead th {\n",
       "        text-align: right;\n",
       "    }\n",
       "</style>\n",
       "<table border=\"1\" class=\"dataframe\">\n",
       "  <thead>\n",
       "    <tr style=\"text-align: right;\">\n",
       "      <th></th>\n",
       "      <th>timestamp</th>\n",
       "      <th>itemid</th>\n",
       "      <th>property</th>\n",
       "      <th>value</th>\n",
       "    </tr>\n",
       "  </thead>\n",
       "  <tbody>\n",
       "    <tr>\n",
       "      <th>0</th>\n",
       "      <td>2015-06-28 03:00:00</td>\n",
       "      <td>460429</td>\n",
       "      <td>categoryid</td>\n",
       "      <td>1338</td>\n",
       "    </tr>\n",
       "    <tr>\n",
       "      <th>1</th>\n",
       "      <td>2015-09-06 03:00:00</td>\n",
       "      <td>206783</td>\n",
       "      <td>888</td>\n",
       "      <td>1116713 960601 n277.200</td>\n",
       "    </tr>\n",
       "    <tr>\n",
       "      <th>2</th>\n",
       "      <td>2015-08-09 03:00:00</td>\n",
       "      <td>395014</td>\n",
       "      <td>400</td>\n",
       "      <td>n552.000 639502 n720.000 424566</td>\n",
       "    </tr>\n",
       "    <tr>\n",
       "      <th>3</th>\n",
       "      <td>2015-05-10 03:00:00</td>\n",
       "      <td>59481</td>\n",
       "      <td>790</td>\n",
       "      <td>n15360.000</td>\n",
       "    </tr>\n",
       "    <tr>\n",
       "      <th>4</th>\n",
       "      <td>2015-05-17 03:00:00</td>\n",
       "      <td>156781</td>\n",
       "      <td>917</td>\n",
       "      <td>828513</td>\n",
       "    </tr>\n",
       "  </tbody>\n",
       "</table>\n",
       "</div>"
      ],
      "text/plain": [
       "            timestamp  itemid    property                            value\n",
       "0 2015-06-28 03:00:00  460429  categoryid                             1338\n",
       "1 2015-09-06 03:00:00  206783         888          1116713 960601 n277.200\n",
       "2 2015-08-09 03:00:00  395014         400  n552.000 639502 n720.000 424566\n",
       "3 2015-05-10 03:00:00   59481         790                       n15360.000\n",
       "4 2015-05-17 03:00:00  156781         917                           828513"
      ]
     },
     "execution_count": 39,
     "metadata": {},
     "output_type": "execute_result"
    }
   ],
   "source": [
    "items.head()"
   ]
  },
  {
   "cell_type": "markdown",
   "id": "52834f5a",
   "metadata": {},
   "source": [
    "**Dropping non-existing itemid from events table**"
   ]
  },
  {
   "cell_type": "code",
   "execution_count": 40,
   "id": "e8e8bd7e",
   "metadata": {
    "scrolled": true
   },
   "outputs": [
    {
     "name": "stdout",
     "output_type": "stream",
     "text": [
      "Dropped 255576 events due to missing itemid\n"
     ]
    }
   ],
   "source": [
    "valid_itemids = set(items['itemid'].unique())\n",
    "\n",
    "valid_events = event[event['itemid'].isin(valid_itemids)]\n",
    "\n",
    "dropped_events = len(event) - len(valid_events)\n",
    "print(f\"Dropped {dropped_events} events due to missing itemid\")"
   ]
  },
  {
   "cell_type": "code",
   "execution_count": 41,
   "id": "c179d184",
   "metadata": {},
   "outputs": [
    {
     "name": "stdout",
     "output_type": "stream",
     "text": [
      "0\n"
     ]
    }
   ],
   "source": [
    "itemids_left = set(valid_events['itemid'].unique()) - set(items['itemid'].unique())\n",
    "print(len(itemids_left))"
   ]
  },
  {
   "cell_type": "code",
   "execution_count": 42,
   "id": "fc2609c6",
   "metadata": {
    "scrolled": true
   },
   "outputs": [
    {
     "data": {
      "text/html": [
       "<div>\n",
       "<style scoped>\n",
       "    .dataframe tbody tr th:only-of-type {\n",
       "        vertical-align: middle;\n",
       "    }\n",
       "\n",
       "    .dataframe tbody tr th {\n",
       "        vertical-align: top;\n",
       "    }\n",
       "\n",
       "    .dataframe thead th {\n",
       "        text-align: right;\n",
       "    }\n",
       "</style>\n",
       "<table border=\"1\" class=\"dataframe\">\n",
       "  <thead>\n",
       "    <tr style=\"text-align: right;\">\n",
       "      <th></th>\n",
       "      <th>timestamp</th>\n",
       "      <th>visitorid</th>\n",
       "      <th>event</th>\n",
       "      <th>itemid</th>\n",
       "      <th>transactionid</th>\n",
       "    </tr>\n",
       "  </thead>\n",
       "  <tbody>\n",
       "    <tr>\n",
       "      <th>0</th>\n",
       "      <td>2015-06-02 05:02:12</td>\n",
       "      <td>257597</td>\n",
       "      <td>view</td>\n",
       "      <td>355908</td>\n",
       "      <td>0</td>\n",
       "    </tr>\n",
       "    <tr>\n",
       "      <th>1</th>\n",
       "      <td>2015-06-02 05:50:14</td>\n",
       "      <td>992329</td>\n",
       "      <td>view</td>\n",
       "      <td>248676</td>\n",
       "      <td>0</td>\n",
       "    </tr>\n",
       "    <tr>\n",
       "      <th>3</th>\n",
       "      <td>2015-06-02 05:12:35</td>\n",
       "      <td>483717</td>\n",
       "      <td>view</td>\n",
       "      <td>253185</td>\n",
       "      <td>0</td>\n",
       "    </tr>\n",
       "    <tr>\n",
       "      <th>4</th>\n",
       "      <td>2015-06-02 05:02:17</td>\n",
       "      <td>951259</td>\n",
       "      <td>view</td>\n",
       "      <td>367447</td>\n",
       "      <td>0</td>\n",
       "    </tr>\n",
       "    <tr>\n",
       "      <th>5</th>\n",
       "      <td>2015-06-02 05:48:06</td>\n",
       "      <td>972639</td>\n",
       "      <td>view</td>\n",
       "      <td>22556</td>\n",
       "      <td>0</td>\n",
       "    </tr>\n",
       "  </tbody>\n",
       "</table>\n",
       "</div>"
      ],
      "text/plain": [
       "            timestamp  visitorid event  itemid  transactionid\n",
       "0 2015-06-02 05:02:12     257597  view  355908              0\n",
       "1 2015-06-02 05:50:14     992329  view  248676              0\n",
       "3 2015-06-02 05:12:35     483717  view  253185              0\n",
       "4 2015-06-02 05:02:17     951259  view  367447              0\n",
       "5 2015-06-02 05:48:06     972639  view   22556              0"
      ]
     },
     "execution_count": 42,
     "metadata": {},
     "output_type": "execute_result"
    }
   ],
   "source": [
    "valid_events.head()"
   ]
  },
  {
   "cell_type": "markdown",
   "id": "fd7b85eb",
   "metadata": {},
   "source": [
    "> All `itemids` on the event table now do exist on the `item_property` table. "
   ]
  },
  {
   "cell_type": "code",
   "execution_count": 44,
   "id": "f37b08fd",
   "metadata": {},
   "outputs": [
    {
     "data": {
      "text/plain": [
       "((2500065, 5), (20275902, 4), (1669, 2))"
      ]
     },
     "execution_count": 44,
     "metadata": {},
     "output_type": "execute_result"
    }
   ],
   "source": [
    "valid_events.shape, items.shape, cat.shape"
   ]
  },
  {
   "cell_type": "markdown",
   "id": "92a79334",
   "metadata": {
    "id": "92a79334"
   },
   "source": [
    " "
   ]
  },
  {
   "cell_type": "markdown",
   "id": "2e4c9ee0",
   "metadata": {},
   "source": [
    " "
   ]
  },
  {
   "cell_type": "markdown",
   "id": "4e27a8ed",
   "metadata": {
    "id": "4e27a8ed"
   },
   "source": [
    "#### Creating DATE and TIME columns"
   ]
  },
  {
   "cell_type": "code",
   "execution_count": 45,
   "id": "7a38b904",
   "metadata": {
    "scrolled": true
   },
   "outputs": [
    {
     "data": {
      "text/html": [
       "<div>\n",
       "<style scoped>\n",
       "    .dataframe tbody tr th:only-of-type {\n",
       "        vertical-align: middle;\n",
       "    }\n",
       "\n",
       "    .dataframe tbody tr th {\n",
       "        vertical-align: top;\n",
       "    }\n",
       "\n",
       "    .dataframe thead th {\n",
       "        text-align: right;\n",
       "    }\n",
       "</style>\n",
       "<table border=\"1\" class=\"dataframe\">\n",
       "  <thead>\n",
       "    <tr style=\"text-align: right;\">\n",
       "      <th></th>\n",
       "      <th>timestamp</th>\n",
       "      <th>itemid</th>\n",
       "      <th>property</th>\n",
       "      <th>value</th>\n",
       "    </tr>\n",
       "  </thead>\n",
       "  <tbody>\n",
       "    <tr>\n",
       "      <th>0</th>\n",
       "      <td>2015-06-28 03:00:00</td>\n",
       "      <td>460429</td>\n",
       "      <td>categoryid</td>\n",
       "      <td>1338</td>\n",
       "    </tr>\n",
       "    <tr>\n",
       "      <th>1</th>\n",
       "      <td>2015-09-06 03:00:00</td>\n",
       "      <td>206783</td>\n",
       "      <td>888</td>\n",
       "      <td>1116713 960601 n277.200</td>\n",
       "    </tr>\n",
       "    <tr>\n",
       "      <th>2</th>\n",
       "      <td>2015-08-09 03:00:00</td>\n",
       "      <td>395014</td>\n",
       "      <td>400</td>\n",
       "      <td>n552.000 639502 n720.000 424566</td>\n",
       "    </tr>\n",
       "    <tr>\n",
       "      <th>3</th>\n",
       "      <td>2015-05-10 03:00:00</td>\n",
       "      <td>59481</td>\n",
       "      <td>790</td>\n",
       "      <td>n15360.000</td>\n",
       "    </tr>\n",
       "    <tr>\n",
       "      <th>4</th>\n",
       "      <td>2015-05-17 03:00:00</td>\n",
       "      <td>156781</td>\n",
       "      <td>917</td>\n",
       "      <td>828513</td>\n",
       "    </tr>\n",
       "  </tbody>\n",
       "</table>\n",
       "</div>"
      ],
      "text/plain": [
       "            timestamp  itemid    property                            value\n",
       "0 2015-06-28 03:00:00  460429  categoryid                             1338\n",
       "1 2015-09-06 03:00:00  206783         888          1116713 960601 n277.200\n",
       "2 2015-08-09 03:00:00  395014         400  n552.000 639502 n720.000 424566\n",
       "3 2015-05-10 03:00:00   59481         790                       n15360.000\n",
       "4 2015-05-17 03:00:00  156781         917                           828513"
      ]
     },
     "execution_count": 45,
     "metadata": {},
     "output_type": "execute_result"
    }
   ],
   "source": [
    "items.head()"
   ]
  },
  {
   "cell_type": "code",
   "execution_count": 46,
   "id": "c7de2657",
   "metadata": {
    "scrolled": true
   },
   "outputs": [
    {
     "data": {
      "text/html": [
       "<div>\n",
       "<style scoped>\n",
       "    .dataframe tbody tr th:only-of-type {\n",
       "        vertical-align: middle;\n",
       "    }\n",
       "\n",
       "    .dataframe tbody tr th {\n",
       "        vertical-align: top;\n",
       "    }\n",
       "\n",
       "    .dataframe thead th {\n",
       "        text-align: right;\n",
       "    }\n",
       "</style>\n",
       "<table border=\"1\" class=\"dataframe\">\n",
       "  <thead>\n",
       "    <tr style=\"text-align: right;\">\n",
       "      <th></th>\n",
       "      <th>timestamp</th>\n",
       "      <th>visitorid</th>\n",
       "      <th>event</th>\n",
       "      <th>itemid</th>\n",
       "      <th>transactionid</th>\n",
       "    </tr>\n",
       "  </thead>\n",
       "  <tbody>\n",
       "    <tr>\n",
       "      <th>0</th>\n",
       "      <td>2015-06-02 05:02:12</td>\n",
       "      <td>257597</td>\n",
       "      <td>view</td>\n",
       "      <td>355908</td>\n",
       "      <td>0</td>\n",
       "    </tr>\n",
       "    <tr>\n",
       "      <th>1</th>\n",
       "      <td>2015-06-02 05:50:14</td>\n",
       "      <td>992329</td>\n",
       "      <td>view</td>\n",
       "      <td>248676</td>\n",
       "      <td>0</td>\n",
       "    </tr>\n",
       "    <tr>\n",
       "      <th>3</th>\n",
       "      <td>2015-06-02 05:12:35</td>\n",
       "      <td>483717</td>\n",
       "      <td>view</td>\n",
       "      <td>253185</td>\n",
       "      <td>0</td>\n",
       "    </tr>\n",
       "    <tr>\n",
       "      <th>4</th>\n",
       "      <td>2015-06-02 05:02:17</td>\n",
       "      <td>951259</td>\n",
       "      <td>view</td>\n",
       "      <td>367447</td>\n",
       "      <td>0</td>\n",
       "    </tr>\n",
       "    <tr>\n",
       "      <th>5</th>\n",
       "      <td>2015-06-02 05:48:06</td>\n",
       "      <td>972639</td>\n",
       "      <td>view</td>\n",
       "      <td>22556</td>\n",
       "      <td>0</td>\n",
       "    </tr>\n",
       "  </tbody>\n",
       "</table>\n",
       "</div>"
      ],
      "text/plain": [
       "            timestamp  visitorid event  itemid  transactionid\n",
       "0 2015-06-02 05:02:12     257597  view  355908              0\n",
       "1 2015-06-02 05:50:14     992329  view  248676              0\n",
       "3 2015-06-02 05:12:35     483717  view  253185              0\n",
       "4 2015-06-02 05:02:17     951259  view  367447              0\n",
       "5 2015-06-02 05:48:06     972639  view   22556              0"
      ]
     },
     "execution_count": 46,
     "metadata": {},
     "output_type": "execute_result"
    }
   ],
   "source": [
    "valid_events.head()"
   ]
  },
  {
   "cell_type": "code",
   "execution_count": 47,
   "id": "4e8803ca",
   "metadata": {
    "scrolled": false
   },
   "outputs": [],
   "source": [
    "items['date'] = items['timestamp'].dt.date\n",
    "items['month'] = items['timestamp'].dt.month\n",
    "items['time'] = items['timestamp'].dt.time"
   ]
  },
  {
   "cell_type": "code",
   "execution_count": 48,
   "id": "d13e70ea",
   "metadata": {
    "scrolled": false
   },
   "outputs": [],
   "source": [
    "valid_events['date'] = valid_events['timestamp'].dt.date\n",
    "valid_events['month'] = valid_events['timestamp'].dt.month\n",
    "valid_events['time'] = valid_events['timestamp'].dt.time"
   ]
  },
  {
   "cell_type": "code",
   "execution_count": 49,
   "id": "4ae2a467",
   "metadata": {},
   "outputs": [
    {
     "data": {
      "text/html": [
       "<div>\n",
       "<style scoped>\n",
       "    .dataframe tbody tr th:only-of-type {\n",
       "        vertical-align: middle;\n",
       "    }\n",
       "\n",
       "    .dataframe tbody tr th {\n",
       "        vertical-align: top;\n",
       "    }\n",
       "\n",
       "    .dataframe thead th {\n",
       "        text-align: right;\n",
       "    }\n",
       "</style>\n",
       "<table border=\"1\" class=\"dataframe\">\n",
       "  <thead>\n",
       "    <tr style=\"text-align: right;\">\n",
       "      <th></th>\n",
       "      <th>timestamp</th>\n",
       "      <th>itemid</th>\n",
       "      <th>property</th>\n",
       "      <th>value</th>\n",
       "      <th>date</th>\n",
       "      <th>month</th>\n",
       "      <th>time</th>\n",
       "    </tr>\n",
       "  </thead>\n",
       "  <tbody>\n",
       "    <tr>\n",
       "      <th>0</th>\n",
       "      <td>2015-06-28 03:00:00</td>\n",
       "      <td>460429</td>\n",
       "      <td>categoryid</td>\n",
       "      <td>1338</td>\n",
       "      <td>2015-06-28</td>\n",
       "      <td>6</td>\n",
       "      <td>03:00:00</td>\n",
       "    </tr>\n",
       "    <tr>\n",
       "      <th>1</th>\n",
       "      <td>2015-09-06 03:00:00</td>\n",
       "      <td>206783</td>\n",
       "      <td>888</td>\n",
       "      <td>1116713 960601 n277.200</td>\n",
       "      <td>2015-09-06</td>\n",
       "      <td>9</td>\n",
       "      <td>03:00:00</td>\n",
       "    </tr>\n",
       "    <tr>\n",
       "      <th>2</th>\n",
       "      <td>2015-08-09 03:00:00</td>\n",
       "      <td>395014</td>\n",
       "      <td>400</td>\n",
       "      <td>n552.000 639502 n720.000 424566</td>\n",
       "      <td>2015-08-09</td>\n",
       "      <td>8</td>\n",
       "      <td>03:00:00</td>\n",
       "    </tr>\n",
       "    <tr>\n",
       "      <th>3</th>\n",
       "      <td>2015-05-10 03:00:00</td>\n",
       "      <td>59481</td>\n",
       "      <td>790</td>\n",
       "      <td>n15360.000</td>\n",
       "      <td>2015-05-10</td>\n",
       "      <td>5</td>\n",
       "      <td>03:00:00</td>\n",
       "    </tr>\n",
       "    <tr>\n",
       "      <th>4</th>\n",
       "      <td>2015-05-17 03:00:00</td>\n",
       "      <td>156781</td>\n",
       "      <td>917</td>\n",
       "      <td>828513</td>\n",
       "      <td>2015-05-17</td>\n",
       "      <td>5</td>\n",
       "      <td>03:00:00</td>\n",
       "    </tr>\n",
       "  </tbody>\n",
       "</table>\n",
       "</div>"
      ],
      "text/plain": [
       "            timestamp  itemid    property                            value  \\\n",
       "0 2015-06-28 03:00:00  460429  categoryid                             1338   \n",
       "1 2015-09-06 03:00:00  206783         888          1116713 960601 n277.200   \n",
       "2 2015-08-09 03:00:00  395014         400  n552.000 639502 n720.000 424566   \n",
       "3 2015-05-10 03:00:00   59481         790                       n15360.000   \n",
       "4 2015-05-17 03:00:00  156781         917                           828513   \n",
       "\n",
       "         date  month      time  \n",
       "0  2015-06-28      6  03:00:00  \n",
       "1  2015-09-06      9  03:00:00  \n",
       "2  2015-08-09      8  03:00:00  \n",
       "3  2015-05-10      5  03:00:00  \n",
       "4  2015-05-17      5  03:00:00  "
      ]
     },
     "execution_count": 49,
     "metadata": {},
     "output_type": "execute_result"
    }
   ],
   "source": [
    "items.head()"
   ]
  },
  {
   "cell_type": "code",
   "execution_count": 50,
   "id": "f16d5c87",
   "metadata": {
    "scrolled": false
   },
   "outputs": [
    {
     "data": {
      "text/html": [
       "<div>\n",
       "<style scoped>\n",
       "    .dataframe tbody tr th:only-of-type {\n",
       "        vertical-align: middle;\n",
       "    }\n",
       "\n",
       "    .dataframe tbody tr th {\n",
       "        vertical-align: top;\n",
       "    }\n",
       "\n",
       "    .dataframe thead th {\n",
       "        text-align: right;\n",
       "    }\n",
       "</style>\n",
       "<table border=\"1\" class=\"dataframe\">\n",
       "  <thead>\n",
       "    <tr style=\"text-align: right;\">\n",
       "      <th></th>\n",
       "      <th>timestamp</th>\n",
       "      <th>visitorid</th>\n",
       "      <th>event</th>\n",
       "      <th>itemid</th>\n",
       "      <th>transactionid</th>\n",
       "      <th>date</th>\n",
       "      <th>month</th>\n",
       "      <th>time</th>\n",
       "    </tr>\n",
       "  </thead>\n",
       "  <tbody>\n",
       "    <tr>\n",
       "      <th>0</th>\n",
       "      <td>2015-06-02 05:02:12</td>\n",
       "      <td>257597</td>\n",
       "      <td>view</td>\n",
       "      <td>355908</td>\n",
       "      <td>0</td>\n",
       "      <td>2015-06-02</td>\n",
       "      <td>6</td>\n",
       "      <td>05:02:12</td>\n",
       "    </tr>\n",
       "    <tr>\n",
       "      <th>1</th>\n",
       "      <td>2015-06-02 05:50:14</td>\n",
       "      <td>992329</td>\n",
       "      <td>view</td>\n",
       "      <td>248676</td>\n",
       "      <td>0</td>\n",
       "      <td>2015-06-02</td>\n",
       "      <td>6</td>\n",
       "      <td>05:50:14</td>\n",
       "    </tr>\n",
       "    <tr>\n",
       "      <th>3</th>\n",
       "      <td>2015-06-02 05:12:35</td>\n",
       "      <td>483717</td>\n",
       "      <td>view</td>\n",
       "      <td>253185</td>\n",
       "      <td>0</td>\n",
       "      <td>2015-06-02</td>\n",
       "      <td>6</td>\n",
       "      <td>05:12:35</td>\n",
       "    </tr>\n",
       "    <tr>\n",
       "      <th>4</th>\n",
       "      <td>2015-06-02 05:02:17</td>\n",
       "      <td>951259</td>\n",
       "      <td>view</td>\n",
       "      <td>367447</td>\n",
       "      <td>0</td>\n",
       "      <td>2015-06-02</td>\n",
       "      <td>6</td>\n",
       "      <td>05:02:17</td>\n",
       "    </tr>\n",
       "    <tr>\n",
       "      <th>5</th>\n",
       "      <td>2015-06-02 05:48:06</td>\n",
       "      <td>972639</td>\n",
       "      <td>view</td>\n",
       "      <td>22556</td>\n",
       "      <td>0</td>\n",
       "      <td>2015-06-02</td>\n",
       "      <td>6</td>\n",
       "      <td>05:48:06</td>\n",
       "    </tr>\n",
       "  </tbody>\n",
       "</table>\n",
       "</div>"
      ],
      "text/plain": [
       "            timestamp  visitorid event  itemid  transactionid        date  \\\n",
       "0 2015-06-02 05:02:12     257597  view  355908              0  2015-06-02   \n",
       "1 2015-06-02 05:50:14     992329  view  248676              0  2015-06-02   \n",
       "3 2015-06-02 05:12:35     483717  view  253185              0  2015-06-02   \n",
       "4 2015-06-02 05:02:17     951259  view  367447              0  2015-06-02   \n",
       "5 2015-06-02 05:48:06     972639  view   22556              0  2015-06-02   \n",
       "\n",
       "   month      time  \n",
       "0      6  05:02:12  \n",
       "1      6  05:50:14  \n",
       "3      6  05:12:35  \n",
       "4      6  05:02:17  \n",
       "5      6  05:48:06  "
      ]
     },
     "execution_count": 50,
     "metadata": {},
     "output_type": "execute_result"
    }
   ],
   "source": [
    "valid_events.head()"
   ]
  },
  {
   "cell_type": "code",
   "execution_count": 54,
   "id": "a54dd49d",
   "metadata": {},
   "outputs": [],
   "source": [
    "valid_events_copy = valid_events.copy()\n",
    "items_copy = items.copy()"
   ]
  },
  {
   "cell_type": "code",
   "execution_count": 55,
   "id": "4d9be0d5",
   "metadata": {},
   "outputs": [
    {
     "data": {
      "text/plain": [
       "2015    2500065\n",
       "Name: year, dtype: int64"
      ]
     },
     "execution_count": 55,
     "metadata": {},
     "output_type": "execute_result"
    }
   ],
   "source": [
    "valid_events_copy['year'] = valid_events_copy['timestamp'].dt.year\n",
    "valid_events_copy['year'].value_counts()"
   ]
  },
  {
   "cell_type": "code",
   "execution_count": 56,
   "id": "d9f6c041",
   "metadata": {},
   "outputs": [
    {
     "data": {
      "text/plain": [
       "7     93224\n",
       "15    92868\n",
       "14    92815\n",
       "10    90308\n",
       "8     89339\n",
       "4     89120\n",
       "13    88613\n",
       "3     88607\n",
       "6     88225\n",
       "11    87965\n",
       "17    87057\n",
       "9     86915\n",
       "26    86467\n",
       "12    85788\n",
       "5     85492\n",
       "25    83470\n",
       "16    82933\n",
       "18    81337\n",
       "27    78461\n",
       "19    76578\n",
       "20    74663\n",
       "22    73617\n",
       "29    73269\n",
       "24    73189\n",
       "28    73110\n",
       "21    71432\n",
       "2     70236\n",
       "1     69688\n",
       "23    68575\n",
       "30    67851\n",
       "31    48853\n",
       "Name: day, dtype: int64"
      ]
     },
     "execution_count": 56,
     "metadata": {},
     "output_type": "execute_result"
    }
   ],
   "source": [
    "valid_events_copy['day'] = valid_events_copy['timestamp'].dt.day\n",
    "valid_events_copy['day'].value_counts()"
   ]
  },
  {
   "cell_type": "code",
   "execution_count": 57,
   "id": "82b45bff",
   "metadata": {},
   "outputs": [
    {
     "data": {
      "text/plain": [
       "2015    20275902\n",
       "Name: year, dtype: int64"
      ]
     },
     "execution_count": 57,
     "metadata": {},
     "output_type": "execute_result"
    }
   ],
   "source": [
    "items_copy['year'] = items_copy['timestamp'].dt.year\n",
    "items_copy['year'].value_counts()"
   ]
  },
  {
   "cell_type": "code",
   "execution_count": 58,
   "id": "15fd088f",
   "metadata": {
    "scrolled": false
   },
   "outputs": [
    {
     "data": {
      "text/plain": [
       "20    171152\n",
       "21    167770\n",
       "19    166539\n",
       "18    164535\n",
       "17    163319\n",
       "22    159575\n",
       "16    147186\n",
       "23    144253\n",
       "3     137050\n",
       "4     134232\n",
       "2     132072\n",
       "0     130550\n",
       "1     127115\n",
       "15    117193\n",
       "5     109004\n",
       "14     73525\n",
       "6      69885\n",
       "13     45828\n",
       "7      39811\n",
       "12     28164\n",
       "8      22743\n",
       "11     18092\n",
       "9      15840\n",
       "10     14632\n",
       "Name: hour, dtype: int64"
      ]
     },
     "execution_count": 58,
     "metadata": {},
     "output_type": "execute_result"
    }
   ],
   "source": [
    "valid_events_copy['hour'] = valid_events_copy['timestamp'].dt.hour\n",
    "valid_events_copy['hour'].value_counts()"
   ]
  },
  {
   "cell_type": "code",
   "execution_count": 59,
   "id": "965ab2a1",
   "metadata": {
    "scrolled": true
   },
   "outputs": [
    {
     "data": {
      "text/html": [
       "<div>\n",
       "<style scoped>\n",
       "    .dataframe tbody tr th:only-of-type {\n",
       "        vertical-align: middle;\n",
       "    }\n",
       "\n",
       "    .dataframe tbody tr th {\n",
       "        vertical-align: top;\n",
       "    }\n",
       "\n",
       "    .dataframe thead th {\n",
       "        text-align: right;\n",
       "    }\n",
       "</style>\n",
       "<table border=\"1\" class=\"dataframe\">\n",
       "  <thead>\n",
       "    <tr style=\"text-align: right;\">\n",
       "      <th></th>\n",
       "      <th>timestamp</th>\n",
       "      <th>visitorid</th>\n",
       "      <th>event</th>\n",
       "      <th>itemid</th>\n",
       "      <th>transactionid</th>\n",
       "      <th>date</th>\n",
       "      <th>month</th>\n",
       "      <th>time</th>\n",
       "      <th>year</th>\n",
       "      <th>day</th>\n",
       "      <th>hour</th>\n",
       "    </tr>\n",
       "  </thead>\n",
       "  <tbody>\n",
       "    <tr>\n",
       "      <th>0</th>\n",
       "      <td>2015-06-02 05:02:12</td>\n",
       "      <td>257597</td>\n",
       "      <td>view</td>\n",
       "      <td>355908</td>\n",
       "      <td>0</td>\n",
       "      <td>2015-06-02</td>\n",
       "      <td>6</td>\n",
       "      <td>05:02:12</td>\n",
       "      <td>2015</td>\n",
       "      <td>2</td>\n",
       "      <td>5</td>\n",
       "    </tr>\n",
       "    <tr>\n",
       "      <th>1</th>\n",
       "      <td>2015-06-02 05:50:14</td>\n",
       "      <td>992329</td>\n",
       "      <td>view</td>\n",
       "      <td>248676</td>\n",
       "      <td>0</td>\n",
       "      <td>2015-06-02</td>\n",
       "      <td>6</td>\n",
       "      <td>05:50:14</td>\n",
       "      <td>2015</td>\n",
       "      <td>2</td>\n",
       "      <td>5</td>\n",
       "    </tr>\n",
       "    <tr>\n",
       "      <th>3</th>\n",
       "      <td>2015-06-02 05:12:35</td>\n",
       "      <td>483717</td>\n",
       "      <td>view</td>\n",
       "      <td>253185</td>\n",
       "      <td>0</td>\n",
       "      <td>2015-06-02</td>\n",
       "      <td>6</td>\n",
       "      <td>05:12:35</td>\n",
       "      <td>2015</td>\n",
       "      <td>2</td>\n",
       "      <td>5</td>\n",
       "    </tr>\n",
       "    <tr>\n",
       "      <th>4</th>\n",
       "      <td>2015-06-02 05:02:17</td>\n",
       "      <td>951259</td>\n",
       "      <td>view</td>\n",
       "      <td>367447</td>\n",
       "      <td>0</td>\n",
       "      <td>2015-06-02</td>\n",
       "      <td>6</td>\n",
       "      <td>05:02:17</td>\n",
       "      <td>2015</td>\n",
       "      <td>2</td>\n",
       "      <td>5</td>\n",
       "    </tr>\n",
       "    <tr>\n",
       "      <th>5</th>\n",
       "      <td>2015-06-02 05:48:06</td>\n",
       "      <td>972639</td>\n",
       "      <td>view</td>\n",
       "      <td>22556</td>\n",
       "      <td>0</td>\n",
       "      <td>2015-06-02</td>\n",
       "      <td>6</td>\n",
       "      <td>05:48:06</td>\n",
       "      <td>2015</td>\n",
       "      <td>2</td>\n",
       "      <td>5</td>\n",
       "    </tr>\n",
       "  </tbody>\n",
       "</table>\n",
       "</div>"
      ],
      "text/plain": [
       "            timestamp  visitorid event  itemid  transactionid        date  \\\n",
       "0 2015-06-02 05:02:12     257597  view  355908              0  2015-06-02   \n",
       "1 2015-06-02 05:50:14     992329  view  248676              0  2015-06-02   \n",
       "3 2015-06-02 05:12:35     483717  view  253185              0  2015-06-02   \n",
       "4 2015-06-02 05:02:17     951259  view  367447              0  2015-06-02   \n",
       "5 2015-06-02 05:48:06     972639  view   22556              0  2015-06-02   \n",
       "\n",
       "   month      time  year  day  hour  \n",
       "0      6  05:02:12  2015    2     5  \n",
       "1      6  05:50:14  2015    2     5  \n",
       "3      6  05:12:35  2015    2     5  \n",
       "4      6  05:02:17  2015    2     5  \n",
       "5      6  05:48:06  2015    2     5  "
      ]
     },
     "execution_count": 59,
     "metadata": {},
     "output_type": "execute_result"
    }
   ],
   "source": [
    "valid_events_copy.head()"
   ]
  },
  {
   "cell_type": "markdown",
   "id": "ad2e676c",
   "metadata": {},
   "source": [
    "> - Both the `event` and `items` data cover the year `2015` only."
   ]
  },
  {
   "cell_type": "markdown",
   "id": "ca1cd2e8",
   "metadata": {
    "id": "ca1cd2e8"
   },
   "source": [
    " "
   ]
  },
  {
   "cell_type": "markdown",
   "id": "019ea80d",
   "metadata": {
    "id": "019ea80d"
   },
   "source": [
    "## 3. Exploratory Data Analysis and Visualization<a id='eda'></a>\n",
    "\n",
    "[Move Up](#mu)"
   ]
  },
  {
   "cell_type": "markdown",
   "id": "5c5f241c",
   "metadata": {
    "id": "5c5f241c"
   },
   "source": [
    "Here, we will analyse the data and visualize to answer the questions below: \n",
    "\n",
    "1. What is the overall scale of the dataset (unique users & items)?\n",
    "\n",
    "2. What is the distribution of event types (view, add-to-cart, transaction)?\n",
    "\n",
    "3. What are the most popular items?\n",
    "\n",
    "4. How does item popularity vary across time: month and day?\n",
    "\n",
    "5. \n",
    "\n",
    "6. How active are users (number of interactions per user)?\n",
    "\n",
    "7. How active are items (number of users per item)?\n",
    "\n",
    "8. How do user interactions vary over time of day? "
   ]
  },
  {
   "cell_type": "markdown",
   "id": "79042b37",
   "metadata": {
    "id": "a3f5dd9e"
   },
   "source": [
    "#### 1. Overall distribution of data"
   ]
  },
  {
   "cell_type": "code",
   "execution_count": 61,
   "id": "494ec9fa",
   "metadata": {},
   "outputs": [
    {
     "name": "stdout",
     "output_type": "stream",
     "text": [
      "Unique Users: 1236032, Unique Items: 185246\n"
     ]
    }
   ],
   "source": [
    "n_users = valid_events['visitorid'].nunique()\n",
    "n_items = valid_events['itemid'].nunique()\n",
    "print(f\"Unique Users: {n_users}, Unique Items: {n_items}\")\n"
   ]
  },
  {
   "cell_type": "markdown",
   "id": "f5052372",
   "metadata": {},
   "source": [
    "> The dataset contains 1,236,032 unique users and 185,246 unique items, indicating a large-scale recommendation challenge. This highlights the importance of efficient algorithms to handle sparsity."
   ]
  },
  {
   "cell_type": "markdown",
   "id": "c7c92ee7",
   "metadata": {
    "id": "a3f5dd9e"
   },
   "source": [
    "#### 2. Overall distribution of event types"
   ]
  },
  {
   "cell_type": "code",
   "execution_count": 63,
   "id": "e54f1138",
   "metadata": {
    "scrolled": false
   },
   "outputs": [
    {
     "data": {
      "image/png": "[encoded data removed]",
      "text/plain": [
       "<Figure size 1200x600 with 1 Axes>"
      ]
     },
     "metadata": {},
     "output_type": "display_data"
    }
   ],
   "source": [
    "ax = valid_events['event'].value_counts().plot(kind='bar', figsize=(12,6), edgecolor='black', color='violet')\n",
    "\n",
    "ax.yaxis.set_visible(False)\n",
    "for p in ax.patches:\n",
    "    ax.annotate(str(p.get_height()), \n",
    "                (p.get_x() + p.get_width() / 2, p.get_height()), \n",
    "                ha='center', va='bottom', fontsize=9)\n",
    "\n",
    "plt.title(\"Distribution of Events in Dataset\")\n",
    "plt.xlabel(\"Event Type\")\n",
    "plt.xticks(rotation=0)\n",
    "plt.show()\n"
   ]
  },
  {
   "cell_type": "markdown",
   "id": "f2e526b2",
   "metadata": {},
   "source": [
    "> Views dominate the dataset, followed by add-to-cart and transactions."
   ]
  },
  {
   "cell_type": "markdown",
   "id": "f0d60de7",
   "metadata": {
    "id": "a3f5dd9e"
   },
   "source": [
    "#### 3. Most popular items"
   ]
  },
  {
   "cell_type": "code",
   "execution_count": 64,
   "id": "02bd3596",
   "metadata": {},
   "outputs": [],
   "source": [
    "pop_item = valid_events['itemid'].value_counts().sort_values(ascending=False).head(10)"
   ]
  },
  {
   "cell_type": "code",
   "execution_count": 67,
   "id": "e04274bf",
   "metadata": {
    "scrolled": false
   },
   "outputs": [
    {
     "data": {
      "image/png": "[encoded data removed]",
      "text/plain": [
       "<Figure size 1200x600 with 1 Axes>"
      ]
     },
     "metadata": {},
     "output_type": "display_data"
    }
   ],
   "source": [
    "plt.figure(figsize=(12,6))\n",
    "ax = pop_item.plot(kind='bar', color='violet')\n",
    "\n",
    "plt.title(f\"Top 10 most popular items\")\n",
    "plt.xlabel(\"Item ID\")\n",
    "plt.xticks(rotation=45)\n",
    "\n",
    "ax.yaxis.set_visible(False)\n",
    "\n",
    "for p in ax.patches:\n",
    "    ax.annotate(str(p.get_height()), \n",
    "                (p.get_x() + p.get_width() / 2, p.get_height()), \n",
    "                ha='center', va='bottom', fontsize=9)\n",
    "\n",
    "plt.show()"
   ]
  },
  {
   "cell_type": "markdown",
   "id": "c0ca6497",
   "metadata": {},
   "source": [
    "> The chart shows the top 10 most interacted items. These items dominate user engagement, suggesting strong interest."
   ]
  },
  {
   "cell_type": "markdown",
   "id": "53c67af8",
   "metadata": {
    "id": "a3f5dd9e"
   },
   "source": [
    "#### 4.  Item popularity over time"
   ]
  },
  {
   "cell_type": "markdown",
   "id": "aafd8744",
   "metadata": {
    "id": "a3f5dd9e"
   },
   "source": [
    "#####  4.1  Item popularity by month"
   ]
  },
  {
   "cell_type": "code",
   "execution_count": 84,
   "id": "f8861ec7",
   "metadata": {},
   "outputs": [
    {
     "data": {
      "image/png": "[encoded data removed]",
      "text/plain": [
       "<Figure size 1000x600 with 1 Axes>"
      ]
     },
     "metadata": {},
     "output_type": "display_data"
    }
   ],
   "source": [
    "monthly_pop = valid_events.groupby('month')['itemid'].count()\n",
    "\n",
    "plt.figure(figsize=(10,6))\n",
    "plt.plot(monthly_pop.index, monthly_pop.values, marker='o', linewidth=2)\n",
    "\n",
    "for x, y in zip(monthly_pop.index, monthly_pop.values):\n",
    "    plt.text(x, y+200, str(y), ha='center', fontsize=9)\n",
    "\n",
    "plt.title(\"Item Popularity Over Months (2015)\")\n",
    "plt.xlabel(\"Month\")\n",
    "plt.xticks(range(1,13))\n",
    "plt.gca().get_yaxis().set_visible(False)\n",
    "plt.grid(alpha=0.3)\n",
    "\n",
    "plt.show()\n"
   ]
  },
  {
   "cell_type": "markdown",
   "id": "29a26b59",
   "metadata": {},
   "source": [
    "> Engagement fluctuates across months with clear peaks and dips. These patterns may indicate seasonal effects or specific campaign-driven spikes."
   ]
  },
  {
   "cell_type": "markdown",
   "id": "7c78a9ec",
   "metadata": {
    "id": "a3f5dd9e"
   },
   "source": [
    "##### 4.2  Item popularity by day"
   ]
  },
  {
   "cell_type": "code",
   "execution_count": 78,
   "id": "4cd4d47c",
   "metadata": {
    "scrolled": false
   },
   "outputs": [
    {
     "data": {
      "image/png": "[encoded data removed]",
      "text/plain": [
       "<Figure size 1200x800 with 1 Axes>"
      ]
     },
     "metadata": {},
     "output_type": "display_data"
    }
   ],
   "source": [
    "from scipy.signal import find_peaks\n",
    "pop_daily = valid_events_copy.groupby('day')['itemid'].count()\n",
    "\n",
    "plt.figure(figsize=(12,8))\n",
    "plt.plot(pop_daily.index, pop_daily.values, marker='o', markersize=3, linewidth=1, color= 'grey')\n",
    "\n",
    "\n",
    "peaks, _ = find_peaks(pop_daily.values, distance=5, prominence=500)\n",
    "\n",
    "valleys, _ = find_peaks(-pop_daily.values, distance=5, prominence=500)\n",
    "\n",
    "global_min_idx = pop_daily.idxmin()\n",
    "\n",
    "if pop_daily.index.get_loc(global_min_idx) not in valleys:\n",
    "    valleys = list(valleys) + [pop_daily.index.get_loc(global_min_idx)]\n",
    "\n",
    "\n",
    "for i in peaks:\n",
    "    plt.annotate(f\"{pop_daily.values[i]}\",\n",
    "                 xy=(pop_daily.index[i], pop_daily.values[i]),\n",
    "                 xytext=(pop_daily.index[i], pop_daily.values[i] + 500),\n",
    "                 arrowprops=dict(arrowstyle=\"->\", color=\"green\"),\n",
    "                 ha='center', fontsize=8, color=\"green\")\n",
    "\n",
    "\n",
    "for i in valleys:\n",
    "    plt.annotate(f\"{pop_daily.values[i]}\",\n",
    "                 xy=(pop_daily.index[i], pop_daily.values[i]),\n",
    "                 xytext=(pop_daily.index[i], pop_daily.values[i] + 500),\n",
    "                 arrowprops=dict(arrowstyle=\"->\", color=\"red\"),\n",
    "                 ha='center', fontsize=8, color=\"red\")\n",
    "\n",
    "\n",
    "plt.title(\"Daily Popularity of Items (2015)\")\n",
    "plt.xlabel(\"Date(day)\")\n",
    "plt.xticks(rotation=45)\n",
    "plt.gca().get_yaxis().set_visible(False)\n",
    "plt.grid(alpha=0.3)\n",
    "\n",
    "plt.show()\n"
   ]
  },
  {
   "cell_type": "markdown",
   "id": "dbf54425",
   "metadata": {},
   "source": [
    "> - Daily trends reveal strong peaks and troughs, useful for modeling temporal effects in recommendations.\n",
    "> - The are moderately  high interactions late mornings through to early afternoons.\n",
    "> - From 4pm to late evenings, interactions reduce drastically.\n",
    "> - Interactions are on the minimum at dawn."
   ]
  },
  {
   "cell_type": "markdown",
   "id": "e24662a6",
   "metadata": {
    "id": "a3f5dd9e"
   },
   "source": [
    "#### 5.  Most active users"
   ]
  },
  {
   "cell_type": "code",
   "execution_count": 79,
   "id": "35fd769e",
   "metadata": {
    "id": "a3f5dd9e"
   },
   "outputs": [
    {
     "data": {
      "image/png": "[encoded data removed]",
      "text/plain": [
       "<Figure size 1200x600 with 1 Axes>"
      ]
     },
     "metadata": {},
     "output_type": "display_data"
    }
   ],
   "source": [
    "active_users = valid_events['visitorid'].value_counts().head(10)\n",
    "\n",
    "plt.figure(figsize=(12,6))\n",
    "bars = plt.bar(active_users.index.astype(str), active_users.values, color='pink')\n",
    "\n",
    "for bar in bars:\n",
    "    plt.text(bar.get_x() + bar.get_width()/2, \n",
    "             bar.get_height(), \n",
    "             str(bar.get_height()), \n",
    "             ha='center', va='bottom', fontsize=9)\n",
    "\n",
    "plt.xticks(rotation=45)\n",
    "plt.title(\"Top 10 Most Active Users\")\n",
    "plt.xlabel(\"User ID\")\n",
    "plt.gca().get_yaxis().set_visible(False)\n",
    "plt.grid(axis='y', alpha=0.3)\n",
    "plt.show()"
   ]
  },
  {
   "cell_type": "markdown",
   "id": "bc0a5beb",
   "metadata": {
    "id": "a3f5dd9e"
   },
   "source": [
    "#### 6.  Items with most interactions"
   ]
  },
  {
   "cell_type": "code",
   "execution_count": 80,
   "id": "9bb44163",
   "metadata": {},
   "outputs": [
    {
     "data": {
      "image/png": "[encoded data removed]",
      "text/plain": [
       "<Figure size 1000x500 with 1 Axes>"
      ]
     },
     "metadata": {},
     "output_type": "display_data"
    }
   ],
   "source": [
    "item_activity = valid_events.groupby('itemid')['visitorid'].count()\n",
    "\n",
    "plt.figure(figsize=(10,5))\n",
    "plt.hist(item_activity, bins=50, log=True, color='grey')\n",
    "plt.title(\"Distribution of Item Activity\")\n",
    "plt.xlabel(\"Number of Users per Item\")\n",
    "plt.ylabel(\"Item Count (log scale)\")\n",
    "plt.show()\n"
   ]
  },
  {
   "cell_type": "markdown",
   "id": "579e82c3",
   "metadata": {
    "id": "a3f5dd9e"
   },
   "source": [
    "#### 7.  User interactions over time of day"
   ]
  },
  {
   "cell_type": "code",
   "execution_count": 83,
   "id": "bcde17de",
   "metadata": {},
   "outputs": [
    {
     "data": {
      "image/png": "[encoded data removed]",
      "text/plain": [
       "<Figure size 1200x500 with 1 Axes>"
      ]
     },
     "metadata": {},
     "output_type": "display_data"
    }
   ],
   "source": [
    "hourly_activity = valid_events_copy.groupby('hour')['itemid'].count()\n",
    "\n",
    "plt.figure(figsize=(12,5))\n",
    "plt.plot(hourly_activity.index, hourly_activity.values, marker='o')\n",
    "\n",
    "\n",
    "peaks, _ = find_peaks(hourly_activity.values, distance=1, prominence=5)\n",
    "valleys, _ = find_peaks(-hourly_activity.values, distance=1, prominence=5)\n",
    "\n",
    "# Always include global max and min\n",
    "global_max_idx = hourly_activity.idxmax()\n",
    "global_min_idx = hourly_activity.idxmin()\n",
    "\n",
    "if hourly_activity.index.get_loc(global_max_idx) not in peaks:\n",
    "    peaks = list(peaks) + [hourly_activity.index.get_loc(global_max_idx)]\n",
    "if hourly_activity.index.get_loc(global_min_idx) not in valleys:\n",
    "    valleys = list(valleys) + [hourly_activity.index.get_loc(global_min_idx)]\n",
    "\n",
    "# Annotate peaks\n",
    "for i in peaks:\n",
    "    plt.scatter(hourly_activity.index[i], hourly_activity.values[i], color=\"green\", s=50, zorder=3)\n",
    "    plt.text(hourly_activity.index[i], hourly_activity.values[i] + 3, \n",
    "             f\"{hourly_activity.values[i]}\", ha='center', fontsize=8, color=\"green\")\n",
    "\n",
    "# Annotate valleys\n",
    "for i in valleys:\n",
    "    plt.scatter(hourly_activity.index[i], hourly_activity.values[i], color=\"red\", s=50, zorder=3)\n",
    "    plt.text(hourly_activity.index[i], hourly_activity.values[i] + 3, \n",
    "             f\"{hourly_activity.values[i]}\", ha='center', fontsize=8, color=\"red\")\n",
    "\n",
    "plt.title(\"User Activity by Hour of Day\")\n",
    "plt.xlabel(\"Hour of Day\")\n",
    "plt.gca().get_yaxis().set_visible(False)\n",
    "plt.grid(alpha=0.3)\n",
    "plt.show()\n"
   ]
  },
  {
   "cell_type": "markdown",
   "id": "165bdc19",
   "metadata": {},
   "source": [
    "> User activity follows a daily cycle, peaking in the evening. This can inform time-aware recommendation models."
   ]
  },
  {
   "cell_type": "markdown",
   "id": "cd013924",
   "metadata": {
    "id": "cd013924"
   },
   "source": [
    " "
   ]
  },
  {
   "cell_type": "markdown",
   "id": "061accff",
   "metadata": {
    "id": "061accff"
   },
   "source": [
    " "
   ]
  },
  {
   "cell_type": "markdown",
   "id": "25782a31",
   "metadata": {
    "id": "019ea80d"
   },
   "source": [
    "## 4. Statistical Analysis<a id='sa'></a>\n",
    "\n",
    "[Move Up](#mu)"
   ]
  },
  {
   "cell_type": "code",
   "execution_count": null,
   "id": "39424064",
   "metadata": {
    "scrolled": true
   },
   "outputs": [],
   "source": [
    "import scipy.stats as stats\n",
    "\n",
    "contingency = pd.crosstab(valid_events['visitorid'], valid_events['event'])\n",
    "chi2, p, _, _ = stats.chi2_contingency(contingency)\n",
    "\n",
    "print(f\"Chi-square: {chi2}, p-value: {p}\")\n"
   ]
  },
  {
   "cell_type": "code",
   "execution_count": null,
   "id": "6fbfe67f",
   "metadata": {},
   "outputs": [],
   "source": [
    "user_counts = valid_events.groupby('visitorid')['itemid'].count()\n",
    "item_counts = valid_events.groupby('itemid')['visitorid'].count()"
   ]
  },
  {
   "cell_type": "code",
   "execution_count": null,
   "id": "1cc9c266",
   "metadata": {},
   "outputs": [],
   "source": [
    "# Sparsity estimate on the observed matrix\n",
    "observed_pairs = len(valid_events.groupby(['visitorid','itemid']))\n",
    "sparsity = 1 - observed_pairs / (n_users * n_items)\n",
    "print(f\"Observed pairs: {observed_pairs:,} | Sparsity ≈ {sparsity:.6f}\")\n",
    "\n",
    "def gini(x):\n",
    "    x = np.sort(x.astype(float))\n",
    "    if x.sum() == 0: return 0.0\n",
    "    n = len(x); cumx = np.cumsum(x)\n",
    "    return (n + 1 - 2*(cumx.sum()/cumx[-1]))/n\n",
    "\n",
    "gini_items = gini(item_counts.values)\n",
    "gini_users = gini(user_counts.values)\n",
    "print(f\"Gini (items): {gini_items:.3f} | Gini (users): {gini_users:.3f}\")\n"
   ]
  },
  {
   "cell_type": "markdown",
   "id": "1e08de17",
   "metadata": {},
   "source": [
    "> The chi-square test indicates whether user activity significantly differs by interaction type. If p < 0.05, then interaction types are not evenly distributed across users, proving strong behavioral variation."
   ]
  },
  {
   "cell_type": "markdown",
   "id": "a4b1608d",
   "metadata": {},
   "source": [
    "### 4.1 Removing Outliers (abnormal users) <a id='ro'></a>"
   ]
  },
  {
   "cell_type": "code",
   "execution_count": null,
   "id": "e63e718d",
   "metadata": {
    "scrolled": true
   },
   "outputs": [],
   "source": [
    "q1 = user_counts.quantile(0.25)\n",
    "q3 = user_counts.quantile(0.75)\n",
    "iqr = q3 - q1\n",
    "\n",
    "# Define upper and lower bounds\n",
    "lower = q1 - 1.5 * iqr\n",
    "upper = q3 + 1.5 * iqr\n",
    "\n",
    "# Filter abnormal users (potential bots or outliers)\n",
    "outliers = user_counts[(user_counts < lower) | (user_counts > upper)]\n",
    "clean_users = user_counts[(user_counts >= lower) & (user_counts <= upper)]\n",
    "\n",
    "print(f\"Total Users: {len(user_counts)}\")\n",
    "print(f\"Outliers Detected: {len(outliers)}\")\n",
    "print(f\"Remaining Clean Users: {len(clean_users)}\")\n",
    "\n",
    "\n"
   ]
  },
  {
   "cell_type": "code",
   "execution_count": null,
   "id": "22379515",
   "metadata": {},
   "outputs": [],
   "source": [
    "# IQR-based filtering for potential bots/abnormal users\n",
    "q1, q3 = user_counts.quantile([0.75, 0.95])  # tweak if needed\n",
    "iqr = q3 - q1\n",
    "upper = q3 + 1.5 * iqr\n",
    "\n",
    "abnormal_users = set(user_counts[user_counts > upper].index)\n",
    "print(f\"Flagged abnormal users: {len(abnormal_users):,} (cutoff > {upper:.0f} interactions)\")\n",
    "\n",
    "# Create filtered view (do NOT overwrite original)\n",
    "events_filtered = valid_events[~valid_events['visitorid'].isin(abnormal_users)].copy()\n",
    "print(f\"Kept rows: {len(events_filtered):,} / {len(valid_events):,}\")\n"
   ]
  },
  {
   "cell_type": "markdown",
   "id": "644869dc",
   "metadata": {},
   "source": [
    "> Outliers were removed based on IQR filtering, reducing the influence of users with extreme activity spikes (e.g., bots or power-users). This ensures fairness in later modeling."
   ]
  },
  {
   "cell_type": "markdown",
   "id": "f1d3089b",
   "metadata": {},
   "source": [
    "### 4.5 Hypothesis Test <a id='ht'></a>\n",
    "\n",
    "In statistics, a `hypothesis test` is used to assess and understand the plausibility, or likelihood of some hypothesis."
   ]
  },
  {
   "cell_type": "markdown",
   "id": "89371ca8",
   "metadata": {},
   "source": [
    "H0: There is no significant difference between interaction counts across events.\n",
    "H1: Interaction counts differ significantly."
   ]
  },
  {
   "cell_type": "code",
   "execution_count": null,
   "id": "1830c826",
   "metadata": {
    "scrolled": true
   },
   "outputs": [],
   "source": [
    "views = valid_events[valid_events['event'] == 'view'].shape[0]\n",
    "clicks = valid_events[valid_events['event'] == 'addtocart'].shape[0]\n",
    "purchases = valid_events[valid_events['event'] == 'transaction'].shape[0]\n",
    "\n",
    "chi2, p, _, _ = stats.chi2_contingency([[views, clicks, purchases]])\n",
    "print(f\"Chi2: {chi2}, p-value: {p}\")\n"
   ]
  },
  {
   "cell_type": "markdown",
   "id": "99af5419",
   "metadata": {},
   "source": [
    "> If p < 0.05, we reject H0, meaning user activity distribution is statistically different across event types (views >> clicks >> purchases)."
   ]
  },
  {
   "cell_type": "markdown",
   "id": "8fe8a9e5",
   "metadata": {},
   "source": [
    "> Clear monthly/daily variation; use time-aware splitting and consider recency weighting in the model."
   ]
  },
  {
   "cell_type": "markdown",
   "id": "2f5a3ee4",
   "metadata": {},
   "source": [
    "## 5. Modeling and evaluation<a id='dm'></a>\n",
    "\n",
    "[Move Up](#mu)"
   ]
  },
  {
   "cell_type": "markdown",
   "id": "5a674c0b",
   "metadata": {},
   "source": [
    "To remind ourselves, we stated earlier as one of the objectives to build a model that is able to predict annual salary of customers. Based on the methodology framework we saw at the beginning, we know that our problem continuous numeric prediction problem. We also highlighted that, we will have to build multiple models and then finally select the best one based on certain evaluation metrics.\n",
    "\n",
    "Therefore, to complete this task we will go through the various machine learning steps which includes;\n",
    "\n",
    "Data Understanding\n",
    "Feature Engineering\n",
    "Splitting Dataset\n",
    "Algorithm Evaluation\n",
    "Parameter Tuning\n",
    "Final Model\n",
    "Model Understanding"
   ]
  },
  {
   "cell_type": "markdown",
   "id": "c5cf72a9",
   "metadata": {},
   "source": [
    "### 5.1 Data Understanding<a id='du'></a>"
   ]
  },
  {
   "cell_type": "code",
   "execution_count": null,
   "id": "8ef44cfe",
   "metadata": {},
   "outputs": [],
   "source": [
    "import pandas as pd\n",
    "import numpy as np\n",
    "\n",
    "# Basic shapes\n",
    "n_rows = len(valid_events)\n",
    "n_users = valid_events['visitorid'].nunique()\n",
    "n_items = valid_events['itemid'].nunique()\n",
    "\n",
    "by_event = valid_events['event'].value_counts(dropna=False)\n",
    "span = valid_events['date'].min(), valid_events['date'].max()\n",
    "\n",
    "print(f\"Rows: {n_rows:,} | Users: {n_users:,} | Items: {n_items:,}\")\n",
    "print(\"Event mix:\\n\", by_event)\n",
    "print(\"Date span:\", span)\n"
   ]
  },
  {
   "cell_type": "markdown",
   "id": "8c34bc76",
   "metadata": {},
   "source": [
    "> Large user–item space with implicit feedback. Events are dominated by views (weak signal), with fewer addtocart and transaction (stronger signals). Time span confirms a single season/year (2015), so we will use time-based splits."
   ]
  },
  {
   "cell_type": "markdown",
   "id": "42ba5a2a",
   "metadata": {},
   "source": [
    "#### 5.1.1 Descriptive Statistics<a id='ds'></a>"
   ]
  },
  {
   "cell_type": "code",
   "execution_count": null,
   "id": "dbedd0a1",
   "metadata": {},
   "outputs": [],
   "source": [
    "# Interactions per user/item\n",
    "user_counts = valid_events.groupby('visitorid')['itemid'].count()\n",
    "item_counts = valid_events.groupby('itemid')['visitorid'].count()\n",
    "\n",
    "# Unique users and items\n",
    "print(\"Unique Users:\", valid_events['visitorid'].nunique())\n",
    "print(\"Unique Items:\", valid_events['itemid'].nunique())\n",
    "\n",
    "# Event type distribution\n",
    "print(valid_events['event'].value_counts(normalize=True) * 100)\n",
    "\n",
    "desc = pd.DataFrame({\n",
    "    'users_interactions': user_counts.describe(),\n",
    "    'items_interactions': item_counts.describe()\n",
    "})\n",
    "desc\n"
   ]
  },
  {
   "cell_type": "markdown",
   "id": "182aa3b8",
   "metadata": {},
   "source": [
    "> Both users and items show heavy long-tail: most users interact a handful of times; most items receive few interactions. This informs model choice (e.g., implicit MF + popularity smoothing) and regularization."
   ]
  },
  {
   "cell_type": "markdown",
   "id": "85eda723",
   "metadata": {},
   "source": [
    "#### 5.1.2 Data Visualization<a id='dv'></a>"
   ]
  },
  {
   "cell_type": "code",
   "execution_count": null,
   "id": "8cd3217d",
   "metadata": {},
   "outputs": [],
   "source": [
    "import matplotlib.pyplot as plt\n",
    "\n",
    "# 1) Event distribution\n",
    "ax = valid_events['event'].value_counts().plot(kind='bar', edgecolor='black', title='Event Type Distribution')\n",
    "ax.yaxis.set_visible(False)\n",
    "for p in ax.patches:\n",
    "    ax.annotate(str(p.get_height()), \n",
    "                (p.get_x() + p.get_width() / 2, p.get_height()), \n",
    "                ha='center', va='bottom', fontsize=9)\n",
    "\n",
    "plt.show()\n",
    "\n",
    "# 2) Monthly interactions (labels/pointers, no y-axis)\n",
    "monthly = valid_events.groupby('month')['itemid'].count()\n",
    "plt.figure(figsize=(10,5)); plt.plot(monthly.index, monthly.values, marker='o', linewidth=2)\n",
    "for x, y in zip(monthly.index, monthly.values):\n",
    "    plt.text(x, y + 0.01*monthly.max(), str(y), ha='center', fontsize=9)\n",
    "plt.title(\"Monthly Interactions (2015)\"); plt.xlabel(\"Month\"); plt.gca().yaxis.set_visible(False); plt.grid(alpha=.3); plt.xticks(range(1,13))\n",
    "plt.show()\n",
    "\n",
    "# 3) Daily trend with peak/low pointers, no y-axis\n",
    "daily = valid_events.groupby('date')['itemid'].count()\n",
    "plt.figure(figsize=(12,5)); plt.plot(daily.index, daily.values, marker='.', linewidth=1)\n",
    "pk, lo = daily.idxmax(), daily.idxmin()\n",
    "plt.annotate(f\"Peak: {daily.max()}\", xy=(pk, daily.max()), xytext=(pk, daily.max()*1.05),\n",
    "             arrowprops=dict(arrowstyle='->'), ha='center', fontsize=9, color='green')\n",
    "plt.annotate(f\"Low: {daily.min()}\",  xy=(lo, daily.min()), xytext=(lo, daily.min()*1.10),\n",
    "             arrowprops=dict(arrowstyle='->'), ha='center', fontsize=9, color='red')\n",
    "plt.title(\"Daily Interactions (Peaks & Lows)\"); plt.xlabel(\"Date\"); plt.gca().yaxis.set_visible(False); plt.grid(alpha=.3); plt.xticks(rotation=45)\n",
    "plt.show()\n"
   ]
  },
  {
   "cell_type": "code",
   "execution_count": null,
   "id": "d48fc35a",
   "metadata": {},
   "outputs": [],
   "source": [
    "# Shape of dataset\n",
    "print(f\"Rows: {valid_events.shape[0]}, Columns: {valid_events.shape[1]}\")\n",
    "\n",
    "# Info summary\n",
    "print(valid_events.info())\n",
    "\n",
    "# Missing values\n",
    "print(valid_events.isnull().sum())\n"
   ]
  },
  {
   "cell_type": "markdown",
   "id": "cdf98705",
   "metadata": {},
   "source": [
    "### 5.2 Feature Engineering & Selection (implicit strength) <a id='fe'></a>\n",
    "\n",
    "Based on the outcome from data understanding, we will engineer new features and determine which features are needed for building our ML model."
   ]
  },
  {
   "cell_type": "code",
   "execution_count": null,
   "id": "a2302e2c",
   "metadata": {},
   "outputs": [],
   "source": [
    "events_filtered"
   ]
  },
  {
   "cell_type": "code",
   "execution_count": null,
   "id": "88487089",
   "metadata": {
    "scrolled": true
   },
   "outputs": [],
   "source": [
    "weights = {'view': 1.0, 'addtocart': 3.0, 'transaction': 5.0}\n",
    "ef = events_filtered.copy()\n",
    "ef = ef[ef['event'].isin(weights)]\n",
    "ef['strength'] = ef['event'].map(weights)\n",
    "\n",
    "\n",
    "ui = ef.groupby(['visitorid','itemid'])['strength'].sum().reset_index()\n",
    "\n",
    "ui.head()\n"
   ]
  },
  {
   "cell_type": "markdown",
   "id": "9af1509c",
   "metadata": {},
   "source": [
    "### 5.3 Splitting Dataset (time-based) <a id='sd'></a>\n",
    "\n",
    "\n",
    "It is a good idea to use a test hold-out set. This is a sample of the data that we hold back from our analysis and modeling. We use it right at the end of our project to evaluate the performance of our final model. It is a smoke test that we can use to see if we messed up and to give us confidence on models performance on unseen data. We will use 80% of the dataset for modeling and hold back 20% for validation.\n",
    "\n",
    "We will begin by importing the needed libraries for this task."
   ]
  },
  {
   "cell_type": "code",
   "execution_count": null,
   "id": "74c5ca35",
   "metadata": {},
   "outputs": [],
   "source": [
    "cut_date = pd.to_datetime(ef['date']).quantile(0.8)  # 80/20 split by time\n",
    "train_e = ef[ef['date'] <= cut_date]\n",
    "test_e  = ef[ef['date']  > cut_date]\n",
    "\n",
    "train_ui = train_e.groupby(['visitorid','itemid'])['strength'].sum().reset_index()\n",
    "test_ui  = test_e.groupby(['visitorid','itemid'])['strength'].sum().reset_index()\n",
    "\n",
    "print(train_e['date'].min(), \"→\", train_e['date'].max(), \"|\", test_e['date'].min(), \"→\", test_e['date'].max())\n",
    "print(f\"Train pairs: {len(train_ui):,} | Test pairs: {len(test_ui):,}\")\n"
   ]
  },
  {
   "cell_type": "markdown",
   "id": "1ee15d4d",
   "metadata": {},
   "source": [
    "### 5.4 Modeling (3 practical baselines) <a id='sd'></a>"
   ]
  },
  {
   "cell_type": "markdown",
   "id": "731f1eac",
   "metadata": {},
   "source": [
    "#### 1) Popularity (global) <a id='pg'></a>**"
   ]
  },
  {
   "cell_type": "code",
   "execution_count": null,
   "id": "4b6b92ad",
   "metadata": {},
   "outputs": [],
   "source": [
    "# Recommend most popular items from train (by strength)\n",
    "pop_scores = train_ui.groupby('itemid')['strength'].sum().sort_values(ascending=False)\n",
    "popular_items = pop_scores.index.values  # ranking\n"
   ]
  },
  {
   "cell_type": "markdown",
   "id": "d94bbac6",
   "metadata": {},
   "source": [
    "#### 2) Item-Item Cosine (TF-IDF-ish weighting)"
   ]
  },
  {
   "cell_type": "code",
   "execution_count": null,
   "id": "86304b4d",
   "metadata": {},
   "outputs": [],
   "source": [
    "import pandas as pd\n",
    "from sklearn.neighbors import NearestNeighbors\n",
    "from scipy.sparse import csr_matrix\n",
    "\n",
    "user_encoder = {u: i for i, u in enumerate(valid_events['visitorid'].unique())}\n",
    "item_encoder = {i: j for j, i in enumerate(valid_events['itemid'].unique())}\n",
    "item_decoder = {j: i for i, j in item_encoder.items()}  \n",
    "\n",
    "row = valid_events['visitorid'].map(user_encoder)\n",
    "col = valid_events['itemid'].map(item_encoder)\n",
    "data = [1] * len(valid_events)  # implicit feedback (1 per interaction)\n",
    "\n",
    "user_item_matrix = csr_matrix((data, (row, col)), shape=(len(user_encoder), len(item_encoder)))\n",
    "\n",
    "item_user_matrix = user_item_matrix.T\n",
    "\n",
    "model_knn = NearestNeighbors(metric='cosine', algorithm='brute')\n",
    "model_knn.fit(item_user_matrix)\n",
    "\n",
    "# Function to get similar items\n",
    "def get_similar_items(item_id, n_neighbors=6):\n",
    "    if item_id not in item_encoder:\n",
    "        return f\"Item {item_id} not found in data.\"\n",
    "    \n",
    "    item_idx = item_encoder[item_id]\n",
    "    distances, indices = model_knn.kneighbors(item_user_matrix[item_idx], n_neighbors=n_neighbors)\n",
    "    \n",
    "    similar_items = [(item_decoder[i], 1 - distances.flatten()[j])\n",
    "                     for j, i in enumerate(indices.flatten()) if i != item_idx]\n",
    "    \n",
    "    return sorted(similar_items, key=lambda x: -x[1])\n",
    "\n",
    "# Example usage\n",
    "sample_item = list(item_encoder.keys())[100]  # pick a sample item\n",
    "print(f\"Items similar to {sample_item}:\")\n",
    "print(get_similar_items(sample_item, n_neighbors=6))\n"
   ]
  },
  {
   "cell_type": "code",
   "execution_count": null,
   "id": "bcb9df1a",
   "metadata": {},
   "outputs": [],
   "source": [
    "import pandas as pd\n",
    "from scipy.sparse import csr_matrix\n",
    "from sklearn.feature_extraction.text import TfidfTransformer\n",
    "from sklearn.metrics.pairwise import cosine_similarity\n",
    "\n",
    "# Step 1: Encode IDs\n",
    "user_ids = {u: i for i, u in enumerate(valid_events['visitorid'].unique())}\n",
    "item_ids = {i: j for j, i in enumerate(valid_events['itemid'].unique())}\n",
    "\n",
    "valid_events['user_idx'] = valid_events['visitorid'].map(user_ids)\n",
    "valid_events['item_idx'] = valid_events['itemid'].map(item_ids)\n",
    "\n",
    "# Step 2: Build sparse user-item matrix\n",
    "rows = valid_events['item_idx']\n",
    "cols = valid_events['user_idx']\n",
    "data = [1] * len(valid_events)   # binary interaction\n",
    "item_user_matrix = csr_matrix((data, (rows, cols)), \n",
    "                              shape=(len(item_ids), len(user_ids)))\n",
    "\n",
    "# Step 3: Apply TF-IDF weighting\n",
    "tfidf = TfidfTransformer()\n",
    "item_user_tfidf = tfidf.fit_transform(item_user_matrix)\n",
    "\n",
    "# Step 4: Compute item-item similarity (sparse safe)\n",
    "# ⚠️ pairwise similarity can still be huge, so restrict neighbors\n",
    "from sklearn.neighbors import NearestNeighbors\n",
    "\n",
    "knn = NearestNeighbors(metric=\"cosine\", algorithm=\"brute\", n_neighbors=20, n_jobs=-1)\n",
    "knn.fit(item_user_tfidf)\n",
    "\n",
    "def get_similar_items(item_raw_id, top_n=10):\n",
    "    if item_raw_id not in item_ids:\n",
    "        return []\n",
    "    idx = item_ids[item_raw_id]\n",
    "    distances, indices = knn.kneighbors(item_user_tfidf[idx], n_neighbors=top_n+1)\n",
    "    similar = [(list(item_ids.keys())[list(item_ids.values()).index(i)], 1-d) \n",
    "               for i, d in zip(indices.flatten()[1:], distances.flatten()[1:])]\n",
    "    return similar\n"
   ]
  },
  {
   "cell_type": "code",
   "execution_count": null,
   "id": "5a007c0a",
   "metadata": {},
   "outputs": [],
   "source": [
    "from scipy.sparse import csr_matrix\n",
    "from sklearn.neighbors import NearestNeighbors\n",
    "\n",
    "# # Build user–item matrix for train\n",
    "# u_ids = {u:i for i,u in enumerate(train_ui['visitorid'].unique())}\n",
    "# i_ids = {it:i for i,it in enumerate(train_ui['itemid'].unique())}\n",
    "# ru = train_ui['visitorid'].map(u_ids)\n",
    "# ri = train_ui['itemid'].map(i_ids)\n",
    "# R = csr_matrix((train_ui['strength'].values, (ru, ri)), shape=(len(u_ids), len(i_ids)))\n",
    "\n",
    "# # Item similarity matrix (cosine)\n",
    "# S = cosine_similarity(R.T)  # items x items\n",
    "\n",
    "# # Fast top-K per item (indices)\n",
    "# topk = 100\n",
    "# sim_idx = np.argpartition(-S, kth=range(1,topk+1), axis=1)[:, :topk]  # approximate top-k\n",
    "\n",
    "\n",
    "\n",
    "# Fit NearestNeighbors with cosine distance\n",
    "knn = NearestNeighbors(metric=\"cosine\", algorithm=\"brute\", n_neighbors=50, n_jobs=-1)\n",
    "knn.fit(R.T)\n",
    "\n",
    "# Get Top-50 neighbors for each item\n",
    "distances, indices = knn.kneighbors(R.T, return_distance=True)\n",
    "\n",
    "print(f\"indices shape: {indices.shape}\")  # (num_items, 50)\n",
    "\n"
   ]
  },
  {
   "cell_type": "markdown",
   "id": "a4a4a866",
   "metadata": {},
   "source": [
    "#### 3) Latent Factors (TruncatedSVD ≈ MF for implicit)"
   ]
  },
  {
   "cell_type": "code",
   "execution_count": null,
   "id": "b4f0902c",
   "metadata": {},
   "outputs": [],
   "source": [
    "from sklearn.decomposition import TruncatedSVD\n",
    "k = 64\n",
    "svd = TruncatedSVD(n_components=k, random_state=42)\n",
    "Vt = svd.fit_transform(R.T)       \n",
    "U  = (R @ Vt)                     \n"
   ]
  },
  {
   "cell_type": "markdown",
   "id": "2e169111",
   "metadata": {},
   "source": [
    "> We establish three strong baselines: Popularity, Item-Item CF, and SVD latent factors. These cover non-personalized and personalized recommenders for implicit data."
   ]
  },
  {
   "cell_type": "markdown",
   "id": "bb2a195d",
   "metadata": {},
   "source": [
    "### 3.3 Algorithm Evaluation (Precision@K, Recall@K) <a id='sd'></a>"
   ]
  },
  {
   "cell_type": "code",
   "execution_count": null,
   "id": "0eea7540",
   "metadata": {},
   "outputs": [],
   "source": [
    "# Build helpers\n",
    "from collections import defaultdict\n",
    "\n",
    "def to_user_items(df):\n",
    "    g = defaultdict(set)\n",
    "    for u, it in df[['visitorid','itemid']].itertuples(index=False):\n",
    "        g[u].add(it)\n",
    "    return g\n",
    "\n",
    "train_pos = to_user_items(train_ui)\n",
    "test_pos  = to_user_items(test_ui)\n",
    "\n",
    "all_items = np.array(list(i_ids.keys()))\n",
    "item_inv  = {it:i for i,it in enumerate(i_ids.keys())}  # itemid -> col index (train matrix)\n",
    "\n",
    "def recommend_pop(u, K=10):\n",
    "    return popular_items[:K]\n",
    "\n",
    "def recommend_cf(u, K=10):\n",
    "    # score by summing similarities to items user had in train\n",
    "    if u not in train_pos: return popular_items[:K]\n",
    "    seen = [item_inv[it] for it in train_pos[u] if it in item_inv]\n",
    "    if not seen: return popular_items[:K]\n",
    "    scores = S[:, seen].sum(axis=1)  # aggregate similarity\n",
    "    # filter seen\n",
    "    scores[seen] = -np.inf\n",
    "    top = np.argpartition(-scores, K)[:K]\n",
    "    return np.array(list(i_ids.keys()))[top]\n",
    "\n",
    "def recommend_svd(u, K=10):\n",
    "    if u not in u_ids: return popular_items[:K]\n",
    "    urow = U[u_ids[u]]            # user vector\n",
    "    scores = Vt @ urow            # item scores\n",
    "    seen  = [item_inv[it] for it in train_pos.get(u, []) if it in item_inv]\n",
    "    if seen:\n",
    "        scores[seen] = -np.inf\n",
    "    top = np.argpartition(-scores, K)[:K]\n",
    "    return np.array(list(i_ids.keys()))[top]\n",
    "\n",
    "def precision_recall_at_k(recommender, K=10, users=None):\n",
    "    if users is None:\n",
    "        users = list(set(test_pos.keys()) & set(train_pos.keys()))\n",
    "    hits = 0; total_pred = 0; total_true = 0\n",
    "    for u in users:\n",
    "        true = test_pos[u]\n",
    "        recs = recommender(u, K=K)\n",
    "        hits += len(set(recs) & true)\n",
    "        total_pred += K\n",
    "        total_true += len(true)\n",
    "    precision = hits / total_pred if total_pred else 0\n",
    "    recall = hits / total_true if total_true else 0\n",
    "    return precision, recall\n",
    "\n",
    "for name, f in [('Popularity', recommend_pop), ('ItemCF', recommend_cf), ('SVD', recommend_svd)]:\n",
    "    p, r = precision_recall_at_k(f, K=10)\n",
    "    print(f\"{name} @10 → Precision: {p:.4f} | Recall: {r:.4f}\")\n"
   ]
  },
  {
   "cell_type": "markdown",
   "id": "e4e84688",
   "metadata": {},
   "source": [
    "> - Popularity gives a strong but generic baseline.\n",
    "\n",
    "> - Item-Item CF usually improves personalization when users have prior interactions.\n",
    "\n",
    "> - SVD often wins if you have enough data; tune k and regularization (we used default SVD; implicit ALS can be even better)."
   ]
  },
  {
   "cell_type": "markdown",
   "id": "d53c599b",
   "metadata": {},
   "source": [
    "### 5.3 Confidence Intervals & Hypothesis Test (bootstrap on user-level Precision@K) <a id='ci'></a>"
   ]
  },
  {
   "cell_type": "code",
   "execution_count": null,
   "id": "97a04d7b",
   "metadata": {},
   "outputs": [],
   "source": [
    "import random\n",
    "def user_precision(recommender, K=10):\n",
    "    vals = []\n",
    "    users = list(set(test_pos.keys()) & set(train_pos.keys()))\n",
    "    for u in users:\n",
    "        true = test_pos[u]\n",
    "        recs = recommender(u, K=K)\n",
    "        vals.append(len(set(recs) & true)/K)\n",
    "    return np.array(vals)\n",
    "\n",
    "pop_p = user_precision(recommend_pop, K=10)\n",
    "svd_p = user_precision(recommend_svd, K=10)\n",
    "\n",
    "def bootstrap_ci(x, B=1000, alpha=0.05):\n",
    "    means = []\n",
    "    n = len(x)\n",
    "    for _ in range(B):\n",
    "        sample = x[np.random.randint(0, n, n)]\n",
    "        means.append(sample.mean())\n",
    "    lo, hi = np.percentile(means, [100*alpha/2, 100*(1-alpha/2)])\n",
    "    return lo, hi\n",
    "\n",
    "pop_ci = bootstrap_ci(pop_p)\n",
    "svd_ci = bootstrap_ci(svd_p)\n",
    "print(\"Precision@10 CI (Popularity):\", pop_ci)\n",
    "print(\"Precision@10 CI (SVD):\", svd_ci)\n",
    "\n",
    "# Hypothesis: SVD precision mean > Pop precision mean (paired bootstrap)\n",
    "diffs = []\n",
    "for _ in range(1000):\n",
    "    idx = np.random.randint(0, len(pop_p), len(pop_p))\n",
    "    diffs.append((svd_p[idx] - pop_p[idx]).mean())\n",
    "p_value = (np.array(diffs) <= 0).mean()  # one-sided\n",
    "print(f\"Paired bootstrap p-value (SVD > Pop): {p_value:.4f}\")\n"
   ]
  },
  {
   "cell_type": "code",
   "execution_count": null,
   "id": "85b942c5",
   "metadata": {},
   "outputs": [],
   "source": []
  },
  {
   "cell_type": "code",
   "execution_count": null,
   "id": "dc7eb0a2",
   "metadata": {},
   "outputs": [],
   "source": []
  },
  {
   "cell_type": "markdown",
   "id": "6c7ea3f6",
   "metadata": {},
   "source": [
    "### 5.5 Hyperparameter Tuning<a id='pt'></a>"
   ]
  },
  {
   "cell_type": "code",
   "execution_count": null,
   "id": "56fabf3b",
   "metadata": {},
   "outputs": [],
   "source": [
    "ks = [32, 64, 96, 128]\n",
    "results = []\n",
    "for k in ks:\n",
    "    svd = TruncatedSVD(n_components=k, random_state=42)\n",
    "    Vt_k = svd.fit_transform(R.T)\n",
    "    U_k  = (R @ Vt_k)\n",
    "    def recommend_svd_k(u, K=10, U_k=U_k, Vt_k=Vt_k):\n",
    "        if u not in u_ids: return popular_items[:K]\n",
    "        scores = Vt_k @ U_k[u_ids[u]]\n",
    "        seen  = [item_inv[it] for it in train_pos.get(u, []) if it in item_inv]\n",
    "        if seen: scores[seen] = -np.inf\n",
    "        top = np.argpartition(-scores, K)[:K]\n",
    "        return np.array(list(i_ids.keys()))[top]\n",
    "    p, r = precision_recall_at_k(recommend_svd_k, K=10)\n",
    "    results.append((k, p, r))\n",
    "\n",
    "pd.DataFrame(results, columns=['k','precision@10','recall@10']).sort_values('precision@10', ascending=False)\n"
   ]
  },
  {
   "cell_type": "code",
   "execution_count": null,
   "id": "870fa9bb",
   "metadata": {},
   "outputs": [],
   "source": []
  },
  {
   "cell_type": "markdown",
   "id": "0d84728c",
   "metadata": {},
   "source": [
    "### 5.6 Finalizing Model<a id='fm'></a>"
   ]
  },
  {
   "cell_type": "code",
   "execution_count": null,
   "id": "fcf0130f",
   "metadata": {},
   "outputs": [],
   "source": [
    "# Refit chosen model on ALL filtered interactions (train + test period combined)\n",
    "all_e = ef.copy()\n",
    "all_ui = all_e.groupby(['visitorid','itemid'])['strength'].sum().reset_index()\n",
    "\n",
    "u_all = {u:i for i,u in enumerate(all_ui['visitorid'].unique())}\n",
    "i_all = {it:i for i,it in enumerate(all_ui['itemid'].unique())}\n",
    "Ru = all_ui['visitorid'].map(u_all); Ri = all_ui['itemid'].map(i_all)\n",
    "\n",
    "from scipy.sparse import csr_matrix\n",
    "R_all = csr_matrix((all_ui['strength'].values, (Ru, Ri)), shape=(len(u_all), len(i_all)))\n",
    "\n",
    "# Final SVD\n",
    "best_k = 64\n",
    "final_svd = TruncatedSVD(n_components=best_k, random_state=42)\n",
    "Vt_final = final_svd.fit_transform(R_all.T)\n",
    "\n",
    "import joblib\n",
    "joblib.dump({\n",
    "    'u_index': u_all,\n",
    "    'i_index': i_all,\n",
    "    'Vt': Vt_final,\n",
    "    'model': final_svd\n",
    "}, '../App/final_recommender_svd.pkl')\n",
    "print(\"Saved final model to final_recommender_svd.pkl\")\n"
   ]
  },
  {
   "cell_type": "code",
   "execution_count": null,
   "id": "c75dbc55",
   "metadata": {},
   "outputs": [],
   "source": []
  },
  {
   "cell_type": "markdown",
   "id": "c39c81e9",
   "metadata": {},
   "source": [
    "### 5.7 Model Understanding<a id='mdu'></a>"
   ]
  },
  {
   "cell_type": "code",
   "execution_count": null,
   "id": "be85500b",
   "metadata": {},
   "outputs": [],
   "source": [
    "# Inspect nearest neighbors for a sample item (by cosine in factor space)\n",
    "from sklearn.metrics.pairwise import cosine_similarity\n",
    "sample_item = next(iter(i_all.keys()))\n",
    "sample_vec = Vt_final[i_all[sample_item]].reshape(1, -1)\n",
    "sims = cosine_similarity(sample_vec, Vt_final).ravel()\n",
    "top_idx = np.argpartition(-sims, 11)[:11]  # include itself\n",
    "neighbors = [list(i_all.keys())[i] for i in top_idx if list(i_all.keys())[i] != sample_item]\n",
    "neighbors[:10]\n"
   ]
  },
  {
   "cell_type": "code",
   "execution_count": null,
   "id": "34378932",
   "metadata": {},
   "outputs": [],
   "source": []
  },
  {
   "cell_type": "markdown",
   "id": "c5a0cfbb",
   "metadata": {
    "id": "c5a0cfbb"
   },
   "source": [
    " "
   ]
  },
  {
   "cell_type": "markdown",
   "id": "156a13c7",
   "metadata": {
    "id": "156a13c7"
   },
   "source": [
    " "
   ]
  },
  {
   "cell_type": "markdown",
   "id": "50ac2dd3",
   "metadata": {
    "id": "50ac2dd3"
   },
   "source": [
    "### 6. Conclusion and Recommendation<a id='cr'></a>\n",
    "\n",
    "[Move Up](#mu)"
   ]
  },
  {
   "cell_type": "markdown",
   "id": "1c6a3124",
   "metadata": {
    "id": "1c6a3124"
   },
   "source": [
    "This analysis of TransBorder Freight Data, spanning from 2020 to 2024, has provided valuable insights into the dynamics of trade between the United States, Canada, and Mexico. Leveraging the CRISP-DM methodology, we have cleaned, preprocessed, and explored the dataset to uncover key patterns, potential inefficiencies, and areas for improvement.\n",
    "\n",
    "**Key Insights from Exploratory Data Analysis (EDA)**\n",
    "1. Trade Type Dynamics:\n",
    "\n",
    "    - While the number of export shipments is higher, the total value and weight of import shipments significantly exceed exports. This suggests that imported goods are generally of higher individual value and greater physical volume, potentially comprising raw materials or heavier manufactured goods.\n",
    "     ** **\n",
    "\n",
    "2. Dominance of Transportation Modes:\n",
    "\n",
    "    - Trucking is the undisputed leader in terms of the number of shipments and total economic value for transborder freight. Its flexibility and extensive network make it the primary choice for a wide range of goods.\n",
    "\n",
    "    - For total physical weight, Vessel and Pipeline transportation are paramount, indicating their critical role in moving bulk commodities (e.g., oil, gas, minerals) where volume is the primary factor.\n",
    "\n",
    "    - Rail transportation holds a strong second position in both value and weight, particularly for Canadian trade.\n",
    "     ** **\n",
    "\n",
    "3. Geographical Hotspots and Trade Corridors:\n",
    "\n",
    "    - Texas (TX) is the most significant U.S. state for transborder freight in terms of both value and weight among the known states, serving as a major gateway to Mexico.\n",
    "\n",
    "    - Ontario (XO) is the leading Canadian province by value, reflecting its industrial ties, while Alberta (XA) dominates by weight, largely due to energy exports.\n",
    "\n",
    "    - Mexican trade is concentrated in states bordering the U.S., though a significant portion of Mexican state data is unclassified (\"XX\").\n",
    "\n",
    "    - Data Limitation: A substantial portion of geographical data (U.S. States, Mexican States, Canadian Provinces) is classified as \"UNKNOWN\" or generic codes, limiting granular regional analysis.\n",
    "     ** **\n",
    "\n",
    "4. Temporal Trends and Economic Resilience:\n",
    "\n",
    "    - The data clearly shows a sharp decline in freight value and weight in early to mid-2020, directly correlating with the onset of the COVID-19 pandemic.\n",
    "\n",
    "    - Following this initial disruption, there has been a strong and sustained recovery and growth in transborder freight activity through 2021, 2022, and 2023, reaching levels higher than pre-pandemic. This demonstrates the resilience of the North American supply chain.\n",
    "\n",
    "    - Specific monthly patterns by mode indicate that while overall trends follow economic cycles, individual modes might have unique seasonal fluctuations.\n",
    "     ** **\n",
    "\n",
    "5. Commodity Flow:\n",
    "\n",
    "    - Vehicles (87), Mineral Fuels (27), and Machinery (84, 85) are the highest-value commodities, reflecting the importance of manufacturing and energy trade.\n",
    "\n",
    "    - Mineral Fuels (27), Salt/Sulfur/Earths/Stone (25), and Wood (44) dominate in terms of physical weight, highlighting the movement of raw materials and bulk goods.\n",
    "\n",
    "    - There's a clear distinction: high-value manufactured goods (vehicles, machinery) drive value, while bulk commodities (fuels, minerals, wood) drive weight.\n",
    "     ** **\n",
    "\n",
    "6. Freight Charge Dynamics:\n",
    "\n",
    "    - Air and \"Other\" modes have the highest average freight charges per kilogram, which is expected for expedited or specialized services.\n",
    "\n",
    "    - Pipeline and Rail are the most cost-efficient modes per kilogram, reinforcing their role in bulk transport.\n",
    "\n",
    "    - The relationship between freight charges and value/weight can be complex; further investigation is needed to pinpoint specific inefficiencies beyond these high-level averages.\n",
    "\n",
    "**Recommendations**\n",
    "\n",
    "Based on these insights, here are actionable recommendations to enhance the performance, sustainability, and safety of transborder transportation systems:\n",
    "\n",
    "\n",
    "1. Optimize Trucking Operations:\n",
    "\n",
    "    - Recommendation: Given trucking's overwhelming dominance in shipment count and value, focus on optimizing truck routes, reducing border wait times, and improving road infrastructure at key border crossings (e.g., Texas-Mexico, Michigan-Ontario).\n",
    "\n",
    "    - Why: Even small improvements in efficiency for trucking will yield significant overall benefits due to its sheer volume.\n",
    "\n",
    "    - Impact: Reduced transit times, lower operational costs for businesses, decreased congestion, and improved throughput.\n",
    "    ** **\n",
    "\n",
    "2. Leverage Rail and Pipeline for Bulk Efficiency:\n",
    "\n",
    "    - Recommendation: Encourage and invest in expanding rail and pipeline capacity, especially for high-weight commodities like mineral fuels, metals, and agricultural products, particularly for trade with Canada (Alberta's weight dominance).\n",
    "\n",
    "    - Why: These modes offer superior cost-efficiency for bulk transport and can alleviate road congestion.\n",
    "\n",
    "    - Impact: Lower per-unit shipping costs for bulk goods, reduced environmental footprint compared to trucking for heavy loads, and increased capacity for high-volume trade.\n",
    "    ** **\n",
    "\n",
    "3. Address Data Gaps for Granular Analysis:\n",
    "\n",
    "    - Recommendation: Implement stricter data collection protocols to minimize \"UNKNOWN\" or generic codes for U.S. States, Mexican States, and Canadian Provinces, and ensure SHIPWT data is consistently recorded for all Mexican shipments.\n",
    "\n",
    "    - Why: More complete geographical and weight data would enable more precise routing optimization, infrastructure planning, and a deeper understanding of specific trade corridors and their challenges.\n",
    "\n",
    "    - Impact: Improved data-driven decision-making, more targeted policy interventions, and better resource allocation.  \n",
    "    ** **\n",
    "\n",
    "4. Monitor Economic Resilience and Adaptability:\n",
    "\n",
    "    - Recommendation: Continue to monitor temporal trends closely, especially in light of global economic shifts or unforeseen events. Develop contingency plans based on the observed resilience and recovery patterns post-COVID-19.\n",
    "\n",
    "    - Why: Understanding the system's response to past disruptions can inform strategies for future crises, ensuring supply chain stability.\n",
    "\n",
    "    - Impact: Enhanced supply chain resilience, quicker recovery from disruptions, and minimized economic impact during crises.\n",
    "     ** **\n",
    "\n",
    "5. Investigate High-Cost Freight Segments:\n",
    "\n",
    "    - Recommendation: Conduct deeper analysis into the specific factors contributing to high freight charges per value/weight for \"Pipeline,\" \"Vessel,\" \"Air,\" and \"Other\" modes. This might involve looking at specific commodities, distances, or specialized handling requirements.\n",
    "\n",
    "    - Why: Identifying the root causes of higher costs can reveal opportunities for negotiation, alternative logistics solutions, or technological improvements.\n",
    "\n",
    "    - Impact: Improved cost-efficiency for high-value/specialized freight, potential for innovation in logistics services.\n",
    "     ** **\n",
    "\n",
    "6. Future Data Collection for Sustainability and Safety:\n",
    "\n",
    "    - Recommendation: To address the \"Environmental Impact\" and \"Safety and Risk Assessment\" objectives fully, future data collection should include metrics such as:\n",
    "\n",
    "        - Emissions data: Fuel consumption per mode, carbon footprint.\n",
    "\n",
    "        - Safety incident data: Number of accidents, causes, fatalities, injuries by mode and route.\n",
    "\n",
    "        - Delay/Congestion data: Average transit times, border wait times, and frequency of delays.\n",
    "\n",
    "    - Why: Direct data on these aspects is critical for developing targeted strategies for sustainability and safety improvements.\n",
    "\n",
    "    - Impact: Enables data-driven policies for reducing environmental impact (e.g., promoting greener modes, optimizing fuel use) and enhancing safety protocols, leading to fewer incidents and a more secure transportation network.\n",
    "\n",
    "This comprehensive analysis provides a strong foundation for stakeholders to make informed decisions and implement strategies that enhance the efficiency, sustainability, and safety of North American transborder freight operations.\n"
   ]
  }
 ],
 "metadata": {
  "colab": {
   "provenance": []
  },
  "kernelspec": {
   "display_name": "Python 3 (ipykernel)",
   "language": "python",
   "name": "python3"
  },
  "language_info": {
   "codemirror_mode": {
    "name": "ipython",
    "version": 3
   },
   "file_extension": ".py",
   "mimetype": "text/x-python",
   "name": "python",
   "nbconvert_exporter": "python",
   "pygments_lexer": "ipython3",
   "version": "3.11.5"
  }
 },
 "nbformat": 4,
 "nbformat_minor": 5
}
