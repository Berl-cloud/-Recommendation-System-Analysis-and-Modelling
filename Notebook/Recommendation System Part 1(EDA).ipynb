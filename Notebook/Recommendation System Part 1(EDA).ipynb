{
 "cells": [
  {
   "cell_type": "markdown",
   "id": "1caceb8e",
   "metadata": {
    "id": "1caceb8e"
   },
   "source": [
    "## Recommendation System Analysis and Modelling Part 1 (EDA)<br>\n",
    "> **Project Owner:** Berlinda Anaman<br>\n",
    "> **Email:** Berlana.d@gmail.com<br>\n",
    "> **Github Profile:** [Berlinda Anaman](https://github.com/Berl-cloud)<br>\n",
    "> **LinkedIn Profile:** [Berlinda Anaman](https://www.linkedin.com/in/berlinda-anaman/)"
   ]
  },
  {
   "cell_type": "markdown",
   "id": "1aa8b984",
   "metadata": {
    "id": "1aa8b984"
   },
   "source": [
    " "
   ]
  },
  {
   "cell_type": "markdown",
   "id": "dbb7bc47",
   "metadata": {
    "id": "dbb7bc47"
   },
   "source": [
    " "
   ]
  },
  {
   "cell_type": "markdown",
   "id": "098783eb",
   "metadata": {
    "id": "098783eb"
   },
   "source": [
    "## Table of Contents<a id='mu'></a>\n",
    "\n",
    "* [Business Problem Understanding](#bpu)\n",
    "    * [Problem Statement](#ps)\n",
    "    * [Hypothesis](#hs)\n",
    "    * [Project Goal](#pg)\n",
    "    * [Information Needed](#in)\n",
    "    * [Methodology](#my)\n",
    "* [Data Preparation](#dp)\n",
    "    * [Data Quality Assessment](#dqa)\n",
    "    * [Data Cleaning and Preprocessing](#dcp)\n",
    "* [Exploratory Data Analysis](#eda)\n",
    "* [Export Data](#ed)\n",
    "* [Conclusion](#cr)"
   ]
  },
  {
   "cell_type": "markdown",
   "id": "6def28cc",
   "metadata": {
    "id": "6def28cc"
   },
   "source": [
    " "
   ]
  },
  {
   "cell_type": "markdown",
   "id": "8015d14f",
   "metadata": {
    "id": "8015d14f"
   },
   "source": [
    " "
   ]
  },
  {
   "cell_type": "markdown",
   "id": "38baa176",
   "metadata": {
    "id": "38baa176"
   },
   "source": [
    "## 1. Business Problem Understanding<a id='bpu'></a>\n",
    "\n",
    "[Move Up](#mu)"
   ]
  },
  {
   "cell_type": "markdown",
   "id": "a095fc83",
   "metadata": {
    "id": "a095fc83"
   },
   "source": [
    "<p style=\"text-align:justify;\">The first step in approaching a data analytics problem is problem understanding. This step is very important since it allows us to know the kind of decisions we want to make, the information or data that will be needed to inform those decisions and finally, the kind of analysis that will be used to arrive at those decisions. In a nutshell, developing a mental model of the problem allows us to properly structure potentially relevant information needed to solve the problem.</p>"
   ]
  },
  {
   "cell_type": "markdown",
   "id": "c52af2d2",
   "metadata": {
    "id": "c52af2d2"
   },
   "source": [
    " "
   ]
  },
  {
   "cell_type": "markdown",
   "id": "5797ff75",
   "metadata": {
    "id": "5797ff75"
   },
   "source": [
    " "
   ]
  },
  {
   "cell_type": "markdown",
   "id": "06a216c7",
   "metadata": {
    "id": "06a216c7"
   },
   "source": [
    "### 1.1 Problem Statement <a id='ps'></a>\n",
    "\n",
    "The rapid growth of digital platforms has led to an overwhelming amount of available content. Users often struggle to discover relevant items that align with their preferences, resulting in lower engagement and satisfaction. Businesses, in turn, face challenges in delivering personalized recommendations that keep users active and loyal.\n",
    "The problem is to design and model a recommendation system that predicts user preferences and provides accurate, personalized suggestions, thereby improving user experience and business outcomes."
   ]
  },
  {
   "cell_type": "markdown",
   "id": "b9942bd0",
   "metadata": {
    "id": "b9942bd0"
   },
   "source": [
    " "
   ]
  },
  {
   "cell_type": "markdown",
   "id": "787eed74",
   "metadata": {},
   "source": [
    "### 1.2 Hypothesis <a id='hs'></a>\n",
    "\n",
    "- Users with similar historical behavior will likely interact with similar items.\n",
    "\n",
    "- Item similarity (e.g., category, properties) can be leveraged to make meaningful recommendations.\n",
    "\n",
    "- Increasing personalization will lead to measurable improvements in user engagement metrics such as click-through rates and repeat interactions."
   ]
  },
  {
   "cell_type": "markdown",
   "id": "ab7f0eae",
   "metadata": {
    "id": "ab7f0eae"
   },
   "source": [
    " "
   ]
  },
  {
   "cell_type": "markdown",
   "id": "e4e2b2c6",
   "metadata": {
    "id": "e4e2b2c6"
   },
   "source": [
    "### 1.3 Project Goal <a id='pg'></a>\n",
    "\n",
    "The goal of this project is to analyze an e-commerce data to:\n",
    "\n",
    "- Develop a recommendation system that provides personalized suggestions based on user behavior and interactions.\n",
    "\n",
    "- Utilize historical user data to make accurate predictions.\n",
    "\n",
    "- Enhance user engagement and satisfaction with relevant recommendations.\n",
    "\n",
    "- Increase business metrics like sales and conversion rates through personalization.\n",
    "\n",
    "- Ensure the system is scalable and performs in real-time with large datasets.\n",
    "\n",
    "- Balance the accuracy and diversity of recommendations to avoid monotony.\n",
    "\n",
    "- Create an algorithm to predict item properties in \"addtocart\" events using \"view\" event data"
   ]
  },
  {
   "cell_type": "markdown",
   "id": "1d5c794d",
   "metadata": {
    "id": "1d5c794d"
   },
   "source": [
    " "
   ]
  },
  {
   "cell_type": "markdown",
   "id": "1639d9e7",
   "metadata": {
    "id": "1639d9e7"
   },
   "source": [
    " "
   ]
  },
  {
   "cell_type": "markdown",
   "id": "1e820a92",
   "metadata": {
    "id": "1e820a92"
   },
   "source": [
    "### 1.4 Information Needed <a id='in'></a>\n",
    "\n",
    "To successfully carry out this project, we need:\n",
    "\n",
    "- Behavior Data: This data should contain the user's interaction details. The user's time of visit, clicks, items viewed, added to cart or bought.\n",
    "- Item Properties Data: This data should include information about the items available, their various categories and availability.\n"
   ]
  },
  {
   "cell_type": "markdown",
   "id": "90c8cb1e",
   "metadata": {
    "id": "90c8cb1e"
   },
   "source": [
    " "
   ]
  },
  {
   "cell_type": "markdown",
   "id": "b2b45c1c",
   "metadata": {
    "id": "b2b45c1c"
   },
   "source": [
    "### 1.5 Methodology <a id='my'></a> "
   ]
  },
  {
   "cell_type": "markdown",
   "id": "1190b168",
   "metadata": {},
   "source": [
    "This project will follow the **CRISP-DM (Cross-Industry Standard Process for Data Mining) framework**. This involves several detailed stages:\n",
    "\n",
    "1.  **Business Understanding:**\n",
    "    * Develop a business problem and at least seven analytical questions for the project. \n",
    "    \n",
    "    <br>\n",
    "    \n",
    "2.  **Data Understanding and Preprocessing:**\n",
    "    * Read and understand the dataset documentation to properly comprehend the data.\n",
    "    * Handle large datasets, clean the data, and perform extensive feature engineering.\n",
    "    * Identify and remove abnormal users to improve the recommendation system's efficiency.\n",
    "\n",
    "    <br>\n",
    "\n",
    "3.  **Modeling and Evaluation:**\n",
    "    * Develop the recommendation system using appropriate machine learning techniques.\n",
    "    * Create an algorithm to predict item properties in \"addtocart\" events using \"view\" event data.\n",
    "    * Build a model to identify abnormal users in the e-commerce data.\n",
    "    * Develop a metric to evaluate the quality of the model.\n",
    "    * Evaluate the performance of the recommendation system models.\n",
    "\n",
    "    <br>\n",
    "\n",
    "4.  **Deployment (Communication of Results):**\n",
    "    * Develop appropriate visualizations to communicate insights and answer business questions.\n",
    "    * Provide comprehensive conclusions with actionable solutions based on the analysis.\n",
    "    * Create a presentation that highlights the business questions, methodology, results, and key insights.\n",
    "    * Write comprehensive documentation in a `README` file that makes the project reproducible and easy to understand."
   ]
  },
  {
   "cell_type": "markdown",
   "id": "1319097a",
   "metadata": {
    "id": "1319097a"
   },
   "source": [
    "<p style=\"text-align:justify;\">The methodology that will be used for our project will largely depend on the goals we set out to achieve. The methodlogy framework below gives us a comprehensive guide on the methodology apparoach that will help us achieve our goals.</p>\n",
    "<br>\n",
    "<p style=\"text-align:center;font-weight:bold;font-size:20px\"> Methodology Framework</p>\n",
    "<br>\n",
    "<img src='https://artofdatablog.files.wordpress.com/2017/10/methodology-map.jpg' style=\"float:center;width:700px;\">\n"
   ]
  },
  {
   "cell_type": "markdown",
   "id": "1f35fb7e",
   "metadata": {},
   "source": [
    "Based on the methodology framework above, the methodology for this project would be guided by the type of business problem being addressed.\n",
    "\n",
    "### Business Problem\n",
    "The project has two main business problems to solve:\n",
    "1.  **Developing a recommendation system:** This involves predicting which items a user will like or interact with.\n",
    "2.  **Identifying abnormal users:** This is a classification problem, where users are categorized as either \"normal\" or \"abnormal.\"\n",
    "\n",
    "### Predicting Outcome\n",
    "For the recommendation system, we are looking at **predicting an outcome** based on **data-rich** information, specifically user behavior and item properties. For the modeling phase, we will address two distinct problems that fall under the \"Predict Outcome\" category:\n",
    "\n",
    "**1. Predicting Item Properties for \"Add to Cart\" Events**\n",
    "This is a non-binary classification problem. The goal is to predict the specific properties of an item that a user adds to their cart, based on their \"view\" events. The outcome isn't a simple yes/no, but rather a prediction from a set of possible property values. Appropriate models from the image for this task include:\n",
    "- Forest Model\n",
    "- Boosted Model\n",
    "\n",
    "**2. Identifying Abnormal Users**\n",
    "This is a binary classification problem. The goal is to classify a user as either \"normal\" or \"abnormal\". The outcome is a binary choice: the user is either one or the other. This type of analysis is crucial for data cleaning and improving the effectiveness of the recommendation system. Models suitable for this task include:\n",
    "- Logistic Regression\n",
    "- Decision Tree\n",
    "\n",
    "### Data Analysis\n",
    "The project also involves **Data Analysis**, which includes understanding the data, finding insights, and preparing it for the models.\n",
    "* **Segmentation:** You can segment users based on their behavior (e.g., frequent shoppers vs. occasional browsers) or items based on their properties or categories.\n",
    "* **Descriptive Analysis:** This will be used to understand the dataset, such as the total number of unique visitors, event types, and items. This includes summarizing key statistics and creating initial visualizations."
   ]
  },
  {
   "cell_type": "markdown",
   "id": "baec901e",
   "metadata": {
    "id": "baec901e"
   },
   "source": [
    " "
   ]
  },
  {
   "cell_type": "markdown",
   "id": "abe0e125",
   "metadata": {
    "id": "abe0e125"
   },
   "source": [
    " "
   ]
  },
  {
   "cell_type": "markdown",
   "id": "e8e72e37",
   "metadata": {
    "id": "e8e72e37"
   },
   "source": [
    "## 2. Data Preparation <a id='dp'></a>\n",
    "\n",
    "[Move Up](#mu)\n",
    "\n",
    "An understanding of the data coupled with problem understanding will help us in cleaning and preparing our data for analysis. It is usually rare to acquire a ready-to-use data for any analysis without some level of preparation. To prepare our data, we normally assess the quality of the data, cleanse, format, blend and sample the data since we may encounter various issues with columns in our data. These issues may include:\n",
    "\n",
    "* **`Missing values:`** meaning column values are incomplete\n",
    "* **`Incorrect data:`** meaning you see values not expected for the column name\n",
    "* **`Inconsistent values:`** meaning some values may fall outside the expected range\n",
    "* **`Duplicate values:`** meaning whether or not there are duplicate values\n",
    "* **`Inconsistent data type:`** meaning values entered in the columns may not be consistent with the column names\n",
    "\n",
    "To properly prepare our data for analysis, we will perform two important tasks which are;\n",
    "\n",
    "* Part I: Data Quality Assessment\n",
    "* Part II: Data Cleaning and Preprocessing"
   ]
  },
  {
   "cell_type": "markdown",
   "id": "10e94a5b",
   "metadata": {
    "id": "10e94a5b"
   },
   "source": [
    " "
   ]
  },
  {
   "cell_type": "markdown",
   "id": "aedc4e47",
   "metadata": {
    "id": "aedc4e47"
   },
   "source": [
    " "
   ]
  },
  {
   "cell_type": "markdown",
   "id": "6b927584",
   "metadata": {
    "id": "6b927584"
   },
   "source": [
    "### 2.1 Data Quality Assessment <a id='dqa'></a>\n",
    "\n",
    "<p style=\"text-align:justify;\">The first task that we will perform under the data preparation step is initial assessment of the quality of data which will easily allow us to properly clean our data. We will use this section to write any code necesary for inspecting the dataset. Once completed, we will leave our report in the Data Quality Report Document.\n",
    "\n",
    "At the end of our inspection, we will provide a summary of all of our findings.</p>"
   ]
  },
  {
   "cell_type": "code",
   "execution_count": 1,
   "id": "0Yi8YswoaEN1",
   "metadata": {
    "id": "0Yi8YswoaEN1",
    "scrolled": true
   },
   "outputs": [],
   "source": [
    "import pandas as pd\n",
    "import numpy as np\n",
    "import matplotlib.pyplot as plt\n",
    "import seaborn as sns"
   ]
  },
  {
   "cell_type": "markdown",
   "id": "17ef6766",
   "metadata": {
    "id": "17ef6766"
   },
   "source": [
    " "
   ]
  },
  {
   "cell_type": "markdown",
   "id": "64af8f37",
   "metadata": {},
   "source": [
    "<center><H4>Data Sample</H4></center>"
   ]
  },
  {
   "cell_type": "code",
   "execution_count": 2,
   "id": "69d8f980",
   "metadata": {},
   "outputs": [
    {
     "data": {
      "text/html": [
       "<div>\n",
       "<style scoped>\n",
       "    .dataframe tbody tr th:only-of-type {\n",
       "        vertical-align: middle;\n",
       "    }\n",
       "\n",
       "    .dataframe tbody tr th {\n",
       "        vertical-align: top;\n",
       "    }\n",
       "\n",
       "    .dataframe thead th {\n",
       "        text-align: right;\n",
       "    }\n",
       "</style>\n",
       "<table border=\"1\" class=\"dataframe\">\n",
       "  <thead>\n",
       "    <tr style=\"text-align: right;\">\n",
       "      <th></th>\n",
       "      <th>timestamp</th>\n",
       "      <th>visitorid</th>\n",
       "      <th>event</th>\n",
       "      <th>itemid</th>\n",
       "      <th>transactionid</th>\n",
       "    </tr>\n",
       "  </thead>\n",
       "  <tbody>\n",
       "    <tr>\n",
       "      <th>0</th>\n",
       "      <td>1433221332117</td>\n",
       "      <td>257597</td>\n",
       "      <td>view</td>\n",
       "      <td>355908</td>\n",
       "      <td>NaN</td>\n",
       "    </tr>\n",
       "    <tr>\n",
       "      <th>1</th>\n",
       "      <td>1433224214164</td>\n",
       "      <td>992329</td>\n",
       "      <td>view</td>\n",
       "      <td>248676</td>\n",
       "      <td>NaN</td>\n",
       "    </tr>\n",
       "    <tr>\n",
       "      <th>2</th>\n",
       "      <td>1433221999827</td>\n",
       "      <td>111016</td>\n",
       "      <td>view</td>\n",
       "      <td>318965</td>\n",
       "      <td>NaN</td>\n",
       "    </tr>\n",
       "    <tr>\n",
       "      <th>3</th>\n",
       "      <td>1433221955914</td>\n",
       "      <td>483717</td>\n",
       "      <td>view</td>\n",
       "      <td>253185</td>\n",
       "      <td>NaN</td>\n",
       "    </tr>\n",
       "    <tr>\n",
       "      <th>4</th>\n",
       "      <td>1433221337106</td>\n",
       "      <td>951259</td>\n",
       "      <td>view</td>\n",
       "      <td>367447</td>\n",
       "      <td>NaN</td>\n",
       "    </tr>\n",
       "  </tbody>\n",
       "</table>\n",
       "</div>"
      ],
      "text/plain": [
       "       timestamp  visitorid event  itemid  transactionid\n",
       "0  1433221332117     257597  view  355908            NaN\n",
       "1  1433224214164     992329  view  248676            NaN\n",
       "2  1433221999827     111016  view  318965            NaN\n",
       "3  1433221955914     483717  view  253185            NaN\n",
       "4  1433221337106     951259  view  367447            NaN"
      ]
     },
     "execution_count": 2,
     "metadata": {},
     "output_type": "execute_result"
    }
   ],
   "source": [
    "event = pd.read_csv(\"../Data/events.csv\")\n",
    "event.head()"
   ]
  },
  {
   "cell_type": "code",
   "execution_count": 3,
   "id": "022e7dcf",
   "metadata": {},
   "outputs": [
    {
     "data": {
      "text/html": [
       "<div>\n",
       "<style scoped>\n",
       "    .dataframe tbody tr th:only-of-type {\n",
       "        vertical-align: middle;\n",
       "    }\n",
       "\n",
       "    .dataframe tbody tr th {\n",
       "        vertical-align: top;\n",
       "    }\n",
       "\n",
       "    .dataframe thead th {\n",
       "        text-align: right;\n",
       "    }\n",
       "</style>\n",
       "<table border=\"1\" class=\"dataframe\">\n",
       "  <thead>\n",
       "    <tr style=\"text-align: right;\">\n",
       "      <th></th>\n",
       "      <th>categoryid</th>\n",
       "      <th>parentid</th>\n",
       "    </tr>\n",
       "  </thead>\n",
       "  <tbody>\n",
       "    <tr>\n",
       "      <th>0</th>\n",
       "      <td>1016</td>\n",
       "      <td>213.0</td>\n",
       "    </tr>\n",
       "    <tr>\n",
       "      <th>1</th>\n",
       "      <td>809</td>\n",
       "      <td>169.0</td>\n",
       "    </tr>\n",
       "    <tr>\n",
       "      <th>2</th>\n",
       "      <td>570</td>\n",
       "      <td>9.0</td>\n",
       "    </tr>\n",
       "    <tr>\n",
       "      <th>3</th>\n",
       "      <td>1691</td>\n",
       "      <td>885.0</td>\n",
       "    </tr>\n",
       "    <tr>\n",
       "      <th>4</th>\n",
       "      <td>536</td>\n",
       "      <td>1691.0</td>\n",
       "    </tr>\n",
       "  </tbody>\n",
       "</table>\n",
       "</div>"
      ],
      "text/plain": [
       "   categoryid  parentid\n",
       "0        1016     213.0\n",
       "1         809     169.0\n",
       "2         570       9.0\n",
       "3        1691     885.0\n",
       "4         536    1691.0"
      ]
     },
     "execution_count": 3,
     "metadata": {},
     "output_type": "execute_result"
    }
   ],
   "source": [
    "cat = pd.read_csv(\"../Data/category_tree.csv\")\n",
    "cat.head()"
   ]
  },
  {
   "cell_type": "code",
   "execution_count": 4,
   "id": "6f79d334",
   "metadata": {},
   "outputs": [
    {
     "data": {
      "text/html": [
       "<div>\n",
       "<style scoped>\n",
       "    .dataframe tbody tr th:only-of-type {\n",
       "        vertical-align: middle;\n",
       "    }\n",
       "\n",
       "    .dataframe tbody tr th {\n",
       "        vertical-align: top;\n",
       "    }\n",
       "\n",
       "    .dataframe thead th {\n",
       "        text-align: right;\n",
       "    }\n",
       "</style>\n",
       "<table border=\"1\" class=\"dataframe\">\n",
       "  <thead>\n",
       "    <tr style=\"text-align: right;\">\n",
       "      <th></th>\n",
       "      <th>timestamp</th>\n",
       "      <th>itemid</th>\n",
       "      <th>property</th>\n",
       "      <th>value</th>\n",
       "    </tr>\n",
       "  </thead>\n",
       "  <tbody>\n",
       "    <tr>\n",
       "      <th>0</th>\n",
       "      <td>1435460400000</td>\n",
       "      <td>460429</td>\n",
       "      <td>categoryid</td>\n",
       "      <td>1338</td>\n",
       "    </tr>\n",
       "    <tr>\n",
       "      <th>1</th>\n",
       "      <td>1441508400000</td>\n",
       "      <td>206783</td>\n",
       "      <td>888</td>\n",
       "      <td>1116713 960601 n277.200</td>\n",
       "    </tr>\n",
       "    <tr>\n",
       "      <th>2</th>\n",
       "      <td>1439089200000</td>\n",
       "      <td>395014</td>\n",
       "      <td>400</td>\n",
       "      <td>n552.000 639502 n720.000 424566</td>\n",
       "    </tr>\n",
       "    <tr>\n",
       "      <th>3</th>\n",
       "      <td>1431226800000</td>\n",
       "      <td>59481</td>\n",
       "      <td>790</td>\n",
       "      <td>n15360.000</td>\n",
       "    </tr>\n",
       "    <tr>\n",
       "      <th>4</th>\n",
       "      <td>1431831600000</td>\n",
       "      <td>156781</td>\n",
       "      <td>917</td>\n",
       "      <td>828513</td>\n",
       "    </tr>\n",
       "  </tbody>\n",
       "</table>\n",
       "</div>"
      ],
      "text/plain": [
       "       timestamp  itemid    property                            value\n",
       "0  1435460400000  460429  categoryid                             1338\n",
       "1  1441508400000  206783         888          1116713 960601 n277.200\n",
       "2  1439089200000  395014         400  n552.000 639502 n720.000 424566\n",
       "3  1431226800000   59481         790                       n15360.000\n",
       "4  1431831600000  156781         917                           828513"
      ]
     },
     "execution_count": 4,
     "metadata": {},
     "output_type": "execute_result"
    }
   ],
   "source": [
    "item1 = pd.read_csv(\"../Data/item_properties_part1.1.csv\")\n",
    "item1.head()"
   ]
  },
  {
   "cell_type": "code",
   "execution_count": 5,
   "id": "9c364311",
   "metadata": {},
   "outputs": [
    {
     "data": {
      "text/html": [
       "<div>\n",
       "<style scoped>\n",
       "    .dataframe tbody tr th:only-of-type {\n",
       "        vertical-align: middle;\n",
       "    }\n",
       "\n",
       "    .dataframe tbody tr th {\n",
       "        vertical-align: top;\n",
       "    }\n",
       "\n",
       "    .dataframe thead th {\n",
       "        text-align: right;\n",
       "    }\n",
       "</style>\n",
       "<table border=\"1\" class=\"dataframe\">\n",
       "  <thead>\n",
       "    <tr style=\"text-align: right;\">\n",
       "      <th></th>\n",
       "      <th>timestamp</th>\n",
       "      <th>itemid</th>\n",
       "      <th>property</th>\n",
       "      <th>value</th>\n",
       "    </tr>\n",
       "  </thead>\n",
       "  <tbody>\n",
       "    <tr>\n",
       "      <th>0</th>\n",
       "      <td>1433041200000</td>\n",
       "      <td>183478</td>\n",
       "      <td>561</td>\n",
       "      <td>769062</td>\n",
       "    </tr>\n",
       "    <tr>\n",
       "      <th>1</th>\n",
       "      <td>1439694000000</td>\n",
       "      <td>132256</td>\n",
       "      <td>976</td>\n",
       "      <td>n26.400 1135780</td>\n",
       "    </tr>\n",
       "    <tr>\n",
       "      <th>2</th>\n",
       "      <td>1435460400000</td>\n",
       "      <td>420307</td>\n",
       "      <td>921</td>\n",
       "      <td>1149317 1257525</td>\n",
       "    </tr>\n",
       "    <tr>\n",
       "      <th>3</th>\n",
       "      <td>1431831600000</td>\n",
       "      <td>403324</td>\n",
       "      <td>917</td>\n",
       "      <td>1204143</td>\n",
       "    </tr>\n",
       "    <tr>\n",
       "      <th>4</th>\n",
       "      <td>1435460400000</td>\n",
       "      <td>230701</td>\n",
       "      <td>521</td>\n",
       "      <td>769062</td>\n",
       "    </tr>\n",
       "  </tbody>\n",
       "</table>\n",
       "</div>"
      ],
      "text/plain": [
       "       timestamp  itemid property            value\n",
       "0  1433041200000  183478      561           769062\n",
       "1  1439694000000  132256      976  n26.400 1135780\n",
       "2  1435460400000  420307      921  1149317 1257525\n",
       "3  1431831600000  403324      917          1204143\n",
       "4  1435460400000  230701      521           769062"
      ]
     },
     "execution_count": 5,
     "metadata": {},
     "output_type": "execute_result"
    }
   ],
   "source": [
    "item2 = pd.read_csv(\"../Data/item_properties_part2.csv\")\n",
    "item2.head()"
   ]
  },
  {
   "cell_type": "markdown",
   "id": "7105146e",
   "metadata": {},
   "source": [
    "<center><H4>Data Information</H4></center>"
   ]
  },
  {
   "cell_type": "code",
   "execution_count": 6,
   "id": "f75d1539",
   "metadata": {},
   "outputs": [
    {
     "name": "stdout",
     "output_type": "stream",
     "text": [
      "events info\n",
      "<class 'pandas.core.frame.DataFrame'>\n",
      "RangeIndex: 2756101 entries, 0 to 2756100\n",
      "Data columns (total 5 columns):\n",
      " #   Column         Dtype  \n",
      "---  ------         -----  \n",
      " 0   timestamp      int64  \n",
      " 1   visitorid      int64  \n",
      " 2   event          object \n",
      " 3   itemid         int64  \n",
      " 4   transactionid  float64\n",
      "dtypes: float64(1), int64(3), object(1)\n",
      "memory usage: 105.1+ MB\n",
      "\n",
      " category info\n",
      "<class 'pandas.core.frame.DataFrame'>\n",
      "RangeIndex: 1669 entries, 0 to 1668\n",
      "Data columns (total 2 columns):\n",
      " #   Column      Non-Null Count  Dtype  \n",
      "---  ------      --------------  -----  \n",
      " 0   categoryid  1669 non-null   int64  \n",
      " 1   parentid    1644 non-null   float64\n",
      "dtypes: float64(1), int64(1)\n",
      "memory usage: 26.2 KB\n",
      "\n",
      " item1 info\n",
      "<class 'pandas.core.frame.DataFrame'>\n",
      "RangeIndex: 10999999 entries, 0 to 10999998\n",
      "Data columns (total 4 columns):\n",
      " #   Column     Dtype \n",
      "---  ------     ----- \n",
      " 0   timestamp  int64 \n",
      " 1   itemid     int64 \n",
      " 2   property   object\n",
      " 3   value      object\n",
      "dtypes: int64(2), object(2)\n",
      "memory usage: 335.7+ MB\n",
      "\n",
      " item2 info\n",
      "<class 'pandas.core.frame.DataFrame'>\n",
      "RangeIndex: 9275903 entries, 0 to 9275902\n",
      "Data columns (total 4 columns):\n",
      " #   Column     Dtype \n",
      "---  ------     ----- \n",
      " 0   timestamp  int64 \n",
      " 1   itemid     int64 \n",
      " 2   property   object\n",
      " 3   value      object\n",
      "dtypes: int64(2), object(2)\n",
      "memory usage: 283.1+ MB\n"
     ]
    }
   ],
   "source": [
    "#data info\n",
    "\n",
    "print('events info')\n",
    "event.info()\n",
    "\n",
    "print('\\n category info')\n",
    "cat.info()\n",
    "\n",
    "print('\\n item1 info')\n",
    "item1.info()\n",
    "\n",
    "print('\\n item2 info')\n",
    "item2.info()"
   ]
  },
  {
   "cell_type": "markdown",
   "id": "78ace36f",
   "metadata": {},
   "source": [
    "> - `event` data has `2756101` rows and `5`columns.\n",
    "> - `category_tree` data has `1669` rows and `2`columns.\n",
    "> - `item_property1` data has `10999999` rows and `4`columns.\n",
    "> - `item_property2` data has `9275903` rows and `4`columns.\n",
    "> - `item_property1` and `item_property2` have similar features and the data documentation mentions the item properties data has been divided into two so we will merge them before we proceed with our quality assessment and cleaning"
   ]
  },
  {
   "cell_type": "code",
   "execution_count": 7,
   "id": "d9f53dc9",
   "metadata": {
    "scrolled": true
   },
   "outputs": [
    {
     "data": {
      "text/html": [
       "<div>\n",
       "<style scoped>\n",
       "    .dataframe tbody tr th:only-of-type {\n",
       "        vertical-align: middle;\n",
       "    }\n",
       "\n",
       "    .dataframe tbody tr th {\n",
       "        vertical-align: top;\n",
       "    }\n",
       "\n",
       "    .dataframe thead th {\n",
       "        text-align: right;\n",
       "    }\n",
       "</style>\n",
       "<table border=\"1\" class=\"dataframe\">\n",
       "  <thead>\n",
       "    <tr style=\"text-align: right;\">\n",
       "      <th></th>\n",
       "      <th>timestamp</th>\n",
       "      <th>itemid</th>\n",
       "      <th>property</th>\n",
       "      <th>value</th>\n",
       "    </tr>\n",
       "  </thead>\n",
       "  <tbody>\n",
       "    <tr>\n",
       "      <th>0</th>\n",
       "      <td>1435460400000</td>\n",
       "      <td>460429</td>\n",
       "      <td>categoryid</td>\n",
       "      <td>1338</td>\n",
       "    </tr>\n",
       "    <tr>\n",
       "      <th>1</th>\n",
       "      <td>1441508400000</td>\n",
       "      <td>206783</td>\n",
       "      <td>888</td>\n",
       "      <td>1116713 960601 n277.200</td>\n",
       "    </tr>\n",
       "    <tr>\n",
       "      <th>2</th>\n",
       "      <td>1439089200000</td>\n",
       "      <td>395014</td>\n",
       "      <td>400</td>\n",
       "      <td>n552.000 639502 n720.000 424566</td>\n",
       "    </tr>\n",
       "    <tr>\n",
       "      <th>3</th>\n",
       "      <td>1431226800000</td>\n",
       "      <td>59481</td>\n",
       "      <td>790</td>\n",
       "      <td>n15360.000</td>\n",
       "    </tr>\n",
       "    <tr>\n",
       "      <th>4</th>\n",
       "      <td>1431831600000</td>\n",
       "      <td>156781</td>\n",
       "      <td>917</td>\n",
       "      <td>828513</td>\n",
       "    </tr>\n",
       "  </tbody>\n",
       "</table>\n",
       "</div>"
      ],
      "text/plain": [
       "       timestamp  itemid    property                            value\n",
       "0  1435460400000  460429  categoryid                             1338\n",
       "1  1441508400000  206783         888          1116713 960601 n277.200\n",
       "2  1439089200000  395014         400  n552.000 639502 n720.000 424566\n",
       "3  1431226800000   59481         790                       n15360.000\n",
       "4  1431831600000  156781         917                           828513"
      ]
     },
     "execution_count": 7,
     "metadata": {},
     "output_type": "execute_result"
    }
   ],
   "source": [
    "# merging item1 and item2 data\n",
    "\n",
    "items = pd.concat([item1, item2], ignore_index=True)\n",
    "items.head()"
   ]
  },
  {
   "cell_type": "code",
   "execution_count": 8,
   "id": "c9abe0dd",
   "metadata": {
    "scrolled": true
   },
   "outputs": [
    {
     "name": "stdout",
     "output_type": "stream",
     "text": [
      "<class 'pandas.core.frame.DataFrame'>\n",
      "RangeIndex: 20275902 entries, 0 to 20275901\n",
      "Data columns (total 4 columns):\n",
      " #   Column     Dtype \n",
      "---  ------     ----- \n",
      " 0   timestamp  int64 \n",
      " 1   itemid     int64 \n",
      " 2   property   object\n",
      " 3   value      object\n",
      "dtypes: int64(2), object(2)\n",
      "memory usage: 618.8+ MB\n"
     ]
    }
   ],
   "source": [
    "items.info()"
   ]
  },
  {
   "cell_type": "markdown",
   "id": "c99fdb82",
   "metadata": {},
   "source": [
    "> The merged item data has `20275902` rows and `4` columns"
   ]
  },
  {
   "cell_type": "markdown",
   "id": "136d2cfa",
   "metadata": {},
   "source": [
    " "
   ]
  },
  {
   "cell_type": "markdown",
   "id": "d0713636",
   "metadata": {},
   "source": [
    "<center><H4>Basic Statistics</H4></center> "
   ]
  },
  {
   "cell_type": "code",
   "execution_count": 9,
   "id": "525253db",
   "metadata": {},
   "outputs": [
    {
     "name": "stdout",
     "output_type": "stream",
     "text": [
      "\n",
      " events statistics\n"
     ]
    },
    {
     "data": {
      "text/html": [
       "<div>\n",
       "<style scoped>\n",
       "    .dataframe tbody tr th:only-of-type {\n",
       "        vertical-align: middle;\n",
       "    }\n",
       "\n",
       "    .dataframe tbody tr th {\n",
       "        vertical-align: top;\n",
       "    }\n",
       "\n",
       "    .dataframe thead th {\n",
       "        text-align: right;\n",
       "    }\n",
       "</style>\n",
       "<table border=\"1\" class=\"dataframe\">\n",
       "  <thead>\n",
       "    <tr style=\"text-align: right;\">\n",
       "      <th></th>\n",
       "      <th>timestamp</th>\n",
       "      <th>visitorid</th>\n",
       "      <th>event</th>\n",
       "      <th>itemid</th>\n",
       "      <th>transactionid</th>\n",
       "    </tr>\n",
       "  </thead>\n",
       "  <tbody>\n",
       "    <tr>\n",
       "      <th>count</th>\n",
       "      <td>2.756101e+06</td>\n",
       "      <td>2.756101e+06</td>\n",
       "      <td>2756101</td>\n",
       "      <td>2.756101e+06</td>\n",
       "      <td>22457.000000</td>\n",
       "    </tr>\n",
       "    <tr>\n",
       "      <th>unique</th>\n",
       "      <td>NaN</td>\n",
       "      <td>NaN</td>\n",
       "      <td>3</td>\n",
       "      <td>NaN</td>\n",
       "      <td>NaN</td>\n",
       "    </tr>\n",
       "    <tr>\n",
       "      <th>top</th>\n",
       "      <td>NaN</td>\n",
       "      <td>NaN</td>\n",
       "      <td>view</td>\n",
       "      <td>NaN</td>\n",
       "      <td>NaN</td>\n",
       "    </tr>\n",
       "    <tr>\n",
       "      <th>freq</th>\n",
       "      <td>NaN</td>\n",
       "      <td>NaN</td>\n",
       "      <td>2664312</td>\n",
       "      <td>NaN</td>\n",
       "      <td>NaN</td>\n",
       "    </tr>\n",
       "    <tr>\n",
       "      <th>mean</th>\n",
       "      <td>1.436424e+12</td>\n",
       "      <td>7.019229e+05</td>\n",
       "      <td>NaN</td>\n",
       "      <td>2.349225e+05</td>\n",
       "      <td>8826.497796</td>\n",
       "    </tr>\n",
       "    <tr>\n",
       "      <th>std</th>\n",
       "      <td>3.366312e+09</td>\n",
       "      <td>4.056875e+05</td>\n",
       "      <td>NaN</td>\n",
       "      <td>1.341954e+05</td>\n",
       "      <td>5098.996290</td>\n",
       "    </tr>\n",
       "    <tr>\n",
       "      <th>min</th>\n",
       "      <td>1.430622e+12</td>\n",
       "      <td>0.000000e+00</td>\n",
       "      <td>NaN</td>\n",
       "      <td>3.000000e+00</td>\n",
       "      <td>0.000000</td>\n",
       "    </tr>\n",
       "    <tr>\n",
       "      <th>25%</th>\n",
       "      <td>1.433478e+12</td>\n",
       "      <td>3.505660e+05</td>\n",
       "      <td>NaN</td>\n",
       "      <td>1.181200e+05</td>\n",
       "      <td>4411.000000</td>\n",
       "    </tr>\n",
       "    <tr>\n",
       "      <th>50%</th>\n",
       "      <td>1.436453e+12</td>\n",
       "      <td>7.020600e+05</td>\n",
       "      <td>NaN</td>\n",
       "      <td>2.360670e+05</td>\n",
       "      <td>8813.000000</td>\n",
       "    </tr>\n",
       "    <tr>\n",
       "      <th>75%</th>\n",
       "      <td>1.439225e+12</td>\n",
       "      <td>1.053437e+06</td>\n",
       "      <td>NaN</td>\n",
       "      <td>3.507150e+05</td>\n",
       "      <td>13224.000000</td>\n",
       "    </tr>\n",
       "    <tr>\n",
       "      <th>max</th>\n",
       "      <td>1.442545e+12</td>\n",
       "      <td>1.407579e+06</td>\n",
       "      <td>NaN</td>\n",
       "      <td>4.668670e+05</td>\n",
       "      <td>17671.000000</td>\n",
       "    </tr>\n",
       "  </tbody>\n",
       "</table>\n",
       "</div>"
      ],
      "text/plain": [
       "           timestamp     visitorid    event        itemid  transactionid\n",
       "count   2.756101e+06  2.756101e+06  2756101  2.756101e+06   22457.000000\n",
       "unique           NaN           NaN        3           NaN            NaN\n",
       "top              NaN           NaN     view           NaN            NaN\n",
       "freq             NaN           NaN  2664312           NaN            NaN\n",
       "mean    1.436424e+12  7.019229e+05      NaN  2.349225e+05    8826.497796\n",
       "std     3.366312e+09  4.056875e+05      NaN  1.341954e+05    5098.996290\n",
       "min     1.430622e+12  0.000000e+00      NaN  3.000000e+00       0.000000\n",
       "25%     1.433478e+12  3.505660e+05      NaN  1.181200e+05    4411.000000\n",
       "50%     1.436453e+12  7.020600e+05      NaN  2.360670e+05    8813.000000\n",
       "75%     1.439225e+12  1.053437e+06      NaN  3.507150e+05   13224.000000\n",
       "max     1.442545e+12  1.407579e+06      NaN  4.668670e+05   17671.000000"
      ]
     },
     "metadata": {},
     "output_type": "display_data"
    },
    {
     "name": "stdout",
     "output_type": "stream",
     "text": [
      "\n",
      " category statistics\n"
     ]
    },
    {
     "data": {
      "text/html": [
       "<div>\n",
       "<style scoped>\n",
       "    .dataframe tbody tr th:only-of-type {\n",
       "        vertical-align: middle;\n",
       "    }\n",
       "\n",
       "    .dataframe tbody tr th {\n",
       "        vertical-align: top;\n",
       "    }\n",
       "\n",
       "    .dataframe thead th {\n",
       "        text-align: right;\n",
       "    }\n",
       "</style>\n",
       "<table border=\"1\" class=\"dataframe\">\n",
       "  <thead>\n",
       "    <tr style=\"text-align: right;\">\n",
       "      <th></th>\n",
       "      <th>categoryid</th>\n",
       "      <th>parentid</th>\n",
       "    </tr>\n",
       "  </thead>\n",
       "  <tbody>\n",
       "    <tr>\n",
       "      <th>count</th>\n",
       "      <td>1669.000000</td>\n",
       "      <td>1644.000000</td>\n",
       "    </tr>\n",
       "    <tr>\n",
       "      <th>mean</th>\n",
       "      <td>849.285201</td>\n",
       "      <td>847.571168</td>\n",
       "    </tr>\n",
       "    <tr>\n",
       "      <th>std</th>\n",
       "      <td>490.195116</td>\n",
       "      <td>505.058485</td>\n",
       "    </tr>\n",
       "    <tr>\n",
       "      <th>min</th>\n",
       "      <td>0.000000</td>\n",
       "      <td>8.000000</td>\n",
       "    </tr>\n",
       "    <tr>\n",
       "      <th>25%</th>\n",
       "      <td>427.000000</td>\n",
       "      <td>381.000000</td>\n",
       "    </tr>\n",
       "    <tr>\n",
       "      <th>50%</th>\n",
       "      <td>848.000000</td>\n",
       "      <td>866.000000</td>\n",
       "    </tr>\n",
       "    <tr>\n",
       "      <th>75%</th>\n",
       "      <td>1273.000000</td>\n",
       "      <td>1291.000000</td>\n",
       "    </tr>\n",
       "    <tr>\n",
       "      <th>max</th>\n",
       "      <td>1698.000000</td>\n",
       "      <td>1698.000000</td>\n",
       "    </tr>\n",
       "  </tbody>\n",
       "</table>\n",
       "</div>"
      ],
      "text/plain": [
       "        categoryid     parentid\n",
       "count  1669.000000  1644.000000\n",
       "mean    849.285201   847.571168\n",
       "std     490.195116   505.058485\n",
       "min       0.000000     8.000000\n",
       "25%     427.000000   381.000000\n",
       "50%     848.000000   866.000000\n",
       "75%    1273.000000  1291.000000\n",
       "max    1698.000000  1698.000000"
      ]
     },
     "metadata": {},
     "output_type": "display_data"
    },
    {
     "name": "stdout",
     "output_type": "stream",
     "text": [
      "\n",
      " items properties statistics\n"
     ]
    },
    {
     "data": {
      "text/html": [
       "<div>\n",
       "<style scoped>\n",
       "    .dataframe tbody tr th:only-of-type {\n",
       "        vertical-align: middle;\n",
       "    }\n",
       "\n",
       "    .dataframe tbody tr th {\n",
       "        vertical-align: top;\n",
       "    }\n",
       "\n",
       "    .dataframe thead th {\n",
       "        text-align: right;\n",
       "    }\n",
       "</style>\n",
       "<table border=\"1\" class=\"dataframe\">\n",
       "  <thead>\n",
       "    <tr style=\"text-align: right;\">\n",
       "      <th></th>\n",
       "      <th>timestamp</th>\n",
       "      <th>itemid</th>\n",
       "      <th>property</th>\n",
       "      <th>value</th>\n",
       "    </tr>\n",
       "  </thead>\n",
       "  <tbody>\n",
       "    <tr>\n",
       "      <th>count</th>\n",
       "      <td>2.027590e+07</td>\n",
       "      <td>2.027590e+07</td>\n",
       "      <td>20275902</td>\n",
       "      <td>20275902</td>\n",
       "    </tr>\n",
       "    <tr>\n",
       "      <th>unique</th>\n",
       "      <td>NaN</td>\n",
       "      <td>NaN</td>\n",
       "      <td>1104</td>\n",
       "      <td>1966868</td>\n",
       "    </tr>\n",
       "    <tr>\n",
       "      <th>top</th>\n",
       "      <td>NaN</td>\n",
       "      <td>NaN</td>\n",
       "      <td>888</td>\n",
       "      <td>769062</td>\n",
       "    </tr>\n",
       "    <tr>\n",
       "      <th>freq</th>\n",
       "      <td>NaN</td>\n",
       "      <td>NaN</td>\n",
       "      <td>3000398</td>\n",
       "      <td>1537247</td>\n",
       "    </tr>\n",
       "    <tr>\n",
       "      <th>mean</th>\n",
       "      <td>1.435157e+12</td>\n",
       "      <td>2.333904e+05</td>\n",
       "      <td>NaN</td>\n",
       "      <td>NaN</td>\n",
       "    </tr>\n",
       "    <tr>\n",
       "      <th>std</th>\n",
       "      <td>3.327798e+09</td>\n",
       "      <td>1.348452e+05</td>\n",
       "      <td>NaN</td>\n",
       "      <td>NaN</td>\n",
       "    </tr>\n",
       "    <tr>\n",
       "      <th>min</th>\n",
       "      <td>1.431227e+12</td>\n",
       "      <td>0.000000e+00</td>\n",
       "      <td>NaN</td>\n",
       "      <td>NaN</td>\n",
       "    </tr>\n",
       "    <tr>\n",
       "      <th>25%</th>\n",
       "      <td>1.432436e+12</td>\n",
       "      <td>1.165160e+05</td>\n",
       "      <td>NaN</td>\n",
       "      <td>NaN</td>\n",
       "    </tr>\n",
       "    <tr>\n",
       "      <th>50%</th>\n",
       "      <td>1.433646e+12</td>\n",
       "      <td>2.334830e+05</td>\n",
       "      <td>NaN</td>\n",
       "      <td>NaN</td>\n",
       "    </tr>\n",
       "    <tr>\n",
       "      <th>75%</th>\n",
       "      <td>1.437880e+12</td>\n",
       "      <td>3.503040e+05</td>\n",
       "      <td>NaN</td>\n",
       "      <td>NaN</td>\n",
       "    </tr>\n",
       "    <tr>\n",
       "      <th>max</th>\n",
       "      <td>1.442113e+12</td>\n",
       "      <td>4.668660e+05</td>\n",
       "      <td>NaN</td>\n",
       "      <td>NaN</td>\n",
       "    </tr>\n",
       "  </tbody>\n",
       "</table>\n",
       "</div>"
      ],
      "text/plain": [
       "           timestamp        itemid  property     value\n",
       "count   2.027590e+07  2.027590e+07  20275902  20275902\n",
       "unique           NaN           NaN      1104   1966868\n",
       "top              NaN           NaN       888    769062\n",
       "freq             NaN           NaN   3000398   1537247\n",
       "mean    1.435157e+12  2.333904e+05       NaN       NaN\n",
       "std     3.327798e+09  1.348452e+05       NaN       NaN\n",
       "min     1.431227e+12  0.000000e+00       NaN       NaN\n",
       "25%     1.432436e+12  1.165160e+05       NaN       NaN\n",
       "50%     1.433646e+12  2.334830e+05       NaN       NaN\n",
       "75%     1.437880e+12  3.503040e+05       NaN       NaN\n",
       "max     1.442113e+12  4.668660e+05       NaN       NaN"
      ]
     },
     "metadata": {},
     "output_type": "display_data"
    }
   ],
   "source": [
    "# Inspect summary statistics\n",
    "\n",
    "print('\\n events statistics')\n",
    "display(event.describe(include='all'))\n",
    "\n",
    "print('\\n category statistics')\n",
    "display(cat.describe(include='all'))\n",
    "\n",
    "print('\\n items properties statistics')\n",
    "display(items.describe(include='all'))"
   ]
  },
  {
   "cell_type": "code",
   "execution_count": 10,
   "id": "1efa8121",
   "metadata": {},
   "outputs": [
    {
     "name": "stdout",
     "output_type": "stream",
     "text": [
      "\n",
      " event duplicates:\n"
     ]
    },
    {
     "data": {
      "text/plain": [
       "np.int64(460)"
      ]
     },
     "metadata": {},
     "output_type": "display_data"
    },
    {
     "name": "stdout",
     "output_type": "stream",
     "text": [
      "\n",
      " category duplicates:\n"
     ]
    },
    {
     "data": {
      "text/plain": [
       "np.int64(0)"
      ]
     },
     "metadata": {},
     "output_type": "display_data"
    },
    {
     "name": "stdout",
     "output_type": "stream",
     "text": [
      "\n",
      " item properties duplicates:\n"
     ]
    },
    {
     "data": {
      "text/plain": [
       "np.int64(0)"
      ]
     },
     "metadata": {},
     "output_type": "display_data"
    }
   ],
   "source": [
    "# Check for duplicates\n",
    "\n",
    "print('\\n event duplicates:')\n",
    "display(event.duplicated().sum())\n",
    "\n",
    "print('\\n category duplicates:')\n",
    "display(cat.duplicated().sum())\n",
    "\n",
    "print('\\n item properties duplicates:')\n",
    "display(items.duplicated().sum())"
   ]
  },
  {
   "cell_type": "markdown",
   "id": "90257d69",
   "metadata": {},
   "source": [
    "> `event` has 460 duplicates but `category` and `items` have no duplicate values."
   ]
  },
  {
   "cell_type": "markdown",
   "id": "3e92bb13",
   "metadata": {},
   "source": [
    "##### Checking for missing values"
   ]
  },
  {
   "cell_type": "code",
   "execution_count": 11,
   "id": "53286eaa",
   "metadata": {},
   "outputs": [],
   "source": [
    "def missing_values(data):\n",
    "    \"\"\"\n",
    "    Calculates the total and percentage of missing values for each column in a pandas DataFrame.\n",
    "\n",
    "    Args:\n",
    "        df: The input pandas DataFrame.\n",
    "\n",
    "    Returns:\n",
    "        A pandas DataFrame with 'Total' and 'Percentage' columns showing the count and\n",
    "        percentage of missing values for each column in the input DataFrame.\n",
    "    \"\"\"\n",
    "    total_missing = data.isnull().sum().sort_values(ascending=False)\n",
    "    percentage_missing = (total_missing / len(data)) * 100\n",
    "    missing_data = pd.DataFrame({'Total': total_missing, 'Percentage': percentage_missing})\n",
    "    return missing_data"
   ]
  },
  {
   "cell_type": "code",
   "execution_count": 12,
   "id": "7644aad2",
   "metadata": {
    "scrolled": true
   },
   "outputs": [
    {
     "name": "stdout",
     "output_type": "stream",
     "text": [
      "\n",
      " event missing values:\n"
     ]
    },
    {
     "data": {
      "text/html": [
       "<div>\n",
       "<style scoped>\n",
       "    .dataframe tbody tr th:only-of-type {\n",
       "        vertical-align: middle;\n",
       "    }\n",
       "\n",
       "    .dataframe tbody tr th {\n",
       "        vertical-align: top;\n",
       "    }\n",
       "\n",
       "    .dataframe thead th {\n",
       "        text-align: right;\n",
       "    }\n",
       "</style>\n",
       "<table border=\"1\" class=\"dataframe\">\n",
       "  <thead>\n",
       "    <tr style=\"text-align: right;\">\n",
       "      <th></th>\n",
       "      <th>Total</th>\n",
       "      <th>Percentage</th>\n",
       "    </tr>\n",
       "  </thead>\n",
       "  <tbody>\n",
       "    <tr>\n",
       "      <th>transactionid</th>\n",
       "      <td>2733644</td>\n",
       "      <td>99.18519</td>\n",
       "    </tr>\n",
       "    <tr>\n",
       "      <th>timestamp</th>\n",
       "      <td>0</td>\n",
       "      <td>0.00000</td>\n",
       "    </tr>\n",
       "    <tr>\n",
       "      <th>visitorid</th>\n",
       "      <td>0</td>\n",
       "      <td>0.00000</td>\n",
       "    </tr>\n",
       "    <tr>\n",
       "      <th>event</th>\n",
       "      <td>0</td>\n",
       "      <td>0.00000</td>\n",
       "    </tr>\n",
       "    <tr>\n",
       "      <th>itemid</th>\n",
       "      <td>0</td>\n",
       "      <td>0.00000</td>\n",
       "    </tr>\n",
       "  </tbody>\n",
       "</table>\n",
       "</div>"
      ],
      "text/plain": [
       "                 Total  Percentage\n",
       "transactionid  2733644    99.18519\n",
       "timestamp            0     0.00000\n",
       "visitorid            0     0.00000\n",
       "event                0     0.00000\n",
       "itemid               0     0.00000"
      ]
     },
     "metadata": {},
     "output_type": "display_data"
    },
    {
     "name": "stdout",
     "output_type": "stream",
     "text": [
      "\n",
      " category missing values:\n"
     ]
    },
    {
     "data": {
      "text/html": [
       "<div>\n",
       "<style scoped>\n",
       "    .dataframe tbody tr th:only-of-type {\n",
       "        vertical-align: middle;\n",
       "    }\n",
       "\n",
       "    .dataframe tbody tr th {\n",
       "        vertical-align: top;\n",
       "    }\n",
       "\n",
       "    .dataframe thead th {\n",
       "        text-align: right;\n",
       "    }\n",
       "</style>\n",
       "<table border=\"1\" class=\"dataframe\">\n",
       "  <thead>\n",
       "    <tr style=\"text-align: right;\">\n",
       "      <th></th>\n",
       "      <th>Total</th>\n",
       "      <th>Percentage</th>\n",
       "    </tr>\n",
       "  </thead>\n",
       "  <tbody>\n",
       "    <tr>\n",
       "      <th>parentid</th>\n",
       "      <td>25</td>\n",
       "      <td>1.497903</td>\n",
       "    </tr>\n",
       "    <tr>\n",
       "      <th>categoryid</th>\n",
       "      <td>0</td>\n",
       "      <td>0.000000</td>\n",
       "    </tr>\n",
       "  </tbody>\n",
       "</table>\n",
       "</div>"
      ],
      "text/plain": [
       "            Total  Percentage\n",
       "parentid       25    1.497903\n",
       "categoryid      0    0.000000"
      ]
     },
     "metadata": {},
     "output_type": "display_data"
    },
    {
     "name": "stdout",
     "output_type": "stream",
     "text": [
      "\n",
      " items properties missing values:\n"
     ]
    },
    {
     "data": {
      "text/html": [
       "<div>\n",
       "<style scoped>\n",
       "    .dataframe tbody tr th:only-of-type {\n",
       "        vertical-align: middle;\n",
       "    }\n",
       "\n",
       "    .dataframe tbody tr th {\n",
       "        vertical-align: top;\n",
       "    }\n",
       "\n",
       "    .dataframe thead th {\n",
       "        text-align: right;\n",
       "    }\n",
       "</style>\n",
       "<table border=\"1\" class=\"dataframe\">\n",
       "  <thead>\n",
       "    <tr style=\"text-align: right;\">\n",
       "      <th></th>\n",
       "      <th>Total</th>\n",
       "      <th>Percentage</th>\n",
       "    </tr>\n",
       "  </thead>\n",
       "  <tbody>\n",
       "    <tr>\n",
       "      <th>timestamp</th>\n",
       "      <td>0</td>\n",
       "      <td>0.0</td>\n",
       "    </tr>\n",
       "    <tr>\n",
       "      <th>itemid</th>\n",
       "      <td>0</td>\n",
       "      <td>0.0</td>\n",
       "    </tr>\n",
       "    <tr>\n",
       "      <th>property</th>\n",
       "      <td>0</td>\n",
       "      <td>0.0</td>\n",
       "    </tr>\n",
       "    <tr>\n",
       "      <th>value</th>\n",
       "      <td>0</td>\n",
       "      <td>0.0</td>\n",
       "    </tr>\n",
       "  </tbody>\n",
       "</table>\n",
       "</div>"
      ],
      "text/plain": [
       "           Total  Percentage\n",
       "timestamp      0         0.0\n",
       "itemid         0         0.0\n",
       "property       0         0.0\n",
       "value          0         0.0"
      ]
     },
     "metadata": {},
     "output_type": "display_data"
    }
   ],
   "source": [
    "# Identify and quantify missing values\n",
    "\n",
    "print('\\n event missing values:')\n",
    "display(missing_values(event))\n",
    "\n",
    "print('\\n category missing values:')\n",
    "display(missing_values(cat))\n",
    "\n",
    "print('\\n items properties missing values:')\n",
    "display(missing_values(items))"
   ]
  },
  {
   "cell_type": "code",
   "execution_count": 13,
   "id": "f04e724b",
   "metadata": {},
   "outputs": [
    {
     "data": {
      "image/png": "[encoded data removed]",
      "text/plain": [
       "<Figure size 1000x600 with 1 Axes>"
      ]
     },
     "metadata": {},
     "output_type": "display_data"
    },
    {
     "data": {
      "image/png": "[encoded data removed]",
      "text/plain": [
       "<Figure size 1000x600 with 1 Axes>"
      ]
     },
     "metadata": {},
     "output_type": "display_data"
    },
    {
     "data": {
      "image/png": "[encoded data removed]",
      "text/plain": [
       "<Figure size 1000x600 with 1 Axes>"
      ]
     },
     "metadata": {},
     "output_type": "display_data"
    }
   ],
   "source": [
    "# Visualize missing values\n",
    "\n",
    "plt.figure(figsize=(10, 6))\n",
    "sns.heatmap(event.isnull(), cbar=False).set_title('Missing values in events')\n",
    "plt.show()\n",
    "\n",
    "plt.figure(figsize=(10, 6))\n",
    "sns.heatmap(cat.isnull(), cbar=False).set_title('Missing values in category_tree')\n",
    "plt.show()\n",
    "\n",
    "plt.figure(figsize=(10, 6))\n",
    "sns.heatmap(items.isnull(), cbar=False).set_title('Missing values in item_properties')\n",
    "plt.show()"
   ]
  },
  {
   "cell_type": "markdown",
   "id": "b6acfbfe",
   "metadata": {},
   "source": [
    "> The above ouput makes it clear that:\n",
    "> - `transactionid` column of `event` data has `2733644` missing values which forms `99.2%` of the data.\n",
    "> - `parentid\t` column of `category_tree` data has `25` missing values which forms only `1.5%` of the data.\n",
    "> - `item` has no missing values."
   ]
  },
  {
   "cell_type": "markdown",
   "id": "49b93f6a",
   "metadata": {},
   "source": [
    "**Checking if all items in events data exists in item properties data**"
   ]
  },
  {
   "cell_type": "code",
   "execution_count": 14,
   "id": "34666b4c",
   "metadata": {
    "scrolled": true
   },
   "outputs": [
    {
     "name": "stdout",
     "output_type": "stream",
     "text": [
      "Missing items from items table: 49815\n"
     ]
    }
   ],
   "source": [
    "missing_items = set(event['itemid'].unique()) - set(items['itemid'].unique())\n",
    "print(f\"Missing items from items table: {len(missing_items)}\")"
   ]
  },
  {
   "cell_type": "markdown",
   "id": "c299ac53",
   "metadata": {},
   "source": [
    "> This implies that there are `49815` unique items that do not exist in the item properties table."
   ]
  },
  {
   "cell_type": "markdown",
   "id": "5e02e55c",
   "metadata": {},
   "source": [
    "**Checking categoryid relationships**"
   ]
  },
  {
   "cell_type": "code",
   "execution_count": 15,
   "id": "0c25fdba",
   "metadata": {},
   "outputs": [
    {
     "data": {
      "text/plain": [
       "value\n",
       "True     788047\n",
       "False       167\n",
       "Name: count, dtype: int64"
      ]
     },
     "execution_count": 15,
     "metadata": {},
     "output_type": "execute_result"
    }
   ],
   "source": [
    "item_categories = items[items['property'] == 'categoryid']['value'].astype(int)\n",
    "item_categories.isin(cat['categoryid']).value_counts()"
   ]
  },
  {
   "cell_type": "code",
   "execution_count": 16,
   "id": "d93a35da",
   "metadata": {},
   "outputs": [
    {
     "name": "stdout",
     "output_type": "stream",
     "text": [
      "Unique unmatched categories in category table: 30\n",
      "List of unique unmatched categories: [ 919 1062  306 1446  181 1319  974 1428  566 1597  462 1571 1046  347\n",
      "  554  171  721 1158  300  930  168  345  899 1538 1594  307  280 1602\n",
      "   80 1123]\n"
     ]
    }
   ],
   "source": [
    "unmatched_cats = item_categories[~item_categories.isin(cat['categoryid'])]\n",
    "\n",
    "unique_unmatched_cats = unmatched_cats.nunique()\n",
    "\n",
    "print(f\"Unique unmatched categories in category table: {unique_unmatched_cats}\")\n",
    "\n",
    "print(\"List of unique unmatched categories:\", unmatched_cats.unique())\n"
   ]
  },
  {
   "cell_type": "markdown",
   "id": "dfbe195d",
   "metadata": {},
   "source": [
    " "
   ]
  },
  {
   "cell_type": "markdown",
   "id": "ff02c707",
   "metadata": {
    "id": "ff02c707"
   },
   "source": [
    " "
   ]
  },
  {
   "cell_type": "markdown",
   "id": "7d09f571",
   "metadata": {
    "id": "7d09f571"
   },
   "source": [
    " "
   ]
  },
  {
   "cell_type": "markdown",
   "id": "74958867",
   "metadata": {
    "id": "74958867"
   },
   "source": [
    "### Data Quality Summary:"
   ]
  },
  {
   "cell_type": "markdown",
   "id": "03e50f19",
   "metadata": {
    "id": "03e50f19"
   },
   "source": [
    "<p style=\"text-align:justify;\">Based on the data quality assessment, here are the key issues we identified:</p>\n",
    "\n",
    "  1. **`event`** data has 460 duplicates and it's **`transactionid`** column has **`2733644`** missing values which forms **`99.2%`** of the data. The missing values indicates that there was no transaction for such cases.\n",
    "  \n",
    "  2. **`category_tree`** data has no duplicate values but it's **`parentid`** column has **`25`** missing values which forms only **`1.5%`** of the data. The missing values indicates these are root categories  without a parent in the tree. \n",
    "  \n",
    "  3. **`items`** data has no duplicates or missing values.\n",
    "  4. The **`timestamp`** column for both **`event`** and **`items`** data has interger data type and needs to be converted to a datetime object.\n",
    "  5. The **`value`** column of the **`items`** data has hashed records. We will look into that and group them accordingly.\n",
    "  6. All 3 datasets have some relationship. We will consider that during the analysis.\n",
    "  7. **`49 815`** items in the **`event`** table do not exist in the **`items`** table. Hence they may be invalid records or old deleted items.\n",
    "  8. **`30`** unique records of the category property in **`items`** table point to non-existence category in the `category_tree` table. This could be a data entry issue or data loss issue. Hence, we will not drop those records or replace them but leave them as they are."
   ]
  },
  {
   "cell_type": "markdown",
   "id": "93d78ce6",
   "metadata": {
    "id": "93d78ce6"
   },
   "source": [
    " "
   ]
  },
  {
   "cell_type": "markdown",
   "id": "2cc49d50",
   "metadata": {
    "id": "2cc49d50"
   },
   "source": [
    " "
   ]
  },
  {
   "cell_type": "markdown",
   "id": "cf3ecf1b",
   "metadata": {
    "id": "cf3ecf1b"
   },
   "source": [
    "### 2.2 Data Cleaning and Preprocessing<a id='dcp'></a>"
   ]
  },
  {
   "cell_type": "markdown",
   "id": "1bf61e83",
   "metadata": {
    "id": "1bf61e83"
   },
   "source": [
    "<p style=\"text-align:justify\">The preprocessing step (usually an iterative process) is carried out to clean the data based on data quality issues identified. During the data quality assessment, we identified various data quality issues including missing values, incorrect data, inconsistent values, etc.\n",
    "\n",
    "In this task we will perform all the initial data cleaning and preprocessing needed to produce data that will be suitable for our analysis.</p>"
   ]
  },
  {
   "cell_type": "markdown",
   "id": "699d22bf",
   "metadata": {},
   "source": [
    "Here, we will handle missing values, inconsistent data types, and other data quality issues in the combined item properties data and the `events.csv` and `category_tree.csv` dataframes.\n"
   ]
  },
  {
   "cell_type": "markdown",
   "id": "f8707337",
   "metadata": {
    "id": "f8707337"
   },
   "source": [
    "#### Handling Missing Values"
   ]
  },
  {
   "cell_type": "markdown",
   "id": "65e16757",
   "metadata": {},
   "source": [
    "1. **events data**\n",
    "\n",
    "    The missing values in the `transactionid` column indicates that there was no transaction for such cases. Hence we will replace those with `0`.\n"
   ]
  },
  {
   "cell_type": "code",
   "execution_count": 17,
   "id": "2b1a05c9",
   "metadata": {},
   "outputs": [],
   "source": [
    "event['transactionid'] = event['transactionid'].fillna(0)"
   ]
  },
  {
   "cell_type": "code",
   "execution_count": 18,
   "id": "76db1156",
   "metadata": {},
   "outputs": [
    {
     "data": {
      "text/html": [
       "<div>\n",
       "<style scoped>\n",
       "    .dataframe tbody tr th:only-of-type {\n",
       "        vertical-align: middle;\n",
       "    }\n",
       "\n",
       "    .dataframe tbody tr th {\n",
       "        vertical-align: top;\n",
       "    }\n",
       "\n",
       "    .dataframe thead th {\n",
       "        text-align: right;\n",
       "    }\n",
       "</style>\n",
       "<table border=\"1\" class=\"dataframe\">\n",
       "  <thead>\n",
       "    <tr style=\"text-align: right;\">\n",
       "      <th></th>\n",
       "      <th>Total</th>\n",
       "      <th>Percentage</th>\n",
       "    </tr>\n",
       "  </thead>\n",
       "  <tbody>\n",
       "    <tr>\n",
       "      <th>timestamp</th>\n",
       "      <td>0</td>\n",
       "      <td>0.0</td>\n",
       "    </tr>\n",
       "    <tr>\n",
       "      <th>visitorid</th>\n",
       "      <td>0</td>\n",
       "      <td>0.0</td>\n",
       "    </tr>\n",
       "    <tr>\n",
       "      <th>event</th>\n",
       "      <td>0</td>\n",
       "      <td>0.0</td>\n",
       "    </tr>\n",
       "    <tr>\n",
       "      <th>itemid</th>\n",
       "      <td>0</td>\n",
       "      <td>0.0</td>\n",
       "    </tr>\n",
       "    <tr>\n",
       "      <th>transactionid</th>\n",
       "      <td>0</td>\n",
       "      <td>0.0</td>\n",
       "    </tr>\n",
       "  </tbody>\n",
       "</table>\n",
       "</div>"
      ],
      "text/plain": [
       "               Total  Percentage\n",
       "timestamp          0         0.0\n",
       "visitorid          0         0.0\n",
       "event              0         0.0\n",
       "itemid             0         0.0\n",
       "transactionid      0         0.0"
      ]
     },
     "execution_count": 18,
     "metadata": {},
     "output_type": "execute_result"
    }
   ],
   "source": [
    "missing_values(event)"
   ]
  },
  {
   "cell_type": "markdown",
   "id": "6197b299",
   "metadata": {},
   "source": [
    "2. **category_tree data**\n",
    "    The missing values in the `parentid` column indicates these are root categories  and do not have a parent in the tree. Replacing them will imply there is a parentid. Hence we will leave it as it is. \n"
   ]
  },
  {
   "cell_type": "markdown",
   "id": "701a0ab5",
   "metadata": {},
   "source": [
    " "
   ]
  },
  {
   "cell_type": "markdown",
   "id": "2315dcb2",
   "metadata": {
    "id": "f8707337"
   },
   "source": [
    "#### Handling Duplicates"
   ]
  },
  {
   "cell_type": "code",
   "execution_count": 19,
   "id": "ab9ac901",
   "metadata": {},
   "outputs": [
    {
     "data": {
      "text/plain": [
       "np.int64(460)"
      ]
     },
     "execution_count": 19,
     "metadata": {},
     "output_type": "execute_result"
    }
   ],
   "source": [
    "event.duplicated().sum()"
   ]
  },
  {
   "cell_type": "code",
   "execution_count": 20,
   "id": "18e0060f",
   "metadata": {},
   "outputs": [],
   "source": [
    "# deleting duplicates\n",
    "\n",
    "event = event.drop_duplicates()"
   ]
  },
  {
   "cell_type": "code",
   "execution_count": 21,
   "id": "907399af",
   "metadata": {
    "scrolled": true
   },
   "outputs": [
    {
     "data": {
      "text/plain": [
       "np.int64(0)"
      ]
     },
     "execution_count": 21,
     "metadata": {},
     "output_type": "execute_result"
    }
   ],
   "source": [
    "event.duplicated().sum()"
   ]
  },
  {
   "cell_type": "markdown",
   "id": "9a983485",
   "metadata": {},
   "source": [
    "> All duplcates are deleted"
   ]
  },
  {
   "cell_type": "markdown",
   "id": "a1e4fc1b",
   "metadata": {
    "id": "f8707337"
   },
   "source": [
    "#### Handling Data Types"
   ]
  },
  {
   "cell_type": "code",
   "execution_count": 22,
   "id": "a247fc0a",
   "metadata": {},
   "outputs": [],
   "source": [
    "# converting event timestamp to datetime object\n",
    "\n",
    "event['timestamp'] = pd.to_datetime(event['timestamp'], unit='ms').dt.floor('s')"
   ]
  },
  {
   "cell_type": "code",
   "execution_count": 23,
   "id": "3a824a33",
   "metadata": {},
   "outputs": [],
   "source": [
    "# converting event transactionid to int\n",
    "\n",
    "event['transactionid'] = event['transactionid'].astype('int')"
   ]
  },
  {
   "cell_type": "code",
   "execution_count": 24,
   "id": "25f0c17b",
   "metadata": {},
   "outputs": [
    {
     "name": "stdout",
     "output_type": "stream",
     "text": [
      "<class 'pandas.core.frame.DataFrame'>\n",
      "Index: 2755641 entries, 0 to 2756100\n",
      "Data columns (total 5 columns):\n",
      " #   Column         Dtype         \n",
      "---  ------         -----         \n",
      " 0   timestamp      datetime64[ns]\n",
      " 1   visitorid      int64         \n",
      " 2   event          object        \n",
      " 3   itemid         int64         \n",
      " 4   transactionid  int64         \n",
      "dtypes: datetime64[ns](1), int64(3), object(1)\n",
      "memory usage: 126.1+ MB\n"
     ]
    }
   ],
   "source": [
    "event.info()"
   ]
  },
  {
   "cell_type": "code",
   "execution_count": 25,
   "id": "89cc5e10",
   "metadata": {},
   "outputs": [],
   "source": [
    "# converting items timestamp to datetime object\n",
    "\n",
    "items['timestamp'] = pd.to_datetime(items['timestamp'], unit='ms')"
   ]
  },
  {
   "cell_type": "code",
   "execution_count": 26,
   "id": "8a25f9a7",
   "metadata": {
    "scrolled": true
   },
   "outputs": [
    {
     "name": "stdout",
     "output_type": "stream",
     "text": [
      "<class 'pandas.core.frame.DataFrame'>\n",
      "RangeIndex: 20275902 entries, 0 to 20275901\n",
      "Data columns (total 4 columns):\n",
      " #   Column     Dtype         \n",
      "---  ------     -----         \n",
      " 0   timestamp  datetime64[ns]\n",
      " 1   itemid     int64         \n",
      " 2   property   object        \n",
      " 3   value      object        \n",
      "dtypes: datetime64[ns](1), int64(1), object(2)\n",
      "memory usage: 618.8+ MB\n"
     ]
    }
   ],
   "source": [
    "items.info()"
   ]
  },
  {
   "cell_type": "code",
   "execution_count": 27,
   "id": "c1aeafd8",
   "metadata": {
    "scrolled": true
   },
   "outputs": [
    {
     "data": {
      "text/html": [
       "<div>\n",
       "<style scoped>\n",
       "    .dataframe tbody tr th:only-of-type {\n",
       "        vertical-align: middle;\n",
       "    }\n",
       "\n",
       "    .dataframe tbody tr th {\n",
       "        vertical-align: top;\n",
       "    }\n",
       "\n",
       "    .dataframe thead th {\n",
       "        text-align: right;\n",
       "    }\n",
       "</style>\n",
       "<table border=\"1\" class=\"dataframe\">\n",
       "  <thead>\n",
       "    <tr style=\"text-align: right;\">\n",
       "      <th></th>\n",
       "      <th>timestamp</th>\n",
       "      <th>itemid</th>\n",
       "      <th>property</th>\n",
       "      <th>value</th>\n",
       "    </tr>\n",
       "  </thead>\n",
       "  <tbody>\n",
       "    <tr>\n",
       "      <th>0</th>\n",
       "      <td>2015-06-28 03:00:00</td>\n",
       "      <td>460429</td>\n",
       "      <td>categoryid</td>\n",
       "      <td>1338</td>\n",
       "    </tr>\n",
       "    <tr>\n",
       "      <th>1</th>\n",
       "      <td>2015-09-06 03:00:00</td>\n",
       "      <td>206783</td>\n",
       "      <td>888</td>\n",
       "      <td>1116713 960601 n277.200</td>\n",
       "    </tr>\n",
       "    <tr>\n",
       "      <th>2</th>\n",
       "      <td>2015-08-09 03:00:00</td>\n",
       "      <td>395014</td>\n",
       "      <td>400</td>\n",
       "      <td>n552.000 639502 n720.000 424566</td>\n",
       "    </tr>\n",
       "    <tr>\n",
       "      <th>3</th>\n",
       "      <td>2015-05-10 03:00:00</td>\n",
       "      <td>59481</td>\n",
       "      <td>790</td>\n",
       "      <td>n15360.000</td>\n",
       "    </tr>\n",
       "    <tr>\n",
       "      <th>4</th>\n",
       "      <td>2015-05-17 03:00:00</td>\n",
       "      <td>156781</td>\n",
       "      <td>917</td>\n",
       "      <td>828513</td>\n",
       "    </tr>\n",
       "  </tbody>\n",
       "</table>\n",
       "</div>"
      ],
      "text/plain": [
       "            timestamp  itemid    property                            value\n",
       "0 2015-06-28 03:00:00  460429  categoryid                             1338\n",
       "1 2015-09-06 03:00:00  206783         888          1116713 960601 n277.200\n",
       "2 2015-08-09 03:00:00  395014         400  n552.000 639502 n720.000 424566\n",
       "3 2015-05-10 03:00:00   59481         790                       n15360.000\n",
       "4 2015-05-17 03:00:00  156781         917                           828513"
      ]
     },
     "execution_count": 27,
     "metadata": {},
     "output_type": "execute_result"
    }
   ],
   "source": [
    "items.head()"
   ]
  },
  {
   "cell_type": "markdown",
   "id": "52834f5a",
   "metadata": {},
   "source": [
    "**Dropping non-existing itemid from events table**"
   ]
  },
  {
   "cell_type": "code",
   "execution_count": 28,
   "id": "e8e8bd7e",
   "metadata": {
    "scrolled": true
   },
   "outputs": [
    {
     "name": "stdout",
     "output_type": "stream",
     "text": [
      "Dropped 255576 events due to missing itemid\n"
     ]
    }
   ],
   "source": [
    "valid_itemids = set(items['itemid'].unique())\n",
    "\n",
    "valid_events = event[event['itemid'].isin(valid_itemids)]\n",
    "\n",
    "dropped_events = len(event) - len(valid_events)\n",
    "print(f\"Dropped {dropped_events} events due to missing itemid\")"
   ]
  },
  {
   "cell_type": "code",
   "execution_count": 29,
   "id": "c179d184",
   "metadata": {},
   "outputs": [
    {
     "name": "stdout",
     "output_type": "stream",
     "text": [
      "0\n"
     ]
    }
   ],
   "source": [
    "itemids_left = set(valid_events['itemid'].unique()) - set(items['itemid'].unique())\n",
    "print(len(itemids_left))"
   ]
  },
  {
   "cell_type": "code",
   "execution_count": 30,
   "id": "fc2609c6",
   "metadata": {
    "scrolled": true
   },
   "outputs": [
    {
     "data": {
      "text/html": [
       "<div>\n",
       "<style scoped>\n",
       "    .dataframe tbody tr th:only-of-type {\n",
       "        vertical-align: middle;\n",
       "    }\n",
       "\n",
       "    .dataframe tbody tr th {\n",
       "        vertical-align: top;\n",
       "    }\n",
       "\n",
       "    .dataframe thead th {\n",
       "        text-align: right;\n",
       "    }\n",
       "</style>\n",
       "<table border=\"1\" class=\"dataframe\">\n",
       "  <thead>\n",
       "    <tr style=\"text-align: right;\">\n",
       "      <th></th>\n",
       "      <th>timestamp</th>\n",
       "      <th>visitorid</th>\n",
       "      <th>event</th>\n",
       "      <th>itemid</th>\n",
       "      <th>transactionid</th>\n",
       "    </tr>\n",
       "  </thead>\n",
       "  <tbody>\n",
       "    <tr>\n",
       "      <th>0</th>\n",
       "      <td>2015-06-02 05:02:12</td>\n",
       "      <td>257597</td>\n",
       "      <td>view</td>\n",
       "      <td>355908</td>\n",
       "      <td>0</td>\n",
       "    </tr>\n",
       "    <tr>\n",
       "      <th>1</th>\n",
       "      <td>2015-06-02 05:50:14</td>\n",
       "      <td>992329</td>\n",
       "      <td>view</td>\n",
       "      <td>248676</td>\n",
       "      <td>0</td>\n",
       "    </tr>\n",
       "    <tr>\n",
       "      <th>3</th>\n",
       "      <td>2015-06-02 05:12:35</td>\n",
       "      <td>483717</td>\n",
       "      <td>view</td>\n",
       "      <td>253185</td>\n",
       "      <td>0</td>\n",
       "    </tr>\n",
       "    <tr>\n",
       "      <th>4</th>\n",
       "      <td>2015-06-02 05:02:17</td>\n",
       "      <td>951259</td>\n",
       "      <td>view</td>\n",
       "      <td>367447</td>\n",
       "      <td>0</td>\n",
       "    </tr>\n",
       "    <tr>\n",
       "      <th>5</th>\n",
       "      <td>2015-06-02 05:48:06</td>\n",
       "      <td>972639</td>\n",
       "      <td>view</td>\n",
       "      <td>22556</td>\n",
       "      <td>0</td>\n",
       "    </tr>\n",
       "  </tbody>\n",
       "</table>\n",
       "</div>"
      ],
      "text/plain": [
       "            timestamp  visitorid event  itemid  transactionid\n",
       "0 2015-06-02 05:02:12     257597  view  355908              0\n",
       "1 2015-06-02 05:50:14     992329  view  248676              0\n",
       "3 2015-06-02 05:12:35     483717  view  253185              0\n",
       "4 2015-06-02 05:02:17     951259  view  367447              0\n",
       "5 2015-06-02 05:48:06     972639  view   22556              0"
      ]
     },
     "execution_count": 30,
     "metadata": {},
     "output_type": "execute_result"
    }
   ],
   "source": [
    "valid_events.head()"
   ]
  },
  {
   "cell_type": "markdown",
   "id": "fd7b85eb",
   "metadata": {},
   "source": [
    "> All `itemids` on the event table now do exist on the `item_property` table. "
   ]
  },
  {
   "cell_type": "code",
   "execution_count": 31,
   "id": "f37b08fd",
   "metadata": {},
   "outputs": [
    {
     "data": {
      "text/plain": [
       "((2500065, 5), (20275902, 4), (1669, 2))"
      ]
     },
     "execution_count": 31,
     "metadata": {},
     "output_type": "execute_result"
    }
   ],
   "source": [
    "valid_events.shape, items.shape, cat.shape"
   ]
  },
  {
   "cell_type": "markdown",
   "id": "92a79334",
   "metadata": {
    "id": "92a79334"
   },
   "source": [
    " "
   ]
  },
  {
   "cell_type": "markdown",
   "id": "2e4c9ee0",
   "metadata": {},
   "source": [
    " "
   ]
  },
  {
   "cell_type": "markdown",
   "id": "4e27a8ed",
   "metadata": {
    "id": "4e27a8ed"
   },
   "source": [
    "#### Creating DATE and TIME columns"
   ]
  },
  {
   "cell_type": "code",
   "execution_count": 32,
   "id": "7a38b904",
   "metadata": {
    "scrolled": true
   },
   "outputs": [
    {
     "data": {
      "text/html": [
       "<div>\n",
       "<style scoped>\n",
       "    .dataframe tbody tr th:only-of-type {\n",
       "        vertical-align: middle;\n",
       "    }\n",
       "\n",
       "    .dataframe tbody tr th {\n",
       "        vertical-align: top;\n",
       "    }\n",
       "\n",
       "    .dataframe thead th {\n",
       "        text-align: right;\n",
       "    }\n",
       "</style>\n",
       "<table border=\"1\" class=\"dataframe\">\n",
       "  <thead>\n",
       "    <tr style=\"text-align: right;\">\n",
       "      <th></th>\n",
       "      <th>timestamp</th>\n",
       "      <th>itemid</th>\n",
       "      <th>property</th>\n",
       "      <th>value</th>\n",
       "    </tr>\n",
       "  </thead>\n",
       "  <tbody>\n",
       "    <tr>\n",
       "      <th>0</th>\n",
       "      <td>2015-06-28 03:00:00</td>\n",
       "      <td>460429</td>\n",
       "      <td>categoryid</td>\n",
       "      <td>1338</td>\n",
       "    </tr>\n",
       "    <tr>\n",
       "      <th>1</th>\n",
       "      <td>2015-09-06 03:00:00</td>\n",
       "      <td>206783</td>\n",
       "      <td>888</td>\n",
       "      <td>1116713 960601 n277.200</td>\n",
       "    </tr>\n",
       "    <tr>\n",
       "      <th>2</th>\n",
       "      <td>2015-08-09 03:00:00</td>\n",
       "      <td>395014</td>\n",
       "      <td>400</td>\n",
       "      <td>n552.000 639502 n720.000 424566</td>\n",
       "    </tr>\n",
       "    <tr>\n",
       "      <th>3</th>\n",
       "      <td>2015-05-10 03:00:00</td>\n",
       "      <td>59481</td>\n",
       "      <td>790</td>\n",
       "      <td>n15360.000</td>\n",
       "    </tr>\n",
       "    <tr>\n",
       "      <th>4</th>\n",
       "      <td>2015-05-17 03:00:00</td>\n",
       "      <td>156781</td>\n",
       "      <td>917</td>\n",
       "      <td>828513</td>\n",
       "    </tr>\n",
       "  </tbody>\n",
       "</table>\n",
       "</div>"
      ],
      "text/plain": [
       "            timestamp  itemid    property                            value\n",
       "0 2015-06-28 03:00:00  460429  categoryid                             1338\n",
       "1 2015-09-06 03:00:00  206783         888          1116713 960601 n277.200\n",
       "2 2015-08-09 03:00:00  395014         400  n552.000 639502 n720.000 424566\n",
       "3 2015-05-10 03:00:00   59481         790                       n15360.000\n",
       "4 2015-05-17 03:00:00  156781         917                           828513"
      ]
     },
     "execution_count": 32,
     "metadata": {},
     "output_type": "execute_result"
    }
   ],
   "source": [
    "items.head()"
   ]
  },
  {
   "cell_type": "code",
   "execution_count": 33,
   "id": "c7de2657",
   "metadata": {
    "scrolled": true
   },
   "outputs": [
    {
     "data": {
      "text/html": [
       "<div>\n",
       "<style scoped>\n",
       "    .dataframe tbody tr th:only-of-type {\n",
       "        vertical-align: middle;\n",
       "    }\n",
       "\n",
       "    .dataframe tbody tr th {\n",
       "        vertical-align: top;\n",
       "    }\n",
       "\n",
       "    .dataframe thead th {\n",
       "        text-align: right;\n",
       "    }\n",
       "</style>\n",
       "<table border=\"1\" class=\"dataframe\">\n",
       "  <thead>\n",
       "    <tr style=\"text-align: right;\">\n",
       "      <th></th>\n",
       "      <th>timestamp</th>\n",
       "      <th>visitorid</th>\n",
       "      <th>event</th>\n",
       "      <th>itemid</th>\n",
       "      <th>transactionid</th>\n",
       "    </tr>\n",
       "  </thead>\n",
       "  <tbody>\n",
       "    <tr>\n",
       "      <th>0</th>\n",
       "      <td>2015-06-02 05:02:12</td>\n",
       "      <td>257597</td>\n",
       "      <td>view</td>\n",
       "      <td>355908</td>\n",
       "      <td>0</td>\n",
       "    </tr>\n",
       "    <tr>\n",
       "      <th>1</th>\n",
       "      <td>2015-06-02 05:50:14</td>\n",
       "      <td>992329</td>\n",
       "      <td>view</td>\n",
       "      <td>248676</td>\n",
       "      <td>0</td>\n",
       "    </tr>\n",
       "    <tr>\n",
       "      <th>3</th>\n",
       "      <td>2015-06-02 05:12:35</td>\n",
       "      <td>483717</td>\n",
       "      <td>view</td>\n",
       "      <td>253185</td>\n",
       "      <td>0</td>\n",
       "    </tr>\n",
       "    <tr>\n",
       "      <th>4</th>\n",
       "      <td>2015-06-02 05:02:17</td>\n",
       "      <td>951259</td>\n",
       "      <td>view</td>\n",
       "      <td>367447</td>\n",
       "      <td>0</td>\n",
       "    </tr>\n",
       "    <tr>\n",
       "      <th>5</th>\n",
       "      <td>2015-06-02 05:48:06</td>\n",
       "      <td>972639</td>\n",
       "      <td>view</td>\n",
       "      <td>22556</td>\n",
       "      <td>0</td>\n",
       "    </tr>\n",
       "  </tbody>\n",
       "</table>\n",
       "</div>"
      ],
      "text/plain": [
       "            timestamp  visitorid event  itemid  transactionid\n",
       "0 2015-06-02 05:02:12     257597  view  355908              0\n",
       "1 2015-06-02 05:50:14     992329  view  248676              0\n",
       "3 2015-06-02 05:12:35     483717  view  253185              0\n",
       "4 2015-06-02 05:02:17     951259  view  367447              0\n",
       "5 2015-06-02 05:48:06     972639  view   22556              0"
      ]
     },
     "execution_count": 33,
     "metadata": {},
     "output_type": "execute_result"
    }
   ],
   "source": [
    "valid_events.head()"
   ]
  },
  {
   "cell_type": "code",
   "execution_count": 34,
   "id": "4e8803ca",
   "metadata": {},
   "outputs": [],
   "source": [
    "items['date'] = items['timestamp'].dt.date\n",
    "items['month'] = items['timestamp'].dt.month\n",
    "items['time'] = items['timestamp'].dt.time"
   ]
  },
  {
   "cell_type": "code",
   "execution_count": 35,
   "id": "d13e70ea",
   "metadata": {},
   "outputs": [],
   "source": [
    "valid_events = valid_events.assign(\n",
    "    date = valid_events['timestamp'].dt.date,\n",
    "    month = valid_events['timestamp'].dt.month,\n",
    "    time = valid_events['timestamp'].dt.time\n",
    ")"
   ]
  },
  {
   "cell_type": "code",
   "execution_count": 36,
   "id": "4ae2a467",
   "metadata": {},
   "outputs": [
    {
     "data": {
      "text/html": [
       "<div>\n",
       "<style scoped>\n",
       "    .dataframe tbody tr th:only-of-type {\n",
       "        vertical-align: middle;\n",
       "    }\n",
       "\n",
       "    .dataframe tbody tr th {\n",
       "        vertical-align: top;\n",
       "    }\n",
       "\n",
       "    .dataframe thead th {\n",
       "        text-align: right;\n",
       "    }\n",
       "</style>\n",
       "<table border=\"1\" class=\"dataframe\">\n",
       "  <thead>\n",
       "    <tr style=\"text-align: right;\">\n",
       "      <th></th>\n",
       "      <th>timestamp</th>\n",
       "      <th>itemid</th>\n",
       "      <th>property</th>\n",
       "      <th>value</th>\n",
       "      <th>date</th>\n",
       "      <th>month</th>\n",
       "      <th>time</th>\n",
       "    </tr>\n",
       "  </thead>\n",
       "  <tbody>\n",
       "    <tr>\n",
       "      <th>0</th>\n",
       "      <td>2015-06-28 03:00:00</td>\n",
       "      <td>460429</td>\n",
       "      <td>categoryid</td>\n",
       "      <td>1338</td>\n",
       "      <td>2015-06-28</td>\n",
       "      <td>6</td>\n",
       "      <td>03:00:00</td>\n",
       "    </tr>\n",
       "    <tr>\n",
       "      <th>1</th>\n",
       "      <td>2015-09-06 03:00:00</td>\n",
       "      <td>206783</td>\n",
       "      <td>888</td>\n",
       "      <td>1116713 960601 n277.200</td>\n",
       "      <td>2015-09-06</td>\n",
       "      <td>9</td>\n",
       "      <td>03:00:00</td>\n",
       "    </tr>\n",
       "    <tr>\n",
       "      <th>2</th>\n",
       "      <td>2015-08-09 03:00:00</td>\n",
       "      <td>395014</td>\n",
       "      <td>400</td>\n",
       "      <td>n552.000 639502 n720.000 424566</td>\n",
       "      <td>2015-08-09</td>\n",
       "      <td>8</td>\n",
       "      <td>03:00:00</td>\n",
       "    </tr>\n",
       "    <tr>\n",
       "      <th>3</th>\n",
       "      <td>2015-05-10 03:00:00</td>\n",
       "      <td>59481</td>\n",
       "      <td>790</td>\n",
       "      <td>n15360.000</td>\n",
       "      <td>2015-05-10</td>\n",
       "      <td>5</td>\n",
       "      <td>03:00:00</td>\n",
       "    </tr>\n",
       "    <tr>\n",
       "      <th>4</th>\n",
       "      <td>2015-05-17 03:00:00</td>\n",
       "      <td>156781</td>\n",
       "      <td>917</td>\n",
       "      <td>828513</td>\n",
       "      <td>2015-05-17</td>\n",
       "      <td>5</td>\n",
       "      <td>03:00:00</td>\n",
       "    </tr>\n",
       "  </tbody>\n",
       "</table>\n",
       "</div>"
      ],
      "text/plain": [
       "            timestamp  itemid    property                            value  \\\n",
       "0 2015-06-28 03:00:00  460429  categoryid                             1338   \n",
       "1 2015-09-06 03:00:00  206783         888          1116713 960601 n277.200   \n",
       "2 2015-08-09 03:00:00  395014         400  n552.000 639502 n720.000 424566   \n",
       "3 2015-05-10 03:00:00   59481         790                       n15360.000   \n",
       "4 2015-05-17 03:00:00  156781         917                           828513   \n",
       "\n",
       "         date  month      time  \n",
       "0  2015-06-28      6  03:00:00  \n",
       "1  2015-09-06      9  03:00:00  \n",
       "2  2015-08-09      8  03:00:00  \n",
       "3  2015-05-10      5  03:00:00  \n",
       "4  2015-05-17      5  03:00:00  "
      ]
     },
     "execution_count": 36,
     "metadata": {},
     "output_type": "execute_result"
    }
   ],
   "source": [
    "items.head()"
   ]
  },
  {
   "cell_type": "code",
   "execution_count": 37,
   "id": "f16d5c87",
   "metadata": {},
   "outputs": [
    {
     "data": {
      "text/html": [
       "<div>\n",
       "<style scoped>\n",
       "    .dataframe tbody tr th:only-of-type {\n",
       "        vertical-align: middle;\n",
       "    }\n",
       "\n",
       "    .dataframe tbody tr th {\n",
       "        vertical-align: top;\n",
       "    }\n",
       "\n",
       "    .dataframe thead th {\n",
       "        text-align: right;\n",
       "    }\n",
       "</style>\n",
       "<table border=\"1\" class=\"dataframe\">\n",
       "  <thead>\n",
       "    <tr style=\"text-align: right;\">\n",
       "      <th></th>\n",
       "      <th>timestamp</th>\n",
       "      <th>visitorid</th>\n",
       "      <th>event</th>\n",
       "      <th>itemid</th>\n",
       "      <th>transactionid</th>\n",
       "      <th>date</th>\n",
       "      <th>month</th>\n",
       "      <th>time</th>\n",
       "    </tr>\n",
       "  </thead>\n",
       "  <tbody>\n",
       "    <tr>\n",
       "      <th>0</th>\n",
       "      <td>2015-06-02 05:02:12</td>\n",
       "      <td>257597</td>\n",
       "      <td>view</td>\n",
       "      <td>355908</td>\n",
       "      <td>0</td>\n",
       "      <td>2015-06-02</td>\n",
       "      <td>6</td>\n",
       "      <td>05:02:12</td>\n",
       "    </tr>\n",
       "    <tr>\n",
       "      <th>1</th>\n",
       "      <td>2015-06-02 05:50:14</td>\n",
       "      <td>992329</td>\n",
       "      <td>view</td>\n",
       "      <td>248676</td>\n",
       "      <td>0</td>\n",
       "      <td>2015-06-02</td>\n",
       "      <td>6</td>\n",
       "      <td>05:50:14</td>\n",
       "    </tr>\n",
       "    <tr>\n",
       "      <th>3</th>\n",
       "      <td>2015-06-02 05:12:35</td>\n",
       "      <td>483717</td>\n",
       "      <td>view</td>\n",
       "      <td>253185</td>\n",
       "      <td>0</td>\n",
       "      <td>2015-06-02</td>\n",
       "      <td>6</td>\n",
       "      <td>05:12:35</td>\n",
       "    </tr>\n",
       "    <tr>\n",
       "      <th>4</th>\n",
       "      <td>2015-06-02 05:02:17</td>\n",
       "      <td>951259</td>\n",
       "      <td>view</td>\n",
       "      <td>367447</td>\n",
       "      <td>0</td>\n",
       "      <td>2015-06-02</td>\n",
       "      <td>6</td>\n",
       "      <td>05:02:17</td>\n",
       "    </tr>\n",
       "    <tr>\n",
       "      <th>5</th>\n",
       "      <td>2015-06-02 05:48:06</td>\n",
       "      <td>972639</td>\n",
       "      <td>view</td>\n",
       "      <td>22556</td>\n",
       "      <td>0</td>\n",
       "      <td>2015-06-02</td>\n",
       "      <td>6</td>\n",
       "      <td>05:48:06</td>\n",
       "    </tr>\n",
       "  </tbody>\n",
       "</table>\n",
       "</div>"
      ],
      "text/plain": [
       "            timestamp  visitorid event  itemid  transactionid        date  \\\n",
       "0 2015-06-02 05:02:12     257597  view  355908              0  2015-06-02   \n",
       "1 2015-06-02 05:50:14     992329  view  248676              0  2015-06-02   \n",
       "3 2015-06-02 05:12:35     483717  view  253185              0  2015-06-02   \n",
       "4 2015-06-02 05:02:17     951259  view  367447              0  2015-06-02   \n",
       "5 2015-06-02 05:48:06     972639  view   22556              0  2015-06-02   \n",
       "\n",
       "   month      time  \n",
       "0      6  05:02:12  \n",
       "1      6  05:50:14  \n",
       "3      6  05:12:35  \n",
       "4      6  05:02:17  \n",
       "5      6  05:48:06  "
      ]
     },
     "execution_count": 37,
     "metadata": {},
     "output_type": "execute_result"
    }
   ],
   "source": [
    "valid_events.head()"
   ]
  },
  {
   "cell_type": "code",
   "execution_count": 38,
   "id": "a54dd49d",
   "metadata": {},
   "outputs": [],
   "source": [
    "valid_events_copy = valid_events.copy()\n",
    "items_copy = items.copy()"
   ]
  },
  {
   "cell_type": "code",
   "execution_count": 39,
   "id": "4d9be0d5",
   "metadata": {},
   "outputs": [
    {
     "data": {
      "text/plain": [
       "year\n",
       "2015    2500065\n",
       "Name: count, dtype: int64"
      ]
     },
     "execution_count": 39,
     "metadata": {},
     "output_type": "execute_result"
    }
   ],
   "source": [
    "valid_events_copy['year'] = valid_events_copy['timestamp'].dt.year\n",
    "valid_events_copy['year'].value_counts()"
   ]
  },
  {
   "cell_type": "code",
   "execution_count": 40,
   "id": "2525ef6b",
   "metadata": {},
   "outputs": [
    {
     "data": {
      "text/plain": [
       "day\n",
       "7     93224\n",
       "15    92868\n",
       "14    92815\n",
       "10    90308\n",
       "8     89339\n",
       "4     89120\n",
       "13    88613\n",
       "3     88607\n",
       "6     88225\n",
       "11    87965\n",
       "17    87057\n",
       "9     86915\n",
       "26    86467\n",
       "12    85788\n",
       "5     85492\n",
       "25    83470\n",
       "16    82933\n",
       "18    81337\n",
       "27    78461\n",
       "19    76578\n",
       "20    74663\n",
       "22    73617\n",
       "29    73269\n",
       "24    73189\n",
       "28    73110\n",
       "21    71432\n",
       "2     70236\n",
       "1     69688\n",
       "23    68575\n",
       "30    67851\n",
       "31    48853\n",
       "Name: count, dtype: int64"
      ]
     },
     "execution_count": 40,
     "metadata": {},
     "output_type": "execute_result"
    }
   ],
   "source": [
    "valid_events_copy['day'] = valid_events_copy['timestamp'].dt.day\n",
    "valid_events_copy['day'].value_counts()"
   ]
  },
  {
   "cell_type": "code",
   "execution_count": 41,
   "id": "82b45bff",
   "metadata": {},
   "outputs": [
    {
     "data": {
      "text/plain": [
       "year\n",
       "2015    20275902\n",
       "Name: count, dtype: int64"
      ]
     },
     "execution_count": 41,
     "metadata": {},
     "output_type": "execute_result"
    }
   ],
   "source": [
    "items_copy['year'] = items_copy['timestamp'].dt.year\n",
    "items_copy['year'].value_counts()"
   ]
  },
  {
   "cell_type": "code",
   "execution_count": 42,
   "id": "15fd088f",
   "metadata": {},
   "outputs": [
    {
     "data": {
      "text/plain": [
       "hour\n",
       "20    171152\n",
       "21    167770\n",
       "19    166539\n",
       "18    164535\n",
       "17    163319\n",
       "22    159575\n",
       "16    147186\n",
       "23    144253\n",
       "3     137050\n",
       "4     134232\n",
       "2     132072\n",
       "0     130550\n",
       "1     127115\n",
       "15    117193\n",
       "5     109004\n",
       "14     73525\n",
       "6      69885\n",
       "13     45828\n",
       "7      39811\n",
       "12     28164\n",
       "8      22743\n",
       "11     18092\n",
       "9      15840\n",
       "10     14632\n",
       "Name: count, dtype: int64"
      ]
     },
     "execution_count": 42,
     "metadata": {},
     "output_type": "execute_result"
    }
   ],
   "source": [
    "valid_events_copy['hour'] = valid_events_copy['timestamp'].dt.hour\n",
    "valid_events_copy['hour'].value_counts()"
   ]
  },
  {
   "cell_type": "code",
   "execution_count": 43,
   "id": "965ab2a1",
   "metadata": {
    "scrolled": true
   },
   "outputs": [
    {
     "data": {
      "text/html": [
       "<div>\n",
       "<style scoped>\n",
       "    .dataframe tbody tr th:only-of-type {\n",
       "        vertical-align: middle;\n",
       "    }\n",
       "\n",
       "    .dataframe tbody tr th {\n",
       "        vertical-align: top;\n",
       "    }\n",
       "\n",
       "    .dataframe thead th {\n",
       "        text-align: right;\n",
       "    }\n",
       "</style>\n",
       "<table border=\"1\" class=\"dataframe\">\n",
       "  <thead>\n",
       "    <tr style=\"text-align: right;\">\n",
       "      <th></th>\n",
       "      <th>timestamp</th>\n",
       "      <th>visitorid</th>\n",
       "      <th>event</th>\n",
       "      <th>itemid</th>\n",
       "      <th>transactionid</th>\n",
       "      <th>date</th>\n",
       "      <th>month</th>\n",
       "      <th>time</th>\n",
       "      <th>year</th>\n",
       "      <th>day</th>\n",
       "      <th>hour</th>\n",
       "    </tr>\n",
       "  </thead>\n",
       "  <tbody>\n",
       "    <tr>\n",
       "      <th>0</th>\n",
       "      <td>2015-06-02 05:02:12</td>\n",
       "      <td>257597</td>\n",
       "      <td>view</td>\n",
       "      <td>355908</td>\n",
       "      <td>0</td>\n",
       "      <td>2015-06-02</td>\n",
       "      <td>6</td>\n",
       "      <td>05:02:12</td>\n",
       "      <td>2015</td>\n",
       "      <td>2</td>\n",
       "      <td>5</td>\n",
       "    </tr>\n",
       "    <tr>\n",
       "      <th>1</th>\n",
       "      <td>2015-06-02 05:50:14</td>\n",
       "      <td>992329</td>\n",
       "      <td>view</td>\n",
       "      <td>248676</td>\n",
       "      <td>0</td>\n",
       "      <td>2015-06-02</td>\n",
       "      <td>6</td>\n",
       "      <td>05:50:14</td>\n",
       "      <td>2015</td>\n",
       "      <td>2</td>\n",
       "      <td>5</td>\n",
       "    </tr>\n",
       "    <tr>\n",
       "      <th>3</th>\n",
       "      <td>2015-06-02 05:12:35</td>\n",
       "      <td>483717</td>\n",
       "      <td>view</td>\n",
       "      <td>253185</td>\n",
       "      <td>0</td>\n",
       "      <td>2015-06-02</td>\n",
       "      <td>6</td>\n",
       "      <td>05:12:35</td>\n",
       "      <td>2015</td>\n",
       "      <td>2</td>\n",
       "      <td>5</td>\n",
       "    </tr>\n",
       "    <tr>\n",
       "      <th>4</th>\n",
       "      <td>2015-06-02 05:02:17</td>\n",
       "      <td>951259</td>\n",
       "      <td>view</td>\n",
       "      <td>367447</td>\n",
       "      <td>0</td>\n",
       "      <td>2015-06-02</td>\n",
       "      <td>6</td>\n",
       "      <td>05:02:17</td>\n",
       "      <td>2015</td>\n",
       "      <td>2</td>\n",
       "      <td>5</td>\n",
       "    </tr>\n",
       "    <tr>\n",
       "      <th>5</th>\n",
       "      <td>2015-06-02 05:48:06</td>\n",
       "      <td>972639</td>\n",
       "      <td>view</td>\n",
       "      <td>22556</td>\n",
       "      <td>0</td>\n",
       "      <td>2015-06-02</td>\n",
       "      <td>6</td>\n",
       "      <td>05:48:06</td>\n",
       "      <td>2015</td>\n",
       "      <td>2</td>\n",
       "      <td>5</td>\n",
       "    </tr>\n",
       "  </tbody>\n",
       "</table>\n",
       "</div>"
      ],
      "text/plain": [
       "            timestamp  visitorid event  itemid  transactionid        date  \\\n",
       "0 2015-06-02 05:02:12     257597  view  355908              0  2015-06-02   \n",
       "1 2015-06-02 05:50:14     992329  view  248676              0  2015-06-02   \n",
       "3 2015-06-02 05:12:35     483717  view  253185              0  2015-06-02   \n",
       "4 2015-06-02 05:02:17     951259  view  367447              0  2015-06-02   \n",
       "5 2015-06-02 05:48:06     972639  view   22556              0  2015-06-02   \n",
       "\n",
       "   month      time  year  day  hour  \n",
       "0      6  05:02:12  2015    2     5  \n",
       "1      6  05:50:14  2015    2     5  \n",
       "3      6  05:12:35  2015    2     5  \n",
       "4      6  05:02:17  2015    2     5  \n",
       "5      6  05:48:06  2015    2     5  "
      ]
     },
     "execution_count": 43,
     "metadata": {},
     "output_type": "execute_result"
    }
   ],
   "source": [
    "valid_events_copy.head()"
   ]
  },
  {
   "cell_type": "markdown",
   "id": "ad2e676c",
   "metadata": {},
   "source": [
    "> - Both the `event` and `items` data cover the year `2015` only."
   ]
  },
  {
   "cell_type": "markdown",
   "id": "ca1cd2e8",
   "metadata": {
    "id": "ca1cd2e8"
   },
   "source": [
    " "
   ]
  },
  {
   "cell_type": "markdown",
   "id": "019ea80d",
   "metadata": {
    "id": "019ea80d"
   },
   "source": [
    "## 3. Exploratory Data Analysis and Visualization<a id='eda'></a>\n",
    "\n",
    "[Move Up](#mu)"
   ]
  },
  {
   "cell_type": "markdown",
   "id": "5c5f241c",
   "metadata": {
    "id": "5c5f241c"
   },
   "source": [
    "Here, we will analyse the data and visualize to answer the questions below: \n",
    "\n",
    "1. What is the overall scale of the dataset (unique users & items)?\n",
    "\n",
    "2. What is the distribution of event types (view, add-to-cart, transaction)?\n",
    "\n",
    "3. What are the most popular items?\n",
    "\n",
    "4. How does item popularity vary across time: month and day?\n",
    "\n",
    "5. How many items are available?\n",
    "\n",
    "6. How active are users (number of interactions per user)?\n",
    "\n",
    "7. How active are items (number of users per item)?\n",
    "\n",
    "8. How do user interactions vary over time of day?\n",
    "\n",
    "9. What is the conversion rate from `view` to `addtocart` and from `addtocart` to `transaction`?"
   ]
  },
  {
   "cell_type": "markdown",
   "id": "beac7c4c",
   "metadata": {
    "id": "a3f5dd9e"
   },
   "source": [
    "#### 1. Overall distribution of data"
   ]
  },
  {
   "cell_type": "code",
   "execution_count": 44,
   "id": "e5036e25",
   "metadata": {},
   "outputs": [
    {
     "name": "stdout",
     "output_type": "stream",
     "text": [
      "Unique Users: 1236032, Unique Items: 185246\n"
     ]
    }
   ],
   "source": [
    "n_users = valid_events['visitorid'].nunique()\n",
    "n_items = valid_events['itemid'].nunique()\n",
    "print(f\"Unique Users: {n_users}, Unique Items: {n_items}\")\n"
   ]
  },
  {
   "cell_type": "markdown",
   "id": "e56921c1",
   "metadata": {},
   "source": [
    "> The dataset contains 1,236,032 unique users and 185,246 unique items, indicating a large-scale recommendation challenge. This highlights the importance of efficient algorithms to handle sparsity."
   ]
  },
  {
   "cell_type": "markdown",
   "id": "c7c92ee7",
   "metadata": {
    "id": "a3f5dd9e"
   },
   "source": [
    "#### 2. Overall distribution of event types"
   ]
  },
  {
   "cell_type": "code",
   "execution_count": 45,
   "id": "e54f1138",
   "metadata": {},
   "outputs": [
    {
     "data": {
      "image/png": "[encoded data removed]",
      "text/plain": [
       "<Figure size 1200x600 with 1 Axes>"
      ]
     },
     "metadata": {},
     "output_type": "display_data"
    }
   ],
   "source": [
    "ax = valid_events['event'].value_counts().plot(kind='bar', figsize=(12,6), edgecolor='black', color='violet')\n",
    "\n",
    "ax.yaxis.set_visible(False)\n",
    "for p in ax.patches:\n",
    "    ax.annotate(str(p.get_height()), \n",
    "                (p.get_x() + p.get_width() / 2, p.get_height()), \n",
    "                ha='center', va='bottom', fontsize=9)\n",
    "\n",
    "plt.title(\"Distribution of Events in Dataset\")\n",
    "plt.xlabel(\"Event Type\")\n",
    "plt.xticks(rotation=0)\n",
    "plt.show()\n"
   ]
  },
  {
   "cell_type": "markdown",
   "id": "f2e526b2",
   "metadata": {},
   "source": [
    "> `View` events dominate the dataset with over 2.4 million occurrences. In contrast, `addtocart` and `transaction` events are significantly less frequent. This tells us a lot about user behavior: most user interactions are simply browsing. Only a small fraction of views lead to an addtocart or a final transaction."
   ]
  },
  {
   "cell_type": "markdown",
   "id": "f0d60de7",
   "metadata": {
    "id": "a3f5dd9e"
   },
   "source": [
    "#### 3. Most popular items"
   ]
  },
  {
   "cell_type": "code",
   "execution_count": 46,
   "id": "02bd3596",
   "metadata": {},
   "outputs": [],
   "source": [
    "pop_item = valid_events['itemid'].value_counts().sort_values(ascending=False).head(10)"
   ]
  },
  {
   "cell_type": "code",
   "execution_count": 47,
   "id": "e04274bf",
   "metadata": {},
   "outputs": [
    {
     "data": {
      "image/png": "[encoded data removed]",
      "text/plain": [
       "<Figure size 1200x600 with 1 Axes>"
      ]
     },
     "metadata": {},
     "output_type": "display_data"
    }
   ],
   "source": [
    "plt.figure(figsize=(12,6))\n",
    "ax = pop_item.plot(kind='bar', color='violet')\n",
    "\n",
    "plt.title(f\"Top 10 most popular items\")\n",
    "plt.xlabel(\"Item ID\")\n",
    "plt.xticks(rotation=45)\n",
    "\n",
    "ax.yaxis.set_visible(False)\n",
    "\n",
    "for p in ax.patches:\n",
    "    ax.annotate(str(p.get_height()), \n",
    "                (p.get_x() + p.get_width() / 2, p.get_height()), \n",
    "                ha='center', va='bottom', fontsize=9)\n",
    "\n",
    "plt.show()"
   ]
  },
  {
   "cell_type": "markdown",
   "id": "c0ca6497",
   "metadata": {},
   "source": [
    "> The chart shows a clear hierarchy, with item 187946 being the most popular. The popularity then gradually decreases, but all the top 10 items have a significant number of interactions."
   ]
  },
  {
   "cell_type": "markdown",
   "id": "53c67af8",
   "metadata": {
    "id": "a3f5dd9e"
   },
   "source": [
    "#### 4.  Item popularity over time"
   ]
  },
  {
   "cell_type": "markdown",
   "id": "bd4beea2",
   "metadata": {
    "id": "a3f5dd9e"
   },
   "source": [
    "#####  4.1  Item popularity by month"
   ]
  },
  {
   "cell_type": "code",
   "execution_count": 48,
   "id": "f8861ec7",
   "metadata": {},
   "outputs": [
    {
     "data": {
      "image/png": "[encoded data removed]",
      "text/plain": [
       "<Figure size 1000x600 with 1 Axes>"
      ]
     },
     "metadata": {},
     "output_type": "display_data"
    }
   ],
   "source": [
    "monthly_pop = valid_events.groupby('month')['itemid'].count()\n",
    "\n",
    "plt.figure(figsize=(10,6))\n",
    "plt.plot(monthly_pop.index, monthly_pop.values, marker='o', linewidth=2)\n",
    "\n",
    "for x, y in zip(monthly_pop.index, monthly_pop.values):\n",
    "    plt.text(x, y+200, str(y), ha='center', fontsize=9)\n",
    "\n",
    "plt.title(\"Item Popularity Over Months (2015)\")\n",
    "plt.xlabel(\"Month\")\n",
    "plt.xticks(range(1,13))\n",
    "plt.gca().get_yaxis().set_visible(False)\n",
    "plt.grid(alpha=0.3)\n",
    "\n",
    "plt.show()\n"
   ]
  },
  {
   "cell_type": "markdown",
   "id": "29a26b59",
   "metadata": {},
   "source": [
    "> The graph shows a steep rise in item popularity, peaking in July with over 635,000 interactions. After July, there's a sharp decline in interactions through the latter part of the year. This could be due to seasonal trends, marketing campaigns, or a change in the product catalog."
   ]
  },
  {
   "cell_type": "markdown",
   "id": "e03e4a7f",
   "metadata": {
    "id": "a3f5dd9e"
   },
   "source": [
    "##### 4.2  Item popularity by day"
   ]
  },
  {
   "cell_type": "code",
   "execution_count": 49,
   "id": "4cd4d47c",
   "metadata": {},
   "outputs": [
    {
     "data": {
      "image/png": "[encoded data removed]",
      "text/plain": [
       "<Figure size 1200x800 with 1 Axes>"
      ]
     },
     "metadata": {},
     "output_type": "display_data"
    }
   ],
   "source": [
    "import scipy\n",
    "from scipy.signal import find_peaks\n",
    "pop_daily = valid_events_copy.groupby('day')['itemid'].count()\n",
    "\n",
    "plt.figure(figsize=(12,8))\n",
    "plt.plot(pop_daily.index, pop_daily.values, marker='o', markersize=3, linewidth=1, color= 'grey')\n",
    "\n",
    "\n",
    "peaks, _ = find_peaks(pop_daily.values, distance=5, prominence=500)\n",
    "\n",
    "valleys, _ = find_peaks(-pop_daily.values, distance=5, prominence=500)\n",
    "\n",
    "global_min_idx = pop_daily.idxmin()\n",
    "\n",
    "if pop_daily.index.get_loc(global_min_idx) not in valleys:\n",
    "    valleys = list(valleys) + [pop_daily.index.get_loc(global_min_idx)]\n",
    "\n",
    "\n",
    "for i in peaks:\n",
    "    plt.annotate(f\"{pop_daily.values[i]}\",\n",
    "                 xy=(pop_daily.index[i], pop_daily.values[i]),\n",
    "                 xytext=(pop_daily.index[i], pop_daily.values[i] + 500),\n",
    "                 arrowprops=dict(arrowstyle=\"->\", color=\"green\"),\n",
    "                 ha='center', fontsize=8, color=\"green\")\n",
    "\n",
    "\n",
    "for i in valleys:\n",
    "    plt.annotate(f\"{pop_daily.values[i]}\",\n",
    "                 xy=(pop_daily.index[i], pop_daily.values[i]),\n",
    "                 xytext=(pop_daily.index[i], pop_daily.values[i] + 500),\n",
    "                 arrowprops=dict(arrowstyle=\"->\", color=\"red\"),\n",
    "                 ha='center', fontsize=8, color=\"red\")\n",
    "\n",
    "\n",
    "plt.title(\"Daily Popularity of Items (2015)\")\n",
    "plt.xlabel(\"Date(day)\")\n",
    "plt.xticks(rotation=45)\n",
    "plt.gca().get_yaxis().set_visible(False)\n",
    "plt.grid(alpha=0.3)\n",
    "\n",
    "plt.show()\n"
   ]
  },
  {
   "cell_type": "markdown",
   "id": "dbf54425",
   "metadata": {},
   "source": [
    "> The graph shows clear fluctuations. There are peaks around the 5th and 15th of the month , followed by troughs around the 23rd. This suggests that user activity is not uniform throughout the month."
   ]
  },
  {
   "cell_type": "markdown",
   "id": "6b22baa2",
   "metadata": {
    "id": "a3f5dd9e"
   },
   "source": [
    "#### 5.  Items available"
   ]
  },
  {
   "cell_type": "code",
   "execution_count": 50,
   "id": "07df2f09",
   "metadata": {
    "scrolled": true
   },
   "outputs": [
    {
     "data": {
      "text/plain": [
       "640553"
      ]
     },
     "execution_count": 50,
     "metadata": {},
     "output_type": "execute_result"
    }
   ],
   "source": [
    "len(items[(items['property'] == 'available') & (items['value'] == '1')])\n"
   ]
  },
  {
   "cell_type": "markdown",
   "id": "1e3f3fa4",
   "metadata": {},
   "source": [
    "> A large number of items, `640,553`, are available."
   ]
  },
  {
   "cell_type": "markdown",
   "id": "e24662a6",
   "metadata": {
    "id": "a3f5dd9e"
   },
   "source": [
    "#### 6.  Most active users"
   ]
  },
  {
   "cell_type": "code",
   "execution_count": 51,
   "id": "35fd769e",
   "metadata": {
    "id": "a3f5dd9e",
    "scrolled": true
   },
   "outputs": [
    {
     "data": {
      "image/png": "[encoded data removed]",
      "text/plain": [
       "<Figure size 1200x600 with 1 Axes>"
      ]
     },
     "metadata": {},
     "output_type": "display_data"
    }
   ],
   "source": [
    "active_users = valid_events['visitorid'].value_counts().head(10)\n",
    "\n",
    "plt.figure(figsize=(12,6))\n",
    "bars = plt.bar(active_users.index.astype(str), active_users.values, color='pink')\n",
    "\n",
    "for bar in bars:\n",
    "    plt.text(bar.get_x() + bar.get_width()/2, \n",
    "             bar.get_height(), \n",
    "             str(bar.get_height()), \n",
    "             ha='center', va='bottom', fontsize=9)\n",
    "\n",
    "plt.xticks(rotation=45)\n",
    "plt.title(\"Top 10 Most Active Users\")\n",
    "plt.xlabel(\"User ID\")\n",
    "plt.gca().get_yaxis().set_visible(False)\n",
    "plt.grid(axis='y', alpha=0.3)\n",
    "plt.show()"
   ]
  },
  {
   "cell_type": "markdown",
   "id": "b43debb4-dd89-421a-a70e-9a4f72d7069a",
   "metadata": {},
   "source": [
    "> The chart shows that user activity also follows a skewed distribution. The top user, 1150086, has a significantly higher number of interactions (over 6,600) compared to the others. This suggests the presence of a few highly engaged \"power users\" who are valuable for our system."
   ]
  },
  {
   "cell_type": "markdown",
   "id": "0fd376ef",
   "metadata": {
    "id": "a3f5dd9e"
   },
   "source": [
    "#### 7.  Items with most interactions"
   ]
  },
  {
   "cell_type": "code",
   "execution_count": 52,
   "id": "dd219ee6",
   "metadata": {
    "scrolled": true
   },
   "outputs": [
    {
     "data": {
      "image/png": "[encoded data removed]",
      "text/plain": [
       "<Figure size 1000x500 with 1 Axes>"
      ]
     },
     "metadata": {},
     "output_type": "display_data"
    }
   ],
   "source": [
    "item_activity = valid_events.groupby('itemid')['visitorid'].count()\n",
    "\n",
    "plt.figure(figsize=(10,5))\n",
    "plt.hist(item_activity, bins=50, log=True, color='grey')\n",
    "plt.title(\"Distribution of Item Activity\")\n",
    "plt.xlabel(\"Number of Users per Item\")\n",
    "plt.ylabel(\"Item Count (log scale)\")\n",
    "plt.show()\n"
   ]
  },
  {
   "cell_type": "markdown",
   "id": "f27f216d-44a2-4a57-836f-560947dc7756",
   "metadata": {},
   "source": [
    "> The chart above shows that a vast majority of items have very few interactions. The x-axis represents the number of users who interacted with an item, and the y-axis is on a log scale, making the high skew even more apparent. This indicates a \"long tail\" phenomenon, where a small number of items are very popular, and a large number of items are rarely seen."
   ]
  },
  {
   "cell_type": "markdown",
   "id": "bdc400ec",
   "metadata": {
    "id": "a3f5dd9e"
   },
   "source": [
    "#### 8.  User interactions over time of day"
   ]
  },
  {
   "cell_type": "code",
   "execution_count": 53,
   "id": "a4516afc",
   "metadata": {},
   "outputs": [
    {
     "data": {
      "image/png": "[encoded data removed]",
      "text/plain": [
       "<Figure size 1200x500 with 1 Axes>"
      ]
     },
     "metadata": {},
     "output_type": "display_data"
    }
   ],
   "source": [
    "hourly_activity = valid_events_copy.groupby('hour')['itemid'].count()\n",
    "\n",
    "plt.figure(figsize=(12,5))\n",
    "plt.plot(hourly_activity.index, hourly_activity.values, marker='o')\n",
    "\n",
    "\n",
    "peaks, _ = find_peaks(hourly_activity.values, distance=1, prominence=5)\n",
    "valleys, _ = find_peaks(-hourly_activity.values, distance=1, prominence=5)\n",
    "\n",
    "# Always include global max and min\n",
    "global_max_idx = hourly_activity.idxmax()\n",
    "global_min_idx = hourly_activity.idxmin()\n",
    "\n",
    "if hourly_activity.index.get_loc(global_max_idx) not in peaks:\n",
    "    peaks = list(peaks) + [hourly_activity.index.get_loc(global_max_idx)]\n",
    "if hourly_activity.index.get_loc(global_min_idx) not in valleys:\n",
    "    valleys = list(valleys) + [hourly_activity.index.get_loc(global_min_idx)]\n",
    "\n",
    "# Annotate peaks\n",
    "for i in peaks:\n",
    "    plt.scatter(hourly_activity.index[i], hourly_activity.values[i], color=\"green\", s=50, zorder=3)\n",
    "    plt.text(hourly_activity.index[i], hourly_activity.values[i] + 3, \n",
    "             f\"{hourly_activity.values[i]}\", ha='center', fontsize=8, color=\"green\")\n",
    "\n",
    "# Annotate valleys\n",
    "for i in valleys:\n",
    "    plt.scatter(hourly_activity.index[i], hourly_activity.values[i], color=\"red\", s=50, zorder=3)\n",
    "    plt.text(hourly_activity.index[i], hourly_activity.values[i] + 3, \n",
    "             f\"{hourly_activity.values[i]}\", ha='center', fontsize=8, color=\"red\")\n",
    "\n",
    "plt.title(\"User Activity by Hour of Day\")\n",
    "plt.xlabel(\"Hour of Day\")\n",
    "plt.gca().get_yaxis().set_visible(False)\n",
    "plt.grid(alpha=0.3)\n",
    "plt.show()\n"
   ]
  },
  {
   "cell_type": "markdown",
   "id": "b6ad918d",
   "metadata": {},
   "source": [
    ">  The line graph shows a clear, cyclical pattern. User activity is at its lowest around 10 AM and gradually increases throughout the day, peaking around 8 PM. It then slowly decreases overnight."
   ]
  },
  {
   "cell_type": "markdown",
   "id": "420a6157-1cbc-4cc6-942e-21b1dee27cec",
   "metadata": {
    "id": "a3f5dd9e"
   },
   "source": [
    "#### 9.  Event Conversion Rates"
   ]
  },
  {
   "cell_type": "code",
   "execution_count": 54,
   "id": "e047b591-0a82-47a5-bce0-cdcb3e5cfeb5",
   "metadata": {},
   "outputs": [
    {
     "name": "stdout",
     "output_type": "stream",
     "text": [
      "Viewsto AddToCart Conversion Rate: 2.83%\n",
      "Views to Transactions Conversion Rate: 0.91%\n",
      "AddToCart to Transactions Conversion Rate: 32.26%\n"
     ]
    }
   ],
   "source": [
    "# Filter the events\n",
    "views = valid_events[valid_events['event'] == 'view']\n",
    "addtocart = valid_events[valid_events['event'] == 'addtocart']\n",
    "transactions = valid_events[valid_events['event'] == 'transaction']\n",
    "\n",
    "# Calculate the conversion rates\n",
    "views_to_addtocart_rate = (len(addtocart) / len(views)) * 100\n",
    "views_to_transactions_rate = (len(transactions) / len(views)) * 100\n",
    "addtocart_to_transactions_rate = (len(transactions) / len(addtocart)) * 100\n",
    "\n",
    "print(f\"Viewsto AddToCart Conversion Rate: {views_to_addtocart_rate:.2f}%\")\n",
    "print(f\"Views to Transactions Conversion Rate: {views_to_transactions_rate:.2f}%\")\n",
    "print(f\"AddToCart to Transactions Conversion Rate: {addtocart_to_transactions_rate:.2f}%\")"
   ]
  },
  {
   "cell_type": "markdown",
   "id": "55da9c08-bb69-4373-8c84-b19a5b572157",
   "metadata": {},
   "source": [
    "> - The majority of users (over 97%) who view a product page do not add the item to their cart.\n",
    "> - Only a small fraction of all user views ultimately result in a transaction.\n",
    "> - Once a user adds an item to their cart, there's a good chance (about 32%) that they will complete the purchase. This suggests that the checkout process is relatively smooth and doesn't have major roadblocks."
   ]
  },
  {
   "cell_type": "markdown",
   "id": "b65900da-cdeb-499c-9ee4-a2bc4c89ecb4",
   "metadata": {},
   "source": [
    " "
   ]
  },
  {
   "cell_type": "markdown",
   "id": "cd013924",
   "metadata": {
    "id": "cd013924"
   },
   "source": [
    " "
   ]
  },
  {
   "cell_type": "markdown",
   "id": "061accff",
   "metadata": {
    "id": "061accff"
   },
   "source": [
    " "
   ]
  },
  {
   "cell_type": "markdown",
   "id": "5c4bb1cb",
   "metadata": {},
   "source": [
    "### 4. Export Data<a id='ed'></a>"
   ]
  },
  {
   "cell_type": "code",
   "execution_count": 56,
   "id": "820657b8",
   "metadata": {},
   "outputs": [],
   "source": [
    "valid_events.to_csv('../Data/valid_events_cleaned.csv')\n",
    "items.to_csv('../Data/merged_items.csv')"
   ]
  },
  {
   "cell_type": "markdown",
   "id": "c5a0cfbb",
   "metadata": {
    "id": "c5a0cfbb"
   },
   "source": [
    " "
   ]
  },
  {
   "cell_type": "markdown",
   "id": "156a13c7",
   "metadata": {
    "id": "156a13c7"
   },
   "source": [
    " "
   ]
  },
  {
   "cell_type": "markdown",
   "id": "f267e87c-dbf8-4b6b-98a0-b4928ee3078f",
   "metadata": {},
   "source": [
    "### 5. Conclusion<a id='ed'></a>"
   ]
  },
  {
   "cell_type": "markdown",
   "id": "1c6a3124",
   "metadata": {
    "id": "1c6a3124"
   },
   "source": [
    "This analysis of e-commerce Data, for the year 2015, has provided valuable insights into user behavior, item popularity, and market dynamics that helped us define the core challenges and opportunities of this project. Leveraging the CRISP-DM methodology, we have cleaned, preprocessed, and explored the dataset to uncover key insights that are crucial in guiding our strategy for building a recommendation system. \n",
    "\n",
    "\n",
    "**Key Insights from Exploratory Data Analysis (EDA)**\n",
    "1. The Imbalanced Sales Funnel \n",
    "\n",
    "The most striking finding was the stark imbalance in our event data. While user interactions were abundant, the vast majority were passive views, accounting for over 97% of all events. In contrast, the conversion rates from a view to an addtocart were low (2.83%), and even lower from a view to a final transaction (0.91%).\n",
    "\n",
    "This insight told us that our biggest challenge wasn't just recommending popular items but, more specifically, identifying the subtle cues that signal a user's genuine interest. A simple popularity-based recommender would be ineffective here, as it would fail to address the core problem of converting passive browsing into active engagement.\n",
    "** **\n",
    "\n",
    "2. The Long Tail of Activity \n",
    "\n",
    "Our analysis of both user and item activity revealed a classic \"long-tail\" distribution. A small number of power users and a few highly popular items dominated the dataset.  This meant that the vast majority of our catalog and user base were underrepresented. A recommendation system that only focuses on the most popular items would miss a significant portion of our potential sales and user interests. This finding solidified our decision to build a content-based model, which can effectively recommend from the long tail by understanding the properties of the items themselves.\n",
    "** **\n",
    "\n",
    "3.  Temporal and Seasonal Patterns \n",
    "\n",
    "We identified clear, predictable patterns in user activity. On a daily basis, user engagement peaked in the late evening, while on a monthly basis, we saw a surge in activity during the month of July. This cyclical behavior suggests that a real-time system could be even more effective by incorporating the time of day and month as features, tailoring recommendations to when users are most active.\n",
    "** **\n",
    "\n",
    "4. The Need for a Predictive Model \n",
    "\n",
    "The culmination of these insights—the imbalanced funnel, the long-tail problem, and the temporal patterns—demonstrated that a static, rule-based system would not be enough. We needed a model that could learn from these complex, non-linear relationships. This led us to our solution: a Random Forest Classifier. This model is perfectly suited to handle a large number of features and can learn to predict the specific likelihood of a user \"liking\" an item, effectively tackling our challenge of converting passive users into engaged customers."
   ]
  }
 ],
 "metadata": {
  "colab": {
   "provenance": []
  },
  "kernelspec": {
   "display_name": "Python 3 (ipykernel)",
   "language": "python",
   "name": "python3"
  },
  "language_info": {
   "codemirror_mode": {
    "name": "ipython",
    "version": 3
   },
   "file_extension": ".py",
   "mimetype": "text/x-python",
   "name": "python",
   "nbconvert_exporter": "python",
   "pygments_lexer": "ipython3",
   "version": "3.11.13"
  }
 },
 "nbformat": 4,
 "nbformat_minor": 5
}
